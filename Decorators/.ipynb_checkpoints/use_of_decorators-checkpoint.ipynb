{
 "cells": [
  {
   "cell_type": "code",
   "execution_count": 4,
   "id": "9ae08c25",
   "metadata": {},
   "outputs": [
    {
     "name": "stdout",
     "output_type": "stream",
     "text": [
      "Operations before the function run\n",
      "Function is working\n",
      "Operations after the function run\n"
     ]
    }
   ],
   "source": [
    "def decorator(func):\n",
    "    def wrapper():\n",
    "        print(\"Operations before the function run\")\n",
    "        func()\n",
    "        print(\"Operations after the function run\")\n",
    "    return wrapper\n",
    "\n",
    "@decorator\n",
    "def function():\n",
    "    print(\"Function is working\")\n",
    "    \n",
    "\n",
    "function()\n",
    "##Decorator'un çalışma prensibi bu şekildedir."
   ]
  },
  {
   "cell_type": "code",
   "execution_count": 22,
   "id": "71540f98",
   "metadata": {},
   "outputs": [
    {
     "name": "stdout",
     "output_type": "stream",
     "text": [
      "30\n",
      "The processes took 1.000978946685791 seconds\n"
     ]
    }
   ],
   "source": [
    "import time\n",
    "def calculate_time(func):\n",
    "    def wrapper(*args,**kwargs):\n",
    "        beginning = time.time()\n",
    "        func(*args,**kwargs)\n",
    "        end = time.time()\n",
    "        print(f\"The processes took {end - beginning} seconds\")\n",
    "    return wrapper\n",
    "@calculate_time\n",
    "def take_squares(list1):\n",
    "    for i in list1:\n",
    "        print(i * i)\n",
    "        \n",
    "@calculate_time\n",
    "def take_cubes(list1):\n",
    "    for i in list1:\n",
    "        print(i ** 3)\n",
    "        \n",
    "@calculate_time\n",
    "def add(a,b):\n",
    "    time.sleep(1) ## İşlem kısa süreceği için 1 saniye biz ekliyoruz.\n",
    "    \n",
    "    print(a + b)\n",
    "\n",
    "#take_squares(range(100000)) ## 100 bine kadar karelerini alıp en son işlemin ne kadar sürdüğünü söylüyor.\n",
    "#take_cubes(range(100000)) ## 100 bine kadar küplerini alıp en son işlemin ne kadar sürdüğünü söylüyor.\n",
    "add(10,20)"
   ]
  },
  {
   "cell_type": "code",
   "execution_count": 10,
   "id": "cb3c26d8",
   "metadata": {},
   "outputs": [
    {
     "name": "stdout",
     "output_type": "stream",
     "text": [
      "The processes took 0.0 seconds\n"
     ]
    }
   ],
   "source": [
    "import time\n",
    "def calculate_time2(func):\n",
    "    def wrapper(*args,**kwargs):\n",
    "        beginning = time.time()\n",
    "        func(*args,**kwargs)\n",
    "        end = time.time()\n",
    "        print(f\"The processes took {end - beginning} seconds\")\n",
    "              \n",
    "    return wrapper\n",
    "\n",
    "@calculate_time2\n",
    "def take_squares2(list1):\n",
    "    result = []\n",
    "    for i in list1:\n",
    "        result.append(i * i)\n",
    "    return result\n",
    "\n",
    "@calculate_time2\n",
    "def take_cubes2(list1):\n",
    "    result = []\n",
    "    for i in list1:\n",
    "        result.append(i ** 3)\n",
    "    return result\n",
    "\n",
    "@calculate_time2\n",
    "def add(*args):\n",
    "    time.sleep(1) ## İşlem kısa süreceği için 1 saniye biz ekliyoruz.\n",
    "    return sum(args)\n",
    "\n",
    "take_cubes2(range(100)) ## Böyle çalıştırdığımızda result'ı herhangi bir değere atamadığımızdan kayboldu ve result gözükmüyor."
   ]
  },
  {
   "cell_type": "code",
   "execution_count": 20,
   "id": "70645c31",
   "metadata": {},
   "outputs": [
    {
     "name": "stdout",
     "output_type": "stream",
     "text": [
      "The processes took 0.0 seconds\n",
      "[0, 1, 8, 27, 64, 125, 216, 343, 512, 729]\n",
      "**\n",
      "The processes took 0.0 seconds\n",
      "[0, 1, 4, 9, 16]\n",
      "**\n",
      "The processes took 1.0006515979766846 seconds\n"
     ]
    },
    {
     "data": {
      "text/plain": [
       "9"
      ]
     },
     "execution_count": 20,
     "metadata": {},
     "output_type": "execute_result"
    }
   ],
   "source": [
    "## Burada yukarıdaki işlemi nasıl halledebilceğimizi göstericez.\n",
    "import time\n",
    "def calculate_time2(func):\n",
    "    def wrapper(*args,**kwargs):\n",
    "        beginning = time.time()\n",
    "        result = func(*args,**kwargs)\n",
    "        end = time.time()\n",
    "        print(f\"The processes took {end - beginning} seconds\")\n",
    "        return result      \n",
    "    return wrapper\n",
    "\n",
    "@calculate_time2\n",
    "def take_squares2(list1):\n",
    "    result = []\n",
    "    for i in list1:\n",
    "        result.append(i * i)\n",
    "    return result\n",
    "\n",
    "@calculate_time2\n",
    "def take_cubes2(list1):\n",
    "    result = []\n",
    "    for i in list1:\n",
    "        result.append(i ** 3)\n",
    "    return result\n",
    "\n",
    "@calculate_time2\n",
    "def add(*args):\n",
    "    time.sleep(1) ## İşlem kısa süreceği için 1 saniye biz ekliyoruz.\n",
    "    return sum(args)\n",
    "\n",
    "print(take_cubes2(range(10)))\n",
    "print(\"**\")\n",
    "print(take_squares2(range(5)))\n",
    "print(\"**\")\n",
    "add(2,3,4)"
   ]
  }
 ],
 "metadata": {
  "kernelspec": {
   "display_name": "Python 3 (ipykernel)",
   "language": "python",
   "name": "python3"
  },
  "language_info": {
   "codemirror_mode": {
    "name": "ipython",
    "version": 3
   },
   "file_extension": ".py",
   "mimetype": "text/x-python",
   "name": "python",
   "nbconvert_exporter": "python",
   "pygments_lexer": "ipython3",
   "version": "3.11.3"
  }
 },
 "nbformat": 4,
 "nbformat_minor": 5
}
