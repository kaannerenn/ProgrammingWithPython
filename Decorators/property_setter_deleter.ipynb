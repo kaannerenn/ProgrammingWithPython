{
 "cells": [
  {
   "cell_type": "code",
   "execution_count": 4,
   "id": "32742b0d",
   "metadata": {},
   "outputs": [
    {
     "name": "stdout",
     "output_type": "stream",
     "text": [
      "Ahmet\n",
      "Yılmaz\n",
      "Ali Yılmaz\n",
      "Ahmet.Yılmaz@company.com\n"
     ]
    }
   ],
   "source": [
    "class Person:\n",
    "    def __init__(self,name,surname):\n",
    "        self.name = name\n",
    "        self.surname = surname\n",
    "        self.name_surname = name + \" \" + surname\n",
    "        \n",
    "    def email(self):\n",
    "        return f\"{self.name}.{self.surname}@company.com\"\n",
    "    \n",
    "person1 = Person(\"Ali\",\"Yılmaz\")\n",
    "\n",
    "person1.name = \"Ahmet\" ## Bu şekilde sonradan bi atamayla self.name self.surname ve email kısmı değişti fakat self.name_surname\n",
    "# kısmı değişmedi. Bu problemi email gibi bir method daha oluşturarak çözebiliriz. Fakat büyük ölçekli programlarda bu bizi zorlar.\n",
    "#Bunun için property decorator'unu kullanıcaz. \n",
    "\n",
    "print(person1.name) ## name,surname,name_surname bir attribute olduğu için parantezsiz şekilde bunlara ulaşabiliriz.\n",
    "print(person1.surname)\n",
    "print(person1.name_surname)\n",
    "print(person1.email()) ## Ama email bir method olarak tanımlandığı için bu şekilde parantez koyarak çalıştırmalıyız.\n"
   ]
  },
  {
   "cell_type": "code",
   "execution_count": 9,
   "id": "90333b29",
   "metadata": {},
   "outputs": [
    {
     "name": "stdout",
     "output_type": "stream",
     "text": [
      "Ahmet\n",
      "Yılmaz\n",
      "Ahmet Yılmaz\n",
      "Ahmet.Yılmaz@company.com\n"
     ]
    }
   ],
   "source": [
    "#property\n",
    "class Person:\n",
    "    def __init__(self,name,surname):\n",
    "        self.name = name\n",
    "        self.surname = surname\n",
    "        #self.name_surname = name + \" \" + surname\n",
    "        \n",
    "    @property ##Bu şekilde property kullanırsak bu bizim methodumuza attribute şeklinde yaklaşmamızı sağlar. Yani parantez kullanmayız.\n",
    "    def name_surname(self):\n",
    "        return f\"{self.name} {self.surname}\"\n",
    "    ##İstersek aynısını email kısmı içinde yapabiliriz. Anlaşılır olması kısmından yapmadım.\n",
    "    def email(self):\n",
    "        return f\"{self.name}.{self.surname}@company.com\"\n",
    "    \n",
    "person1 = Person(\"Ali\",\"Yılmaz\")\n",
    "\n",
    "person1.name = \"Ahmet\" \n",
    "\n",
    "#person1.name_surname = \"Ali Yavaş\" ##Property decorator'u kullandıgımızda bunun getireceği bir sonuç var.\n",
    "## can't set attribute hatası alırız. Çünkü böyle bir özellik yok. Bu bir method. Fakat setter kullanarak ayarlayabiliriz.\n",
    "print(person1.name)\n",
    "print(person1.surname)\n",
    "print(person1.name_surname)\n",
    "print(person1.email()) "
   ]
  },
  {
   "cell_type": "code",
   "execution_count": 29,
   "id": "d9e0d179",
   "metadata": {},
   "outputs": [
    {
     "name": "stdout",
     "output_type": "stream",
     "text": [
      "Ali\n",
      "Yavaş\n",
      "Ali Yavaş\n",
      "Ali.Yavaş@company.com\n"
     ]
    }
   ],
   "source": [
    "#setter\n",
    "class Person:\n",
    "    def __init__(self,name,surname):\n",
    "        self.name = name\n",
    "        self.surname = surname\n",
    "        #self.name_surname = name + \" \" + surname\n",
    "        \n",
    "    @property\n",
    "    def name_surname(self):\n",
    "        return f\"{self.name} {self.surname}\"\n",
    "    \n",
    "    def email(self):\n",
    "        return f\"{self.name}.{self.surname}@company.com\"\n",
    "    \n",
    "    @name_surname.setter ##setter kullanımı ise bu şekilde örneklenebilir.Property kullandığımızda çoğunlukla setterda kullanırız\n",
    "    def name_surname(self,entered_name_surname):\n",
    "        name,surname = entered_name_surname.split(\" \")\n",
    "        self.name = name\n",
    "        self.surname = surname\n",
    "    \n",
    "person1 = Person(\"Ali\",\"Yılmaz\")\n",
    "#del person1 # Eğer bu şekilde person1'i silmeye çalışırsak hata verir. Çünkü person1 sildik fakat devamında person1 üstünde\n",
    "#işlem yapmaya çalışıyoruz.\n",
    "person1.name = \"Ahmet\" \n",
    "\n",
    "person1.name_surname = \"Ali Yavaş\" \n",
    "#del person1.name # Şeklinde de silmeye çalışırsak hata alırız. Çünkü daha sonra person1.name yazdırmaya çalışıyoruz\n",
    "print(person1.name)\n",
    "print(person1.surname)\n",
    "print(person1.name_surname)\n",
    "print(person1.email()) "
   ]
  },
  {
   "cell_type": "code",
   "execution_count": 31,
   "id": "88a362e5",
   "metadata": {},
   "outputs": [
    {
     "name": "stdout",
     "output_type": "stream",
     "text": [
      "silindi\n",
      "None\n",
      "None\n",
      "None None\n",
      "None.None@company.com\n"
     ]
    }
   ],
   "source": [
    "#deleter\n",
    "#setter\n",
    "class Person:\n",
    "    def __init__(self,name,surname):\n",
    "        self.name = name\n",
    "        self.surname = surname\n",
    "        #self.name_surname = name + \" \" + surname\n",
    "        \n",
    "    @property\n",
    "    def name_surname(self):\n",
    "        return f\"{self.name} {self.surname}\"\n",
    "    \n",
    "    def email(self):\n",
    "        return f\"{self.name}.{self.surname}@company.com\"\n",
    "    \n",
    "    @name_surname.setter \n",
    "    def name_surname(self,entered_name_surname):\n",
    "        name,surname = entered_name_surname.split(\" \")\n",
    "        self.name = name\n",
    "        self.surname = surname\n",
    "    \n",
    "    @name_surname.deleter\n",
    "    def name_surname(self):\n",
    "        print(\"silindi\")\n",
    "        self.name = None\n",
    "        self.surname = None\n",
    "\n",
    "person1 = Person(\"Ali\",\"Yılmaz\")\n",
    "\n",
    "person1.name = \"Ahmet\" \n",
    "\n",
    "person1.name_surname = \"Ali Yavaş\" \n",
    "\n",
    "del person1.name_surname\n",
    "\n",
    "print(person1.name)\n",
    "print(person1.surname)\n",
    "print(person1.name_surname)\n",
    "print(person1.email()) "
   ]
  },
  {
   "cell_type": "code",
   "execution_count": null,
   "id": "73b8c817",
   "metadata": {},
   "outputs": [],
   "source": [
    "'''Bu 3 methodda aynı name_surname ismine sahip. Eğer biz özelliklerine (attribute) erişmek istediğimizde proper decoratoru\n",
    "çalışır. Eğer atama yapmak istersek setter decoratoru çalışır. Eğer bir del ile herhangi bir şey silmek istersek deleter\n",
    "decoratoru çalışır.'''"
   ]
  }
 ],
 "metadata": {
  "kernelspec": {
   "display_name": "Python 3 (ipykernel)",
   "language": "python",
   "name": "python3"
  },
  "language_info": {
   "codemirror_mode": {
    "name": "ipython",
    "version": 3
   },
   "file_extension": ".py",
   "mimetype": "text/x-python",
   "name": "python",
   "nbconvert_exporter": "python",
   "pygments_lexer": "ipython3",
   "version": "3.11.3"
  }
 },
 "nbformat": 4,
 "nbformat_minor": 5
}
