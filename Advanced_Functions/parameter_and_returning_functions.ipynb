{
 "cells": [
  {
   "cell_type": "code",
   "execution_count": 5,
   "id": "e85e67f9",
   "metadata": {},
   "outputs": [
    {
     "name": "stdout",
     "output_type": "stream",
     "text": [
      "9\n",
      "<function fonk at 0x0000017FF8086160>\n",
      "25\n"
     ]
    }
   ],
   "source": [
    "def fonk(x):\n",
    "    return x*x\n",
    "\n",
    "a = fonk(3)\n",
    "print(a)\n",
    "b = fonk\n",
    "print(b)\n",
    "print(b(5))"
   ]
  },
  {
   "cell_type": "code",
   "execution_count": 12,
   "id": "bce8da7f",
   "metadata": {},
   "outputs": [
    {
     "name": "stdout",
     "output_type": "stream",
     "text": [
      "<function select_process.<locals>.add at 0x0000017FF91FD4E0>\n",
      "10\n",
      "****\n",
      "<function select_process.<locals>.multiply at 0x0000017FF9328B80>\n",
      "150\n",
      "****\n",
      "<function select_process.<locals>.average at 0x0000017FF9328AE0>\n",
      "6.0\n"
     ]
    }
   ],
   "source": [
    "##Fonksiyonlardan fonksiyon döndürme\n",
    "def select_process(process):\n",
    "    def add(*args):\n",
    "        total = 0\n",
    "        for arg in args:\n",
    "            total += arg\n",
    "        return total\n",
    "    \n",
    "    def multiply(*args):\n",
    "        product = 1\n",
    "        for arg in args:\n",
    "            product *= arg\n",
    "        return product\n",
    "    \n",
    "    def average(*args):\n",
    "        return sum(args) / len(args)\n",
    "    \n",
    "    if process == \"addition\":\n",
    "        return add\n",
    "    elif process == \"multiply\":\n",
    "        return multiply\n",
    "    elif process == \"average\":\n",
    "        return average\n",
    "\n",
    "add_func = select_process(\"addition\")\n",
    "print(add_func)\n",
    "print(add_func(2,3,5))\n",
    "print(\"****\")\n",
    "multiply_func = select_process(\"multiply\")\n",
    "print(multiply_func)\n",
    "print(multiply_func(3,5,10))\n",
    "print(\"****\")\n",
    "average_func = select_process(\"average\")\n",
    "print(average_func)\n",
    "print(average_func(3,5,9,7))"
   ]
  },
  {
   "cell_type": "code",
   "execution_count": 20,
   "id": "9f9c2cde",
   "metadata": {},
   "outputs": [
    {
     "name": "stdout",
     "output_type": "stream",
     "text": [
      "Ali  Beşiktaş  takımını tutuyor\n",
      "Mehmet  Fenerbahçe  takımını tutuyor\n"
     ]
    }
   ],
   "source": [
    "##Fonksiyonlardan fonksiyon döndürme\n",
    "def select_person(person):\n",
    "    def select_team(team):\n",
    "        return f\"{person}  {team}  takımını tutuyor\"\n",
    "    return select_team\n",
    "\n",
    "a = select_person(\"Ali\")\n",
    "b = select_person(\"Mehmet\")\n",
    "\n",
    "print(a(\"Beşiktaş\"))\n",
    "print(b(\"Fenerbahçe\"))"
   ]
  },
  {
   "cell_type": "code",
   "execution_count": 22,
   "id": "d4fa85da",
   "metadata": {},
   "outputs": [
    {
     "name": "stdout",
     "output_type": "stream",
     "text": [
      "8\n",
      "15\n"
     ]
    }
   ],
   "source": [
    "##Parametre olarak fonksiyon gönderme\n",
    "def add(x,y):\n",
    "    return x+y\n",
    "def multiply(x,y):\n",
    "    return x*y\n",
    "\n",
    "def islem_yap(fonk,a,b): ## fonksiyonu parametre olarak gönderirken parantez koymamalıyız.\n",
    "    return fonk(a,b)\n",
    "\n",
    "print(islem_yap(add,3,5))\n",
    "print(islem_yap(multiply,3,5))"
   ]
  },
  {
   "cell_type": "code",
   "execution_count": 25,
   "id": "d900e051",
   "metadata": {},
   "outputs": [
    {
     "name": "stdout",
     "output_type": "stream",
     "text": [
      "[1, 9, 16, 25, 49, 64, 144]\n",
      "[1, 8, 27, 64, 125]\n"
     ]
    }
   ],
   "source": [
    "## liste = [1,2,3,4,5,6,7,8]\n",
    "## fonk = x*x\n",
    "## sonuc = [1,4,9,16,26,36,49,64]\n",
    "\n",
    "list1 = [1,2,3,4,5]\n",
    "list2 = [1,3,4,5,7,8,12]\n",
    "\n",
    "def square(x):\n",
    "    return x*x\n",
    "def cube(x):\n",
    "    return x ** 3\n",
    "\n",
    "def map_fonk(fonk,liste): \n",
    "    result = []\n",
    "    for i in liste:\n",
    "        result.append(fonk(i))\n",
    "    return result\n",
    "\n",
    "print(map_fonk(square,list2))\n",
    "print(map_fonk(cube,list1))"
   ]
  }
 ],
 "metadata": {
  "kernelspec": {
   "display_name": "Python 3 (ipykernel)",
   "language": "python",
   "name": "python3"
  },
  "language_info": {
   "codemirror_mode": {
    "name": "ipython",
    "version": 3
   },
   "file_extension": ".py",
   "mimetype": "text/x-python",
   "name": "python",
   "nbconvert_exporter": "python",
   "pygments_lexer": "ipython3",
   "version": "3.11.3"
  }
 },
 "nbformat": 4,
 "nbformat_minor": 5
}
