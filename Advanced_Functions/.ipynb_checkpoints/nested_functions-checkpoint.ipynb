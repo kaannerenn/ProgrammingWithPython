{
 "cells": [
  {
   "cell_type": "code",
   "execution_count": 1,
   "id": "eebeccb2",
   "metadata": {},
   "outputs": [
    {
     "name": "stdout",
     "output_type": "stream",
     "text": [
      "The External function is working.\n",
      "The External function is ending\n"
     ]
    }
   ],
   "source": [
    "def external_func():\n",
    "    print(\"The External function is working.\")\n",
    "    def inner_func():\n",
    "        print(\"The Inner function is working\")\n",
    "        \n",
    "    print(\"The External function is ending\")\n",
    "\n",
    "external_func() ## iç fonksiyonu calıstırmadığımız icin su anda sadece dıs fonksiyon calıstı."
   ]
  },
  {
   "cell_type": "code",
   "execution_count": 8,
   "id": "1a7d3983",
   "metadata": {},
   "outputs": [
    {
     "name": "stdout",
     "output_type": "stream",
     "text": [
      "The External function is working.\n",
      "The Inner function is working\n",
      "The External function is ending\n"
     ]
    }
   ],
   "source": [
    "def external_func():\n",
    "    print(\"The External function is working.\")\n",
    "    def inner_func():\n",
    "        print(\"The Inner function is working\")\n",
    "    inner_func()    \n",
    "    print(\"The External function is ending\")\n",
    "    \n",
    "external_func() ##Şimdi içeride de iç fonksiyonu çalıştırdığımız için her şey çalıştı."
   ]
  },
  {
   "cell_type": "code",
   "execution_count": 14,
   "id": "53dd7a59",
   "metadata": {},
   "outputs": [
    {
     "name": "stdout",
     "output_type": "stream",
     "text": [
      "Karesi: 36, Karekökü: 2.449489742783178, Faktoriyeli: 720\n"
     ]
    }
   ],
   "source": [
    "def calculations(x):\n",
    "    def square(a):\n",
    "        return a ** 2\n",
    "    \n",
    "    def square_root(a):\n",
    "        return a ** 0.5\n",
    "    \n",
    "    def factorial(a):\n",
    "        carpim = 1\n",
    "        for i in range(1,a+1):\n",
    "            carpim *= i\n",
    "        return carpim\n",
    "    \n",
    "    #square = square(x)\n",
    "    #square_root = square_root(x)\n",
    "    #factorial = factorial(x)\n",
    "    \n",
    "    return f\"Karesi: {square(x)}, Karekökü: {square_root(x)}, Faktoriyeli: {factorial(x)}\"\n",
    "    \n",
    "    \n",
    "print(calculations(6))\n",
    "##print(square(6)) bu şekilde fonksiyona dışarıdan ulaşamayız."
   ]
  },
  {
   "cell_type": "code",
   "execution_count": 16,
   "id": "68a4780b",
   "metadata": {},
   "outputs": [
    {
     "name": "stdout",
     "output_type": "stream",
     "text": [
      "Toplamları: 17 Çarpımları 240\n"
     ]
    }
   ],
   "source": [
    "def toplam_carpim(*args):\n",
    "    def toplama(demet):\n",
    "        return sum(demet)\n",
    "    def carpma(demet):\n",
    "        carpim = 1\n",
    "        for i in demet:\n",
    "            carpim *= i\n",
    "        return carpim\n",
    "    return f\"Toplamları: {toplama(args)} Çarpımları {carpma(args)}\"\n",
    "\n",
    "print(toplam_carpim(2,4,5,6))"
   ]
  }
 ],
 "metadata": {
  "kernelspec": {
   "display_name": "Python 3 (ipykernel)",
   "language": "python",
   "name": "python3"
  },
  "language_info": {
   "codemirror_mode": {
    "name": "ipython",
    "version": 3
   },
   "file_extension": ".py",
   "mimetype": "text/x-python",
   "name": "python",
   "nbconvert_exporter": "python",
   "pygments_lexer": "ipython3",
   "version": "3.11.3"
  }
 },
 "nbformat": 4,
 "nbformat_minor": 5
}
