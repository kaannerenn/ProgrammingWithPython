{
 "cells": [
  {
   "cell_type": "code",
   "execution_count": 1,
   "id": "409f91c4",
   "metadata": {},
   "outputs": [
    {
     "name": "stdout",
     "output_type": "stream",
     "text": [
      "233168\n"
     ]
    }
   ],
   "source": [
    "## 3'e veya 5'e kalansız bölünen 1000'den küçük sayıların toplamı\n",
    "sayilar = []\n",
    "for i in range(1,1000):\n",
    "    if i % 3 == 0 or i % 5 == 0:\n",
    "        sayilar.append(i)\n",
    "print(sum(sayilar))"
   ]
  },
  {
   "cell_type": "code",
   "execution_count": 2,
   "id": "f267aee8",
   "metadata": {},
   "outputs": [
    {
     "name": "stdout",
     "output_type": "stream",
     "text": [
      "Enter the first number3\n",
      "Enter the second number5\n",
      "Enter the upper number1000\n",
      "3 ve 5 sayılarına kalansız bölünen ve 1000'dan az sayıların toplamı = 233168\n"
     ]
    }
   ],
   "source": [
    "## Yukarıdaki problemin aynısı fakat 3,5 ve 1000 değerlerini kullanıcı için özelleştiricez (istediği değeri girebilicek).\n",
    "def function(number1,number2,lessnumber):\n",
    "    numbers = []\n",
    "    for i in range(1,lessnumber):\n",
    "        if i % number1 == 0 or i % number2 == 0:\n",
    "            numbers.append(i)\n",
    "    return sum(numbers)\n",
    "number1 = int(input(\"Enter the first number\"))\n",
    "number2 = int(input(\"Enter the second number\"))\n",
    "lessnumber = int(input(\"Enter the upper number\"))\n",
    "print(f\"{number1} ve {number2} sayılarına kalansız bölünen ve {lessnumber}'dan az sayıların toplamı = {function(number1,number2,lessnumber)}\")"
   ]
  },
  {
   "cell_type": "code",
   "execution_count": 3,
   "id": "1a893ed6",
   "metadata": {},
   "outputs": [
    {
     "name": "stdout",
     "output_type": "stream",
     "text": [
      "4613732\n"
     ]
    }
   ],
   "source": [
    "## 4 milyondan küçük çift fibonacci sayılarının toplamı nedir ?\n",
    "fiblist = [1,1]\n",
    "toplam = 0\n",
    "while fiblist[-1] < 4000000:\n",
    "    fiblist.append(fiblist[0] + fiblist[1])\n",
    "    fiblist.remove(fiblist[0])\n",
    "    if fiblist[-1] % 2 == 0:\n",
    "        toplam += fiblist[-1]\n",
    "print(toplam)"
   ]
  },
  {
   "cell_type": "code",
   "execution_count": 4,
   "id": "5c006e98",
   "metadata": {},
   "outputs": [
    {
     "name": "stdout",
     "output_type": "stream",
     "text": [
      "Tek ya da çift sayıyı belirleyin. Tek için 'tek' , çift için 'cift' yazabilirsiniz.cift\n",
      "Üst sınırınızı belirleyin.4000000\n",
      "cift sayilar toplamı alınacak ve üst sınırınız 4000000. Sonuç = 4613732\n"
     ]
    }
   ],
   "source": [
    "## Yukarıdaki problemin aynısı fakat tek ya da çift olduğunu ve kaçtan küçük olduğunu kullanıcıdan alıcaz\n",
    "def fibfunc(tekcift,ustsınır):\n",
    "    fiblist = [1,1]\n",
    "    toplam = 0\n",
    "    if tekcift == \"tek\":\n",
    "        while fiblist[-1] < ustsınır:\n",
    "            fiblist.append(fiblist[-1] + fiblist[-2])\n",
    "            if fiblist[-1] % 2 == 1:\n",
    "                toplam += fiblist[-1]\n",
    "    elif tekcift == \"cift\":\n",
    "        while fiblist[-1] < ustsınır:\n",
    "            fiblist.append(fiblist[-1] + fiblist[-2])\n",
    "            if fiblist[-1] % 2 == 0:\n",
    "                toplam += fiblist[-1]\n",
    "    return toplam\n",
    "tekorcift = input(\"Tek ya da çift sayıyı belirleyin. Tek için 'tek' , çift için 'cift' yazabilirsiniz.\")\n",
    "upperbound = int(input(\"Üst sınırınızı belirleyin.\"))\n",
    "print(f\"{tekorcift} sayilar toplamı alınacak ve üst sınırınız {upperbound}. Sonuç = {fibfunc(tekorcift,upperbound)}\")"
   ]
  },
  {
   "cell_type": "code",
   "execution_count": 6,
   "id": "d8026a9b",
   "metadata": {},
   "outputs": [
    {
     "name": "stdout",
     "output_type": "stream",
     "text": [
      "Enter the number13195\n",
      "[5, 7, 13, 29, 35, 65, 91, 145, 203, 377, 455, 1015, 1885, 2639]\n",
      "En büyük asal çarpan: 29\n"
     ]
    }
   ],
   "source": [
    "## En büyük asal çarpan bulma\n",
    "number = int(input(\"Enter the number\"))\n",
    "multiplier_list = []\n",
    "for i in range(2,number):\n",
    "    if number % i == 0:\n",
    "        multiplier_list.append(i)\n",
    "print(multiplier_list)\n",
    "def is_prime(n):\n",
    "    if n < 2 :\n",
    "        return False\n",
    "    for j in range(2, int(n**0.5) + 1): \n",
    "        if n % j == 0:\n",
    "            return False\n",
    "    return True\n",
    "\n",
    "for x in reversed(multiplier_list):\n",
    "    if is_prime(x):\n",
    "        print(f\"En büyük asal çarpan: {x}\")\n",
    "        break"
   ]
  },
  {
   "cell_type": "code",
   "execution_count": 7,
   "id": "cfb8ddd4",
   "metadata": {},
   "outputs": [
    {
     "name": "stdout",
     "output_type": "stream",
     "text": [
      "The largest palindrome number = 906609, These numbers are =  993 913\n"
     ]
    }
   ],
   "source": [
    "##Find the largest palindrome number. tersten yazılışı aynı olucak. 3 haneli 2 sayının çarpımından olucak VE bu sayılar nedir?\n",
    "multiplier2 = 0\n",
    "for i in range(999,99,-1):\n",
    "    for j in range(999,99,-1):\n",
    "        multiplier = i*j\n",
    "        if str(multiplier) == str(multiplier)[::-1]:\n",
    "            if multiplier > multiplier2:\n",
    "                multiplier2 = multiplier\n",
    "                k = i\n",
    "                l = j\n",
    "print(f\"The largest palindrome number = {multiplier2}, These numbers are =  {k} {l}\")"
   ]
  },
  {
   "cell_type": "code",
   "execution_count": 8,
   "id": "367393e3",
   "metadata": {},
   "outputs": [
    {
     "data": {
      "text/plain": [
       "\"1'den 20 ye kadar tüm sayılara kalansız bölünen en küçük sayı. 5.soru.(bir sonraki eulersolution dosyasında çözülecek. \\nmath kütüphanesi ile alakalı şeyler öğrenilmedi)\""
      ]
     },
     "execution_count": 8,
     "metadata": {},
     "output_type": "execute_result"
    }
   ],
   "source": [
    "'''1'den 20 ye kadar tüm sayılara kalansız bölünen en küçük sayı. 5.soru.(bir sonraki eulersolution dosyasında çözülecek. \n",
    "math kütüphanesi ile alakalı şeyler öğrenilmedi)'''"
   ]
  },
  {
   "cell_type": "code",
   "execution_count": 9,
   "id": "a1b926ae",
   "metadata": {},
   "outputs": [
    {
     "name": "stdout",
     "output_type": "stream",
     "text": [
      "25164150\n"
     ]
    }
   ],
   "source": [
    "## İlk 100 doğal sayının toplamının karesinden, ilk 100 doğal sayının karelerinin toplamı farkı kaçtır ?\n",
    "toplam = 0\n",
    "toplam2 = 0\n",
    "for i in range(1,101):\n",
    "    toplam += i\n",
    "    toplam2 += i*i\n",
    "toplam = toplam ** 2\n",
    "\n",
    "print(toplam - toplam2)"
   ]
  },
  {
   "cell_type": "code",
   "execution_count": 10,
   "id": "75675894",
   "metadata": {},
   "outputs": [
    {
     "name": "stdout",
     "output_type": "stream",
     "text": [
      "10001. sıradaki asal sayı 104743'tür\n"
     ]
    }
   ],
   "source": [
    "## 10001. sıradaki asal sayımız kaçtır ?\n",
    "def is_prime(x):\n",
    "    if x <= 1:\n",
    "        return False\n",
    "    for i in range(2, int(x ** (1 / 2)+ 1)):\n",
    "        if x % i == 0:\n",
    "            return False\n",
    "    return True\n",
    "count = 0\n",
    "x = 2\n",
    "while count < 10001:\n",
    "    if is_prime(x):\n",
    "        count+=1\n",
    "    x+=1\n",
    "print(f\"{count}. sıradaki asal sayı {x-1}'tür\")"
   ]
  },
  {
   "cell_type": "code",
   "execution_count": 11,
   "id": "8558dff9",
   "metadata": {},
   "outputs": [
    {
     "name": "stdout",
     "output_type": "stream",
     "text": [
      "70573265280\n"
     ]
    }
   ],
   "source": [
    "## Verilen 1000 digit sayıda ardışık 13 sayının en büyük çarpımını bul.\n",
    "x = \"\"\"7316717653133062491922511967442657474235534919493496983520312774506326239578318016984801869478851843858615607891129494954595017379583319528532088055111254069874715852386305071569329096329522744304355766896648950445244523161731856403098711121722383113622298934233803081353362766142828064444866452387493035890729629049156044077239071381051585930796086670172427121883998797908792274921901699720888093776657273330010533678812202354218097512545405947522435258490771167055601360483958644670632441572215539753697817977846174064955149290862569321978468622482839722413756570560574902614079729686524145351004748216637048440319989000889524345065854122758866688116427171479924442928230863465674813919123162824586178664583591245665294765456828489128831426076900422421902267105562632111110937054421750694165896040807198403850962455444362981230987879927244284909188845801561660979191338754992005240636899125607176060588611646710940507754100225698315520005593572972571636269561882670428252483600823257530420752963450\"\"\"\n",
    "newlist = []\n",
    "for i in x:\n",
    "    newlist.append(i)\n",
    "multiplier2 = 0\n",
    "for j in range(0,len(newlist)-13):\n",
    "    multiplier1 = 1\n",
    "    for k in range(j,j+14):\n",
    "        multiplier1 *= int(newlist[k])\n",
    "        \n",
    "    if multiplier2 < multiplier1:\n",
    "        multiplier2 = multiplier1\n",
    "print(multiplier2)"
   ]
  },
  {
   "cell_type": "code",
   "execution_count": 12,
   "id": "4b010861",
   "metadata": {},
   "outputs": [
    {
     "name": "stdout",
     "output_type": "stream",
     "text": [
      "a = 200, b = 375, c = 425.0\n"
     ]
    }
   ],
   "source": [
    "## Pythagorean triplet: a < b < c ve a^2 + b^2 = c^2. 1 Tane a+b+c = 1000 olan pythagorean sayısı var. a.b.c = ?\n",
    "found = False\n",
    "for a in range(1,1000):\n",
    "    for b in range(1,1000):\n",
    "        c = ((a**2) + (b**2))**0.5\n",
    "        if a + b + c == 1000:\n",
    "            print(f\"a = {a}, b = {b}, c = {c}\")\n",
    "            found = True\n",
    "            break\n",
    "    if found:\n",
    "        break"
   ]
  },
  {
   "cell_type": "code",
   "execution_count": 13,
   "id": "f0c6df1f",
   "metadata": {},
   "outputs": [
    {
     "name": "stdout",
     "output_type": "stream",
     "text": [
      "142913828922\n"
     ]
    }
   ],
   "source": [
    "## 2 milyondan küçük tüm asalların toplamını bul\n",
    "def is_prime2(x): ## Yukarıda var fakat alıştırma olması açısından tekrardan.\n",
    "    if x <= 1:\n",
    "        return False\n",
    "    for i in range(2,int(x**0.5)+1):\n",
    "        if x % i == 0 :\n",
    "            return False\n",
    "    return True\n",
    "toplam = 0\n",
    "for i in range(1,2000000):\n",
    "    if is_prime2(i):\n",
    "        toplam +=i\n",
    "print(toplam)"
   ]
  }
 ],
 "metadata": {
  "kernelspec": {
   "display_name": "Python 3 (ipykernel)",
   "language": "python",
   "name": "python3"
  },
  "language_info": {
   "codemirror_mode": {
    "name": "ipython",
    "version": 3
   },
   "file_extension": ".py",
   "mimetype": "text/x-python",
   "name": "python",
   "nbconvert_exporter": "python",
   "pygments_lexer": "ipython3",
   "version": "3.11.3"
  }
 },
 "nbformat": 4,
 "nbformat_minor": 5
}
