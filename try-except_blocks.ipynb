{
 "cells": [
  {
   "cell_type": "code",
   "execution_count": 32,
   "id": "2a3255a0",
   "metadata": {},
   "outputs": [
    {
     "name": "stdout",
     "output_type": "stream",
     "text": [
      "division by zero\n",
      "finally bloğu çalışıyor\n",
      "5---0---0.7142857142857143\n"
     ]
    }
   ],
   "source": [
    "try:\n",
    "    a = 5\n",
    "    b = 0\n",
    "    ##if b == 7 :\n",
    "        ##raise ZeroDivisionError ## Kendimizde hata yollayabiliriz. ## C#'taki throw'un aynısı\n",
    "    c = a / b \n",
    "    d = k ## k daha önceden tanımlanmadığı için except bloğuna giriyor.\n",
    "    isim = \"Ali\"\n",
    "    karakter = isim[10]\n",
    "except ZeroDivisionError as e: ##Sadece 0 'a bölüm hatalarını yakalar.\n",
    "    print(e) ##as ile tanımlayıp e'yi yazdırırsakda outputu aşağıdaki gibi olur\n",
    "except NameError: ##Daha önce tanımlanmamış değişkenler için hata\n",
    "    print(\"Daha önce tanımlanmamış değişken.\")\n",
    "except IndexError: ## Karakter kısmında 10 index istiyoruz fakat 'Ali' sadece 3 indexli.\n",
    "    print(\"Böyle bir index bulunmuyor.\") \n",
    "except Exception: ##Genel bir hata gözden kaçabilicek hatalar için kendimizi garantiye alabiliriz. Fakat en üste koymak mantıksız.\n",
    "    print(\"Bilinmeyen bir hata oluştu.\") \n",
    "\n",
    "else: ##Eğer try kısmında hata yoksa else bloğuna girer\n",
    "    print(\"else bloğu çalışıyor\")\n",
    "finally: ##Finally bloğu hiçbir şey fark etmeksizin çalışır.\n",
    "    print(\"finally bloğu çalışıyor\")\n",
    "##Eğer except bloğuna girerse bir daha koda devam etmez. O yüzden burda ilk payda sıfır olmamalıya giriyor ve kodu kesiyor.\n",
    "print(a,b,c,sep=\"---\")"
   ]
  }
 ],
 "metadata": {
  "kernelspec": {
   "display_name": "Python 3 (ipykernel)",
   "language": "python",
   "name": "python3"
  },
  "language_info": {
   "codemirror_mode": {
    "name": "ipython",
    "version": 3
   },
   "file_extension": ".py",
   "mimetype": "text/x-python",
   "name": "python",
   "nbconvert_exporter": "python",
   "pygments_lexer": "ipython3",
   "version": "3.11.3"
  }
 },
 "nbformat": 4,
 "nbformat_minor": 5
}
