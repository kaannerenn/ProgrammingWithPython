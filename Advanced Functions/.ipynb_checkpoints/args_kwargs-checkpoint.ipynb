{
 "cells": [
  {
   "cell_type": "code",
   "execution_count": 6,
   "id": "e7fc0a4a",
   "metadata": {},
   "outputs": [
    {
     "name": "stdout",
     "output_type": "stream",
     "text": [
      "81\n"
     ]
    }
   ],
   "source": [
    "def kuvvet_al(x,y):\n",
    "    return x ** y\n",
    "\n",
    "print(kuvvet_al(3,4))"
   ]
  },
  {
   "cell_type": "code",
   "execution_count": 7,
   "id": "3ea45ac1",
   "metadata": {},
   "outputs": [
    {
     "name": "stdout",
     "output_type": "stream",
     "text": [
      "64\n"
     ]
    }
   ],
   "source": [
    "def kuvvet_al(y,x): ##Sıranın önemi olduğu için positional arguments denir.\n",
    "    return x ** y ## yani x,y yer değişirse sonuç değişir. Tüm positional arguments'ler tam olarak girilmeli. eksik ya da fazla değil\n",
    "\n",
    "\n",
    "print(kuvvet_al(3,4))"
   ]
  },
  {
   "cell_type": "code",
   "execution_count": 10,
   "id": "255af0db",
   "metadata": {},
   "outputs": [
    {
     "name": "stdout",
     "output_type": "stream",
     "text": [
      " ad : Ali soyad: Calıskan  Yaş = girilmedi\n"
     ]
    }
   ],
   "source": [
    "def bilgi_ver(ad,soyad,yas = \"girilmedi\"): ## yas = \"girilmedi\" --> Keyword argument'tir.\n",
    "    return f\" ad : {ad} soyad: {soyad}  Yaş = {yas}\"\n",
    "\n",
    "print(bilgi_ver(\"Ali\",\"Calıskan\"))"
   ]
  },
  {
   "cell_type": "code",
   "execution_count": 12,
   "id": "f672ab9b",
   "metadata": {},
   "outputs": [
    {
     "name": "stdout",
     "output_type": "stream",
     "text": [
      " ad : Ali soyad: Girilmedi  Yaş = 34\n"
     ]
    }
   ],
   "source": [
    "def bilgi_ver2(ad,soyad = \"Girilmedi\",yas = \"girilmedi\"):\n",
    "    return f\" ad : {ad} soyad: {soyad}  Yaş = {yas}\"\n",
    "\n",
    "print(bilgi_ver2(\"Ali\",yas = 34))"
   ]
  },
  {
   "cell_type": "code",
   "execution_count": 14,
   "id": "28078198",
   "metadata": {},
   "outputs": [
    {
     "name": "stdout",
     "output_type": "stream",
     "text": [
      "(1, 2, 3, 4, 5, 'Python', True)\n"
     ]
    }
   ],
   "source": [
    "def topla2(x,y):\n",
    "    return x+y\n",
    "def topla3(x,y,z):\n",
    "    return x + y + z\n",
    "\n",
    "def topla(*args): ## Eğer *args kullanırsak istediğimiz sayıda parametre girebiliriz.\n",
    "    print(args)\n",
    "    \n",
    "topla(1,2,3,4,5,\"Python\",True)"
   ]
  },
  {
   "cell_type": "code",
   "execution_count": 29,
   "id": "b5b5cd87",
   "metadata": {},
   "outputs": [
    {
     "data": {
      "text/plain": [
       "232"
      ]
     },
     "execution_count": 29,
     "metadata": {},
     "output_type": "execute_result"
    }
   ],
   "source": [
    "def topla(*args):\n",
    "    result = 0\n",
    "    for arg in args:\n",
    "        result += arg\n",
    "    return result\n",
    "topla(1,3,4,3,7,1,213)"
   ]
  },
  {
   "cell_type": "code",
   "execution_count": 30,
   "id": "d63b4b01",
   "metadata": {},
   "outputs": [
    {
     "name": "stdout",
     "output_type": "stream",
     "text": [
      "56\n"
     ]
    }
   ],
   "source": [
    "def carp(*args):\n",
    "    result = 1\n",
    "    for arg in args:\n",
    "        result *= arg\n",
    "    return result\n",
    "\n",
    "print(carp(2,4,1,7))"
   ]
  },
  {
   "cell_type": "code",
   "execution_count": 32,
   "id": "7bbbc753",
   "metadata": {},
   "outputs": [
    {
     "name": "stdout",
     "output_type": "stream",
     "text": [
      "10.0\n"
     ]
    }
   ],
   "source": [
    "def ortalama(*args):\n",
    "    return sum(args) / len(args)\n",
    "print(ortalama(5,10,15))\n",
    "## Kısacası args ifadesi istediğimiz kadar parametre girmemizi sağlar."
   ]
  },
  {
   "cell_type": "code",
   "execution_count": 33,
   "id": "438a5029",
   "metadata": {},
   "outputs": [
    {
     "name": "stdout",
     "output_type": "stream",
     "text": [
      "<class 'tuple'>\n",
      "sad\n",
      "123\n",
      "True\n",
      "qwe\n",
      "2\n",
      "3\n"
     ]
    }
   ],
   "source": [
    "def tanım(*args):\n",
    "    print(type(args))\n",
    "    for arg in args:\n",
    "        print(arg)\n",
    "tanım(\"sad\",123,True,\"qwe\",2,3) ##args tuple tipindedir."
   ]
  },
  {
   "cell_type": "code",
   "execution_count": 36,
   "id": "4d56710a",
   "metadata": {},
   "outputs": [
    {
     "name": "stdout",
     "output_type": "stream",
     "text": [
      "Merhaba\n",
      "------\n",
      "Nasılsın\n",
      "23\n",
      "True\n",
      "None\n",
      "Merhaba\n",
      "------\n",
      "None\n"
     ]
    }
   ],
   "source": [
    "def selamla(mesaj,*args):\n",
    "    print(mesaj)\n",
    "    print(\"------\")\n",
    "    for arg in args:\n",
    "        print(arg)\n",
    "print(selamla(\"Merhaba\",\"Nasılsın\",23,True)) ##Merhaba mesajı positional argument. Burada merhabayı alıyor.Diğerleri args.\n",
    "print(selamla(\"Merhaba\")) ## istersek args argümanını girmesekte olur."
   ]
  },
  {
   "cell_type": "code",
   "execution_count": 39,
   "id": "a0adc701",
   "metadata": {},
   "outputs": [
    {
     "name": "stdout",
     "output_type": "stream",
     "text": [
      "Merhaba Ali Nasılsın \n"
     ]
    }
   ],
   "source": [
    "def selamla2(mesaj,*args):\n",
    "    sonuc = \"\"\n",
    "    sonuc += mesaj\n",
    "    sonuc+= \" \"\n",
    "    for arg in args:\n",
    "        sonuc += arg\n",
    "        sonuc += \" \"\n",
    "    return sonuc\n",
    "\n",
    "print(selamla2(\"Merhaba\",\"Ali\",\"Nasılsın\"))"
   ]
  },
  {
   "cell_type": "code",
   "execution_count": 41,
   "id": "18334ee9",
   "metadata": {},
   "outputs": [
    {
     "name": "stdout",
     "output_type": "stream",
     "text": [
      "{'ad': 'ali', 'soyad': 'Çalışkan', 'yas': 34}\n"
     ]
    }
   ],
   "source": [
    "def fonk(**kwargs): ##istediğimiz kadar keyword argümantı girebiliriz\n",
    "    print(kwargs)\n",
    "\n",
    "fonk(ad = \"ali\", soyad = \"Çalışkan\", yas = 34)"
   ]
  },
  {
   "cell_type": "code",
   "execution_count": 43,
   "id": "10d2ca6a",
   "metadata": {},
   "outputs": [
    {
     "name": "stdout",
     "output_type": "stream",
     "text": [
      "1\n",
      "******\n",
      "2\n",
      "43\n",
      "5\n",
      "46\n",
      "24\n",
      "******\n",
      "ad Ali\n",
      "yas 23\n"
     ]
    }
   ],
   "source": [
    "def fonk2(zorunlu,*args,**kwargs):\n",
    "    print(zorunlu)\n",
    "    print(\"******\")\n",
    "    for arg in args:\n",
    "        print(arg)\n",
    "    print(\"******\")\n",
    "    ##for kwarg in kwargs:\n",
    "        ##print(kwarg)\n",
    "    for k,v in kwargs.items():\n",
    "        print(k,v)\n",
    "        \n",
    "fonk2(1,2,43,5,46,24,ad = \"Ali\", yas = 23)"
   ]
  },
  {
   "cell_type": "code",
   "execution_count": 44,
   "id": "c373eb0e",
   "metadata": {},
   "outputs": [
    {
     "name": "stdout",
     "output_type": "stream",
     "text": [
      "1\n",
      "2\n",
      "3\n",
      "********\n",
      "ad\n",
      "ad2\n"
     ]
    }
   ],
   "source": [
    "def fonk3(*bilgi,**isim_): ## args - kwargs yerine başka isimlendirme yapabiliriz. önemli olan * - ** 'dır.\n",
    "    for arg in bilgi:\n",
    "        print(arg)\n",
    "    print(\"********\")    \n",
    "    for isim in isim_:\n",
    "        print(isim)\n",
    "        \n",
    "fonk3(1,2,3,ad = \"Elif\",  ad2 = \"Buse\") "
   ]
  }
 ],
 "metadata": {
  "kernelspec": {
   "display_name": "Python 3 (ipykernel)",
   "language": "python",
   "name": "python3"
  },
  "language_info": {
   "codemirror_mode": {
    "name": "ipython",
    "version": 3
   },
   "file_extension": ".py",
   "mimetype": "text/x-python",
   "name": "python",
   "nbconvert_exporter": "python",
   "pygments_lexer": "ipython3",
   "version": "3.11.3"
  }
 },
 "nbformat": 4,
 "nbformat_minor": 5
}
