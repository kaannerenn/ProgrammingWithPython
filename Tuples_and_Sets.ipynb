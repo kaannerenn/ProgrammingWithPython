{
 "cells": [
  {
   "cell_type": "code",
   "execution_count": 1,
   "id": "c6ad0d61",
   "metadata": {},
   "outputs": [
    {
     "name": "stdout",
     "output_type": "stream",
     "text": [
      "<class 'tuple'>\n"
     ]
    }
   ],
   "source": [
    "#tuple(demet) nedir?\n",
    "x = (\"Yellow\",\"Black\",\"Green\",\"Grey\",\"Blue\",\"Red\")\n",
    "print(type(x)) ## Listeye benzerdir ancak [] içinde değil () içinde yazılır.\n",
    "##Tuple'ın listten farkı nasıl oluşturulduysa öyle kalmasıdır. Yani elemanlarını değiştiremeyiz. Diğer her şey listeyle aynıdır."
   ]
  },
  {
   "cell_type": "code",
   "execution_count": 17,
   "id": "8a767e88",
   "metadata": {},
   "outputs": [
    {
     "name": "stdout",
     "output_type": "stream",
     "text": [
      "<class 'set'>\n",
      "Yellow\n",
      "Red\n",
      "Blue\n",
      "Black\n",
      "Green\n",
      "Grey\n",
      "{'Yellow', 'Red', 'Blue', 'Black', 'Green', 'Grey'}\n"
     ]
    }
   ],
   "source": [
    "#sets(kümeler) nedir ?\n",
    "## Kümelerde elemanlar eşsiz olmalıdır. 1 Elemandan sadece 1 tane bulunabilir\n",
    "y = {\"Yellow\",\"Black\",\"Green\",\"Grey\",\"Blue\",\"Red\"}\n",
    "print(type(y)) ## set'lerde(yani kümelerde) bir sıra kavramı yoktur.\n",
    "for color in y:\n",
    "    print(color) ##Burada çıktıda da göründüğü gibi listenin sırasına bağlı değildir ve her çalıştırdığımızda sıraları değişebilir.\n",
    "##setlerde append metodunu kullanamayız çünkü append liste sonuna eleman ekler fakat setlerde(kümelerde) sıra yoktur\n",
    "y.add(\"Pink\") ## append yerine add metodunu kullanabiliriz, Indexı umursamadan ekler.\n",
    "print(y)"
   ]
  },
  {
   "cell_type": "code",
   "execution_count": 18,
   "id": "175c24b0",
   "metadata": {},
   "outputs": [
    {
     "name": "stdout",
     "output_type": "stream",
     "text": [
      "{'Red', 'Blue', 'Black', 'Green', 'Grey'}\n"
     ]
    }
   ],
   "source": [
    "y.remove(\"Yellow\") ##Eğer remove metoduyla olmayan bir elemanı silmeye çalışırsak hata alırız.\n",
    "print(y)"
   ]
  },
  {
   "cell_type": "code",
   "execution_count": 22,
   "id": "044979c7",
   "metadata": {},
   "outputs": [
    {
     "name": "stdout",
     "output_type": "stream",
     "text": [
      "{'Blue', 'Black', 'Green', 'Grey'}\n"
     ]
    }
   ],
   "source": [
    "y.discard(\"Purple\")## Fakat aynısını discard metoduyla yapmaya çalışırsak bir hata vermez.\n",
    "y.discard(\"Red\")\n",
    "print(y)"
   ]
  },
  {
   "cell_type": "code",
   "execution_count": 29,
   "id": "a05d3c76",
   "metadata": {},
   "outputs": [
    {
     "name": "stdout",
     "output_type": "stream",
     "text": [
      "{'Red', 'Blue'}\n",
      "{'Blue', 'Black', 'Purple', 'Green', 'Pink', 'Red', 'Grey'}\n",
      "{'Black', 'Green', 'Grey'}\n",
      "{'Pink', 'Purple'}\n",
      "True\n"
     ]
    }
   ],
   "source": [
    "## Kümelerde intersection(kesişim) ve union(birleşim) işlemleri\n",
    "set1 = {\"Red\", \"Blue\", \"Black\", \"Green\", \"Grey\"}\n",
    "set2 = {\"Red\", \"Blue\", \"Pink\", \"Purple\"}\n",
    "print(set1.intersection(set2))\n",
    "print(set1.union(set2))\n",
    "## Kümelerde difference(fark) işlemleri\n",
    "print(set1.difference(set2)) ##set1'de olup set2'de olmayanları yazdırır.\n",
    "print(set2.difference(set1)) ##set2'de olup set1'de olmayanları yazdırır\n",
    "## in komutu\n",
    "print(\"Pink\" in set1.union(set2)) ##in komutu bizim için önemli. Eleman var mı yok mu diye kontrol için çokca kullanıcaz."
   ]
  },
  {
   "cell_type": "code",
   "execution_count": 48,
   "id": "c0ef8d84",
   "metadata": {},
   "outputs": [
    {
     "name": "stdout",
     "output_type": "stream",
     "text": [
      "<class 'dict'>\n",
      "set()\n"
     ]
    }
   ],
   "source": [
    "## Boş küme, boş liste, boş tuple oluştururken önemli bir ayrım noktası var.\n",
    "emptylist1 = []\n",
    "emptylist2 = list() ##ikiside boş bir liste oluşturur.\n",
    "\n",
    "emptylist3 = ()\n",
    "emptylist4 = tuple() ## ikiside boş bir tuple oluşturur.\n",
    "\n",
    "emptylist5 = set() ##boş küme oluşturur.\n",
    "emptylist6 = {} ## dictionary sınıfından bir eleman oluşturur.\n",
    "print(type(emptylist6))\n",
    "print(emptylist5)"
   ]
  },
  {
   "cell_type": "code",
   "execution_count": 49,
   "id": "cc1a9de7",
   "metadata": {},
   "outputs": [
    {
     "name": "stdout",
     "output_type": "stream",
     "text": [
      "{'Y', 'N', 'P', 'H', 'O', 'T'}\n",
      "{1, 2, 3, 4, 5, 6}\n",
      "{1, 2, 4, 5}\n"
     ]
    }
   ],
   "source": [
    "print(set(\"PYTHON\"))\n",
    "print(set((1,2,3,4,5,6)))\n",
    "print(set([1,2,4,5]))"
   ]
  }
 ],
 "metadata": {
  "kernelspec": {
   "display_name": "Python 3 (ipykernel)",
   "language": "python",
   "name": "python3"
  },
  "language_info": {
   "codemirror_mode": {
    "name": "ipython",
    "version": 3
   },
   "file_extension": ".py",
   "mimetype": "text/x-python",
   "name": "python",
   "nbconvert_exporter": "python",
   "pygments_lexer": "ipython3",
   "version": "3.11.3"
  }
 },
 "nbformat": 4,
 "nbformat_minor": 5
}
