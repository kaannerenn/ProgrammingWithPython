{
 "cells": [
  {
   "cell_type": "code",
   "execution_count": 9,
   "id": "f0109cf8",
   "metadata": {},
   "outputs": [
    {
     "name": "stdout",
     "output_type": "stream",
     "text": [
      "['Black', 'White', 'Red', 'Green', 'Blue']\n",
      "5\n",
      "White\n",
      "['White', 'Red', 'Green', 'Blue']\n",
      "['Black', 'Red', 'Blue']\n"
     ]
    }
   ],
   "source": [
    "colors = [\"Black\",\"White\",\"Red\",\"Green\",\"Blue\"]\n",
    "print(colors)\n",
    "print(len(colors)) ## Listede kaç eleman olduğunu söyler.\n",
    "print(colors[1]) ## Listenin 1. elemanını yazdırır. !!!Remark: 0. Indexten başlıyoruz.\n",
    "print(colors[1:]) ## 1. Indexten itibaren yazdırabiliriz.\n",
    "print(colors[::2])"
   ]
  },
  {
   "cell_type": "code",
   "execution_count": 51,
   "id": "3fa31b10",
   "metadata": {},
   "outputs": [
    {
     "name": "stdout",
     "output_type": "stream",
     "text": [
      "['Yellow', 'White', 'Turquoise', 'Red', 'Grey', 'Green', 'Blue']\n",
      "['Blue', 'Green', 'Grey', 'Red', 'Turquoise', 'White', 'Yellow']\n"
     ]
    }
   ],
   "source": [
    "\"\"\"Bazı liste metodları\n",
    "1)append(Liste sonuna eleman ekler.)\n",
    "2)insert(Listede hangi indexe isterse oraya eleman ekler.)\n",
    "3)remove(Listeden istediğimiz elemanı silebiliriz.)\n",
    "4)extend(Liste içine başka listenin elemanlarını eklerken kullanırız.)\n",
    "5)pop(Listedeki son elemanı siler, geriye değer döndürür yani başka bir değişkene atayabiliriz.)\n",
    "6)reverse(Listeyi tersine çevirir.)\n",
    "7)sort ve sorted metodları, sort metodu liste içindeki elemanları sıralar. (Eğer metinsel bir ifadeyse alfabeye göre eğer sayısal\n",
    "bir ifadeyse küçükten büyüğe olcak şekilde sıralar.),(sorted metodu ise aynı sort metodundaki gibi elemanları sıralar fakat\n",
    "başka bir değişkene atarız. Hem eski listeyi tutmuş oluruz hemde yeni bir sıralanmış liste elde ederiz.)\n",
    "\"\"\"\n",
    "##colors.append(\"Yellow\")\n",
    "##print(colors)\n",
    "##colors.insert(1,\"Grey\")\n",
    "##print(colors)\n",
    "##colors.remove(\"Black\")\n",
    "##print(colors)\n",
    "##colors2 = [\"Turquoise\",\"Pink\"]\n",
    "##colors.append(colors2) ##['Grey', 'White', 'Red', 'Green', 'Blue', 'Yellow', ['Turquoise', 'Pink']] Liste içine liste ekler.\n",
    "##print(colors)\n",
    "##colors.extend(colors2)\n",
    "##print(colors)\n",
    "##deleted = colors.pop()\n",
    "##print(\"The list is = {}, The deleted is = {}\".format(colors,deleted)) ## Alttaki çıktı bu kod satırına aittir.\n",
    "##The list is = ['Grey', 'White', 'Red', 'Green', 'Blue', 'Yellow', ['Turquoise', 'Pink'], 'Turquoise'], The deleted is = Pink\n",
    "##colors.reverse()\n",
    "##print(colors)\n",
    "##colors.remove(colors2) ## Sıralamadna önce liste içindeki listeyi dışarı attık.\n",
    "##colors.sort()\n",
    "##print(colors)\n",
    "##colors.sort(reverse = True) ## Eğer sıralamayı tersten yaptırmak istiyorsak sort metodunu bu şekilde kullanırız.\n",
    "##print(colors)\n",
    "sorted_colors = sorted(colors) ##Diğer metodlardan farklı bir kullanım tarzı vardır.\n",
    "print(colors)\n",
    "print(sorted_colors)"
   ]
  },
  {
   "cell_type": "code",
   "execution_count": 60,
   "id": "5fd3cd01",
   "metadata": {},
   "outputs": [
    {
     "name": "stdout",
     "output_type": "stream",
     "text": [
      "2\n",
      "Blue\n",
      "39\n",
      "Yellow\n",
      "97\n",
      "Yellow\n",
      "White\n",
      "Turquoise\n",
      "Red\n",
      "Grey\n",
      "Green\n",
      "Blue\n"
     ]
    }
   ],
   "source": [
    "numbers = [2,7,39,21,15,9,4]\n",
    "print(min(numbers))\n",
    "print(min(colors))\n",
    "print(max(numbers))\n",
    "print(max(colors))\n",
    "print(sum(numbers))\n",
    "for i in colors: # Liste elemanların tek tek yazdırmak için for kullanabiliriz.\n",
    "    print(i)"
   ]
  },
  {
   "cell_type": "code",
   "execution_count": 65,
   "id": "bdb99db6",
   "metadata": {},
   "outputs": [
    {
     "name": "stdout",
     "output_type": "stream",
     "text": [
      "[(2, 'Yellow'), (3, 'White'), (4, 'Turquoise'), (5, 'Red'), (6, 'Grey'), (7, 'Green'), (8, 'Blue')]\n",
      "True\n"
     ]
    }
   ],
   "source": [
    "print(list(enumerate(colors,start = 2))) ##enumerate liste elemanlarını numaralandırır. Start değerini vermezsek 0'dan başlar.\n",
    "print(\"Yellow\" in colors) ##\"Yellow\" değişkeni colors içinde var mıdır ? True ya da False döndürür."
   ]
  },
  {
   "cell_type": "code",
   "execution_count": 74,
   "id": "7679dab5",
   "metadata": {},
   "outputs": [
    {
     "name": "stdout",
     "output_type": "stream",
     "text": [
      "Yellow---White---Turquoise---Red---Grey---Green---Blue\n",
      "<class 'str'>\n",
      "['Yellow', 'White', 'Turquoise', 'Red', 'Grey', 'Green', 'Blue']\n",
      "<class 'list'>\n"
     ]
    }
   ],
   "source": [
    "stringcolors = \"---\".join(colors) ##\"\".join(listname) metoduyla listeyi stringe çevirebiliriz. \"\" içine istediğimizi koyabiliriz.\n",
    "print(stringcolors)\n",
    "print(type(stringcolors))\n",
    "new_colors = stringcolors.split(\"---\") ## Stringi listeye çevirmek için split metodunu kullanabiliriz.\n",
    "print(new_colors)\n",
    "print(type(new_colors))"
   ]
  },
  {
   "cell_type": "code",
   "execution_count": null,
   "id": "e7c350d1",
   "metadata": {},
   "outputs": [],
   "source": []
  }
 ],
 "metadata": {
  "kernelspec": {
   "display_name": "Python 3 (ipykernel)",
   "language": "python",
   "name": "python3"
  },
  "language_info": {
   "codemirror_mode": {
    "name": "ipython",
    "version": 3
   },
   "file_extension": ".py",
   "mimetype": "text/x-python",
   "name": "python",
   "nbconvert_exporter": "python",
   "pygments_lexer": "ipython3",
   "version": "3.11.3"
  }
 },
 "nbformat": 4,
 "nbformat_minor": 5
}
