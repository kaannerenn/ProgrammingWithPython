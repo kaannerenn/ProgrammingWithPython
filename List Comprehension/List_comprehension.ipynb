{
 "cells": [
  {
   "cell_type": "code",
   "execution_count": 2,
   "id": "d608edc1",
   "metadata": {},
   "outputs": [
    {
     "name": "stdout",
     "output_type": "stream",
     "text": [
      "[1, 2, 3, 4, 5, 6, 7, 8, 9]\n",
      "[1, 2, 3, 4, 5, 6, 7, 8, 9]\n"
     ]
    }
   ],
   "source": [
    "numbers = [1,2,3,4,5,6,7,8,9]\n",
    "list2 = []\n",
    "for i in numbers:\n",
    "    list2.append(i)\n",
    "print(list2)\n",
    "\n",
    "list3= [number for number in numbers] ##Yukarıda yaptığımızı bu şekilde de yapabiliriz.\n",
    "##[number] kısmı listeye eklenicek olan ifadedir. Ondan sonraki kısım ise bu elemanı nereden alacağımız oluyor.\n",
    "print(list3)"
   ]
  },
  {
   "cell_type": "code",
   "execution_count": 4,
   "id": "9c176aa5",
   "metadata": {},
   "outputs": [
    {
     "name": "stdout",
     "output_type": "stream",
     "text": [
      "[1, 4, 9, 16, 25, 36, 49, 64, 81]\n",
      "[1, 4, 9, 16, 25, 36, 49, 64, 81]\n"
     ]
    }
   ],
   "source": [
    "##Karelerinden liste oluşturalım\n",
    "list2 = []\n",
    "for i in numbers:\n",
    "    list2.append(i*i)\n",
    "print(list2)\n",
    "\n",
    "list3 = [number*number for number in numbers]\n",
    "print(list3)"
   ]
  },
  {
   "cell_type": "code",
   "execution_count": 13,
   "id": "3d1c6323",
   "metadata": {},
   "outputs": [
    {
     "name": "stdout",
     "output_type": "stream",
     "text": [
      "[2, 4, 6, 8]\n",
      "[2, 4, 6, 8]\n"
     ]
    }
   ],
   "source": [
    "##Çift rakamlardan bir liste oluşturalım\n",
    "list2 = []\n",
    "for i in numbers:\n",
    "    if i % 2 == 0:\n",
    "        list2.append(i)\n",
    "print(list2)\n",
    "\n",
    "list3 = [number for number in numbers if number % 2 == 0] ##Eğer koşul varsa en sona yazarız.\n",
    "print(list3)"
   ]
  },
  {
   "cell_type": "code",
   "execution_count": 14,
   "id": "9d0bd74f",
   "metadata": {},
   "outputs": [
    {
     "name": "stdout",
     "output_type": "stream",
     "text": [
      "[4, 16, 36, 64]\n",
      "[4, 16, 36, 64]\n"
     ]
    }
   ],
   "source": [
    "##Çift rakamların karelerinden bir liste oluşturalım\n",
    "list2 = []\n",
    "for i in numbers:\n",
    "    if i % 2 == 0:\n",
    "        list2.append(i*i)\n",
    "print(list2)\n",
    "\n",
    "list3 = [number*number for number in numbers if number % 2 == 0]\n",
    "print(list3)"
   ]
  },
  {
   "cell_type": "code",
   "execution_count": 17,
   "id": "bc9b0dd9",
   "metadata": {},
   "outputs": [
    {
     "name": "stdout",
     "output_type": "stream",
     "text": [
      "[36, 64]\n",
      "[36, 64]\n"
     ]
    }
   ],
   "source": [
    "## 4'ten büyük ve çift rakamların karelerinden bir liste oluşturalım\n",
    "list2 = []\n",
    "for i in numbers:\n",
    "    if i > 4 and i % 2 == 0:\n",
    "        list2.append(i*i)\n",
    "print(list2)\n",
    "\n",
    "list3 = [number*number for number in numbers if number > 4 and number % 2 == 0]\n",
    "print(list3)"
   ]
  },
  {
   "cell_type": "code",
   "execution_count": 33,
   "id": "8e063e64",
   "metadata": {},
   "outputs": [
    {
     "name": "stdout",
     "output_type": "stream",
     "text": [
      "[(1, 'a'), (1, 'b'), (1, 'c'), (1, 'd'), (2, 'a'), (2, 'b'), (2, 'c'), (2, 'd'), (3, 'a'), (3, 'b'), (3, 'c'), (3, 'd'), (4, 'a'), (4, 'b'), (4, 'c'), (4, 'd')]\n",
      "[(1, 'a'), (1, 'b'), (1, 'c'), (1, 'd'), (2, 'a'), (2, 'b'), (2, 'c'), (2, 'd'), (3, 'a'), (3, 'b'), (3, 'c'), (3, 'd'), (4, 'a'), (4, 'b'), (4, 'c'), (4, 'd')]\n"
     ]
    }
   ],
   "source": [
    "##[(1,a),(1,b).....,(2,a)....,(4,d)] şeklinde liste oluşturalım\n",
    "numbers = [1,2,3,4]\n",
    "letters = \"abcd\"\n",
    "list2 = []\n",
    "for number in numbers:\n",
    "    for letter in letters:\n",
    "        list2.append((number,letter))\n",
    "print(list2)\n",
    "\n",
    "list3 = [(number,letter) for number in numbers for letter in letters]\n",
    "print(list3)"
   ]
  },
  {
   "cell_type": "code",
   "execution_count": 37,
   "id": "07d54475",
   "metadata": {},
   "outputs": [
    {
     "name": "stdout",
     "output_type": "stream",
     "text": [
      "[1, 16, 25, 64, 81]\n",
      "[1, 16, 25, 64, 81]\n"
     ]
    }
   ],
   "source": [
    "## Birinci listede bulunup ikinci listede bulunmayan rakamların karesinden liste oluşturalım\n",
    "list1 = [1,2,3,4,5,6,7,8,9]\n",
    "list2 = [2,3,6,7]\n",
    "list3 = []\n",
    "for number in list1:\n",
    "    if number not in list2:\n",
    "        list3.append(number*number)\n",
    "print(list3)\n",
    "\n",
    "list4 = [number*number for number in list1 if number not in list2]\n",
    "print(list4)"
   ]
  },
  {
   "cell_type": "code",
   "execution_count": 46,
   "id": "64d2fdaf",
   "metadata": {},
   "outputs": [
    {
     "name": "stdout",
     "output_type": "stream",
     "text": [
      "[1, 2, 3, 4, 5, 6, 7, 8, 9, 10, 11, 12]\n",
      "[1, 2, 3, 4, 5, 6, 7, 8, 9, 10, 11, 12]\n"
     ]
    }
   ],
   "source": [
    "## Verilen listeden elemanları tek tek alan [1,2,3,4,5,6,.....,12] şeklinde bir liste oluşturalım\n",
    "list1 = [[1,2,3],[4,5,6,7],[8,9,10,11,12]]\n",
    "list2 = []\n",
    "for i in list1:\n",
    "    for j in i:\n",
    "        list2.append(j)\n",
    "print(list2)\n",
    "\n",
    "list3 = [j for i in list1 for j in i]\n",
    "print(list3)"
   ]
  },
  {
   "cell_type": "code",
   "execution_count": 58,
   "id": "91a81c97",
   "metadata": {},
   "outputs": [
    {
     "name": "stdout",
     "output_type": "stream",
     "text": [
      "['append', 'clear', 'copy', 'count', 'extend', 'index', 'insert', 'pop', 'remove', 'reverse', 'sort']\n",
      "['append', 'clear', 'copy', 'count', 'extend', 'index', 'insert', 'pop', 'remove', 'reverse', 'sort']\n"
     ]
    }
   ],
   "source": [
    "##print(dir(list)) dir fonksiyonu içine yazılan veri yapısının metodlarını döndürür.\n",
    "list_methods= []\n",
    "for method in dir(list):\n",
    "    if not method.startswith(\"__\"):\n",
    "        list_methods.append(method)\n",
    "print(list_methods)\n",
    "\n",
    "list_methods2 = [method for method in dir(list) if not method.startswith(\"__\")]\n",
    "print(list_methods2)"
   ]
  }
 ],
 "metadata": {
  "kernelspec": {
   "display_name": "Python 3 (ipykernel)",
   "language": "python",
   "name": "python3"
  },
  "language_info": {
   "codemirror_mode": {
    "name": "ipython",
    "version": 3
   },
   "file_extension": ".py",
   "mimetype": "text/x-python",
   "name": "python",
   "nbconvert_exporter": "python",
   "pygments_lexer": "ipython3",
   "version": "3.11.3"
  }
 },
 "nbformat": 4,
 "nbformat_minor": 5
}
