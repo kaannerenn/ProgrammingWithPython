{
 "cells": [
  {
   "cell_type": "code",
   "execution_count": 13,
   "id": "8ea9c1d4",
   "metadata": {},
   "outputs": [
    {
     "name": "stdout",
     "output_type": "stream",
     "text": [
      "{'name': 'Mehmet', 'age': 23, 'gender': 'Male', 'hobbies': ['Cinema', 'Concert', 'Software']}\n",
      "Mehmet\n",
      "25\n",
      "['Cinema', 'Sports', 'Concert', 'Software']\n",
      "{'name': 'Ali', 'age': 22, 'gender': 'Male', 'hobbies': ['Cinema', 'Sports', 'Concert', 'Software'], 'secondname': 'Yılmaz'}\n"
     ]
    }
   ],
   "source": [
    "\"\"\"Dictionary'lerde bir key valuemiz olur, yani ilk yazdıklarımız örneğin name ve age gibi. Bunlar integer ya da string olmak \n",
    "zorundalar. Ama value kısmı yani mehmet ya da 23 gibi orada sınırlama yok.\"\"\"\n",
    "\n",
    "person = {\"name\" : \"Mehmet\", \"age\" : 23,\"gender\": \"Male\", \"hobbies\" : [\"Cinema\",\"Concert\",\"Software\"] }\n",
    "print(person)\n",
    "print(person[\"name\"])\n",
    "person[\"age\"] = 25 ## İstediğimiz bir key'in valuesini bu şekilde değiştirebiliriz\n",
    "print(person[\"age\"])\n",
    "person[\"hobbies\"].insert(1,\"Sports\")\n",
    "print(person[\"hobbies\"])\n",
    "person.update({\"name\" : \"Ali\",\"age\" : 22,\"secondname\": \"Yılmaz\"}) ## Eğer birden fazla değişken değiştirmek istiyorsak update metodunu kullanabiliriz.\n",
    "##Eğer herhangi farklı bir key girersek onuda listeye ekler.\n",
    "print(person)"
   ]
  },
  {
   "cell_type": "code",
   "execution_count": 20,
   "id": "adeea116",
   "metadata": {},
   "outputs": [
    {
     "name": "stdout",
     "output_type": "stream",
     "text": [
      "{'name': 'Ali', 'age': 22, 'gender': 'Male', 'hobbies': ['Cinema', 'Sports', 'Concert', 'Software'], 'secondname': 'Yılmaz', 'id': 53406123}\n"
     ]
    }
   ],
   "source": [
    "person[\"id\"] = 53406123 ## Eğer olmayan bir key eklemek istiyorsak bu yöntemi kullanabiliriz.\n",
    "print(person)"
   ]
  },
  {
   "cell_type": "code",
   "execution_count": 19,
   "id": "f586e002",
   "metadata": {},
   "outputs": [
    {
     "name": "stdout",
     "output_type": "stream",
     "text": [
      "{'name': 'Ali', 'age': 22, 'gender': 'Male', 'hobbies': ['Cinema', 'Sports', 'Concert', 'Software'], 'secondname': 'Yılmaz'}\n"
     ]
    }
   ],
   "source": [
    "del person[\"id\"]## del fonksiyonuyla istediğimiz keydeki değeri silebiliriz.\n",
    "print(person) "
   ]
  },
  {
   "cell_type": "code",
   "execution_count": 26,
   "id": "89764233",
   "metadata": {},
   "outputs": [
    {
     "name": "stdout",
     "output_type": "stream",
     "text": [
      "name\n",
      "age\n",
      "gender\n",
      "hobbies\n",
      "secondname\n",
      "id\n",
      "\n",
      "Ali\n",
      "22\n",
      "Male\n",
      "['Cinema', 'Sports', 'Concert', 'Software']\n",
      "Yılmaz\n",
      "53406123\n"
     ]
    }
   ],
   "source": [
    "for x in person:\n",
    "    print(x) ## key'leri yazdırır.\n",
    "print(\"\\n\")\n",
    "for y in person:\n",
    "    print(person[y]) ##Eğer valueleri yazdırmak istiyorsak for döngüsünü bu şekilde kullanmamız gerekir."
   ]
  },
  {
   "cell_type": "code",
   "execution_count": 33,
   "id": "b39f18c2",
   "metadata": {},
   "outputs": [
    {
     "name": "stdout",
     "output_type": "stream",
     "text": [
      "dict_keys(['name', 'age', 'gender', 'hobbies', 'secondname', 'id']) \n",
      "\n",
      "dict_values(['Ali', 22, 'Male', ['Cinema', 'Sports', 'Concert', 'Software'], 'Yılmaz', 53406123]) \n",
      "\n",
      "dict_items([('name', 'Ali'), ('age', 22), ('gender', 'Male'), ('hobbies', ['Cinema', 'Sports', 'Concert', 'Software']), ('secondname', 'Yılmaz'), ('id', 53406123)])\n"
     ]
    }
   ],
   "source": [
    "##Eğer biz bu dictionaryde sadece keyleri elde etmek istiyorsak keys metodunu kullanabiliriz.\n",
    "print(person.keys(),\"\\n\")\n",
    "##Eğer biz bu dictionaryde sadece valueleri elde etmek istiyorsak values metodunu kullanabiliriz.\n",
    "print(person.values(),\"\\n\")\n",
    "##Eğer biz çiftler halinde elde etmek istersek item medounu kullanabiliriz\n",
    "print(person.items())"
   ]
  },
  {
   "cell_type": "code",
   "execution_count": 45,
   "id": "eacb3724",
   "metadata": {},
   "outputs": [
    {
     "name": "stdout",
     "output_type": "stream",
     "text": [
      "Key = name , Value = Ali\n",
      "Key = age , Value = 22\n",
      "Key = gender , Value = Male\n",
      "Key = hobbies , Value = ['Cinema', 'Sports', 'Concert', 'Software']\n",
      "Key = secondname , Value = Yılmaz\n",
      "Key = id , Value = 53406123\n"
     ]
    }
   ],
   "source": [
    "for k,v in person.items():\n",
    "    print(\"Key = {} , Value = {}\".format(k,v))"
   ]
  },
  {
   "cell_type": "code",
   "execution_count": 52,
   "id": "164a2a18",
   "metadata": {},
   "outputs": [
    {
     "name": "stdout",
     "output_type": "stream",
     "text": [
      "None\n",
      "22\n",
      "Not Found\n"
     ]
    }
   ],
   "source": [
    "##print(person[\"surname\"]) ##Eğer bu şekilde olmayan bir key yazdırmaya çalışırsak hata verir.\n",
    "print(person.get(\"surname\")) ##Bunu get metoduyla yaparsak None dönütünü alırız.\n",
    "print(person.get(\"age\"))\n",
    "print(person.get(\"surname\",\"Not Found\")) ##Get metoduyla olmayan bir key çağırdığımızda virgülden sonra bir mesaj verebiliriz."
   ]
  },
  {
   "cell_type": "code",
   "execution_count": null,
   "id": "6c020e2e",
   "metadata": {},
   "outputs": [],
   "source": []
  }
 ],
 "metadata": {
  "kernelspec": {
   "display_name": "Python 3 (ipykernel)",
   "language": "python",
   "name": "python3"
  },
  "language_info": {
   "codemirror_mode": {
    "name": "ipython",
    "version": 3
   },
   "file_extension": ".py",
   "mimetype": "text/x-python",
   "name": "python",
   "nbconvert_exporter": "python",
   "pygments_lexer": "ipython3",
   "version": "3.11.3"
  }
 },
 "nbformat": 4,
 "nbformat_minor": 5
}
