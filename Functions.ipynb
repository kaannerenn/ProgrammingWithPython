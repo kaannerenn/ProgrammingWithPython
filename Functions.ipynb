{
 "cells": [
  {
   "cell_type": "code",
   "execution_count": 20,
   "id": "0ab350c0",
   "metadata": {},
   "outputs": [
    {
     "name": "stdout",
     "output_type": "stream",
     "text": [
      "Merhaba\n",
      "x + y = 8\n",
      "Girdiğiniz sayıların ortalması = 3.5\n",
      "MERHABA\n",
      "Merhaba Anonim\n",
      "4.0\n",
      "4.0\n"
     ]
    }
   ],
   "source": [
    "def selamla():\n",
    "    print(\"Merhaba\")\n",
    "selamla()\n",
    "def topla(x,y):\n",
    "    print(f\"x + y = {x+y}\")\n",
    "topla(3,5)\n",
    "def ortalama_hesapla(liste):\n",
    "    ortalama = sum(liste) / len(liste)\n",
    "    print(f\"Girdiğiniz sayıların ortalması = {ortalama}\")\n",
    "##ortalama_hesapla(5) Fonksiyonun içinde liste tuple ya da kümelere uygun fonksiyonlar kullandığım için hata alırız.\n",
    "ortalama_hesapla([1,2,3,4,5,6]) \n",
    "def buyuk_harfe_cevir(metin):\n",
    "    print(metin.upper())\n",
    "buyuk_harfe_cevir(\"Merhaba\")\n",
    "def selamla2(metin,isim = \" Anonim\"):\n",
    "    print(metin + isim)\n",
    "selamla2(\"Merhaba\") ## Eğer isim parametresi herhangi bir değer almazsa default olarak Anonim yazacak.\n",
    "def ortalama(x,y):\n",
    "    return (x+y) / 2\n",
    "#ortalama(3,5) ## Bu şekilde program çalışır fakat ekrana bir şey yazdırmaz. klasik return. \n",
    "print(ortalama(3,5))\n",
    "fonk = ortalama ## fonksiyonlarıda değişkenlere atayabiliriz. Tıpkı integer, string ve float vs. gibi.\n",
    "print(fonk(3,5))"
   ]
  },
  {
   "cell_type": "code",
   "execution_count": 27,
   "id": "9f4cde75",
   "metadata": {},
   "outputs": [
    {
     "name": "stdout",
     "output_type": "stream",
     "text": [
      "Kelime giriniz.bebeb\n",
      "Girdiğiniz bebeb kelimesi palindromdur\n"
     ]
    }
   ],
   "source": [
    "##Palindrom kontrolü\n",
    "def ters_cevirme(metin):\n",
    "    return metin[::-1]\n",
    "def palindrom(metin):\n",
    "    if metin == ters_cevirme(metin):\n",
    "        return True\n",
    "    return False\n",
    "kelime = input(\"Kelime giriniz.\")\n",
    "if palindrom(kelime):\n",
    "    print(\"Girdiğiniz {} kelimesi palindromdur\".format(kelime))\n",
    "else:\n",
    "    print(\"Girdiğiniz {} kelimesi palindrom değildir\".format(kelime))"
   ]
  },
  {
   "cell_type": "code",
   "execution_count": 37,
   "id": "8a8b8759",
   "metadata": {},
   "outputs": [
    {
     "name": "stdout",
     "output_type": "stream",
     "text": [
      "1'den hangi sayıya kadar çift ve tek sayıların toplanmasını istersiniz ?5\n",
      "9 --> tek sayiların toplamı\n",
      "6 --> cift sayiların toplamı\n"
     ]
    }
   ],
   "source": [
    "## Tek ve Çift Sayıların Toplamı\n",
    "def toplam(x):\n",
    "    cifttoplam = 0\n",
    "    tektoplam = 0\n",
    "    for i in range(1,x+1):\n",
    "        if i % 2 == 0:\n",
    "            cifttoplam+=i\n",
    "        else:\n",
    "            tektoplam+=i\n",
    "    return tektoplam,cifttoplam\n",
    "aralik = int(input(\"1'den hangi sayıya kadar çift ve tek sayıların toplanmasını istersiniz ?\"))\n",
    "tek , cift = toplam(aralik)\n",
    "print(f\"{tek} --> tek sayiların toplamı\")\n",
    "print(f\"{cift} --> cift sayiların toplamı\")"
   ]
  },
  {
   "cell_type": "code",
   "execution_count": 39,
   "id": "ab15afbf",
   "metadata": {},
   "outputs": [
    {
     "name": "stdout",
     "output_type": "stream",
     "text": [
      "Bir sayı giriniz: 123456\n",
      "123456 sayısının tersi: 654321\n"
     ]
    }
   ],
   "source": [
    "#Sayiları ters çevirme\n",
    "def ters_sayi(n):\n",
    "    ters = 0\n",
    "    while n > 0:\n",
    "        ters = ters * 10 + n % 10\n",
    "        n //= 10\n",
    "    return ters\n",
    "\n",
    "sayi = int(input(\"Bir sayı giriniz: \"))\n",
    "print(f\"{sayi} sayısının tersi: {ters_sayi(sayi)}\")"
   ]
  },
  {
   "cell_type": "code",
   "execution_count": 45,
   "id": "9d3f3c80",
   "metadata": {},
   "outputs": [
    {
     "name": "stdout",
     "output_type": "stream",
     "text": [
      "Bir cümle giriniz:\n",
      "Python çok güçlü bir programlama dilidir. Python, yazılım geliştirme, veri analizi ve yapay zeka gibi birçok alanda yaygın olarak kullanılmaktadır. Python'un popülerliği her geçen gün artmaktadır.\n",
      "Kelime sayıları: {'Python': 1, 'çok': 1, 'güçlü': 1, 'bir': 1, 'programlama': 1, 'dilidir.': 1, 'Python,': 1, 'yazılım': 1, 'geliştirme,': 1, 'veri': 1, 'analizi': 1, 've': 1, 'yapay': 1, 'zeka': 1, 'gibi': 1, 'birçok': 1, 'alanda': 1, 'yaygın': 1, 'olarak': 1, 'kullanılmaktadır.': 1, \"Python'un\": 1, 'popülerliği': 1, 'her': 1, 'geçen': 1, 'gün': 1, 'artmaktadır.': 1}\n"
     ]
    }
   ],
   "source": [
    "##Bür cümlede hangi kelimeden kaç tane var \n",
    "def kelime_say(cumle):\n",
    "    kelimeler = cumle.split() ##split default olarak space'i kullanır. Parametre vermediğimiz için burda da öyle yaptı.\n",
    "    kelime_sayaci = {}\n",
    "    for kelime in kelimeler:\n",
    "        if kelime in kelime_sayaci:\n",
    "            kelime_sayaci[kelime] += 1\n",
    "        else:\n",
    "            kelime_sayaci[kelime] = 1\n",
    "    return kelime_sayaci\n",
    "\n",
    "cumle = input(\"Bir cümle giriniz:\\n\")\n",
    "print(\"Kelime sayıları:\", kelime_say(cumle))"
   ]
  },
  {
   "cell_type": "code",
   "execution_count": 46,
   "id": "1bdc80fd",
   "metadata": {},
   "outputs": [
    {
     "name": "stdout",
     "output_type": "stream",
     "text": [
      "Bir liste giriniz (virgülle ayırın): 1,2,25,13,6,7,123,45,22,199\n",
      "Sıralanmış liste: [1, 2, 6, 7, 13, 22, 25, 45, 123, 199]\n"
     ]
    }
   ],
   "source": [
    "## Bir sayılar listesini küçükten büyüğe sıralama.\n",
    "def sirala(liste):\n",
    "    for i in range(len(liste)):\n",
    "        for j in range(i + 1, len(liste)):\n",
    "            if liste[i] > liste[j]:\n",
    "                liste[i], liste[j] = liste[j], liste[i]\n",
    "    return liste\n",
    "\n",
    "liste = [int(x) for x in input(\"Bir liste giriniz (virgülle ayırın): \").split(\",\")]\n",
    "print(f\"Sıralanmış liste: {sirala(liste)}\")"
   ]
  }
 ],
 "metadata": {
  "kernelspec": {
   "display_name": "Python 3 (ipykernel)",
   "language": "python",
   "name": "python3"
  },
  "language_info": {
   "codemirror_mode": {
    "name": "ipython",
    "version": 3
   },
   "file_extension": ".py",
   "mimetype": "text/x-python",
   "name": "python",
   "nbconvert_exporter": "python",
   "pygments_lexer": "ipython3",
   "version": "3.11.3"
  }
 },
 "nbformat": 4,
 "nbformat_minor": 5
}
