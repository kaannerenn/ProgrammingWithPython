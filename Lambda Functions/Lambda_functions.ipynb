{
 "cells": [
  {
   "cell_type": "code",
   "execution_count": 9,
   "id": "88361e34",
   "metadata": {},
   "outputs": [
    {
     "name": "stdout",
     "output_type": "stream",
     "text": [
      "16\n",
      "16\n",
      "Hello\n",
      "<function <lambda> at 0x000001C955FC3600>\n"
     ]
    }
   ],
   "source": [
    "#lambda ifadeleri nasıl kullanılır ?\n",
    "# Fonksiyonu eğer birçok yerde değilde 1 kere vs kullanıcaksak fonksiyon tanımlamak yerine lambda ile tanımlamak daha kolaydır.\n",
    "# map(), filter(), reduce() fonksiyonları parametre olarak fonksiyon alırlar. Bu fonksiyonlarla lambda kullanımı yaygındır.\n",
    "def take_square(x):\n",
    "    return x*x\n",
    "print(take_square(4))\n",
    "\n",
    "take_square2 = lambda x : x*x\n",
    "print(take_square2(4)) ##Yukarıdaki ifadeyel aynısı. lamda sonrasında hangi parametreyi alacağı daha sonra ne return edicek.\n",
    "\n",
    "say_hello = lambda  :print(\"Hello\") ##Parametre almadanda fonksiyon döndürebilceğimizden bu şekilde bir şey yapabiliriz.\n",
    "say_hello()\n",
    "print(take_square2) ## çıktısı bir fonksiyon aşağıda görüldüğü gibi."
   ]
  },
  {
   "cell_type": "code",
   "execution_count": 10,
   "id": "64b6778f",
   "metadata": {},
   "outputs": [
    {
     "name": "stdout",
     "output_type": "stream",
     "text": [
      "8\n"
     ]
    }
   ],
   "source": [
    "add = lambda x, y :x + y\n",
    "print(add(3,5))"
   ]
  },
  {
   "cell_type": "code",
   "execution_count": 13,
   "id": "28dfc48a",
   "metadata": {},
   "outputs": [
    {
     "name": "stdout",
     "output_type": "stream",
     "text": [
      "39\n"
     ]
    }
   ],
   "source": [
    "grand_total = lambda *args : sum(args)\n",
    "print(grand_total(1,2,34,2))"
   ]
  },
  {
   "cell_type": "code",
   "execution_count": 16,
   "id": "7276b8c7",
   "metadata": {},
   "outputs": [
    {
     "name": "stdout",
     "output_type": "stream",
     "text": [
      "<function <lambda> at 0x000001C95659F4C0>\n",
      "8\n"
     ]
    }
   ],
   "source": [
    "print(lambda x, y, z :x * y * z) ## Bu şekilde print edersek bir fonksiyon olduğunu gösterir bize.\n",
    "print((lambda x, y, z : x * y * z)(1,2,4)) ## Bu şekilde yazarsak yukarıdaki fonksiyonun sonucunu döndürebiliriz"
   ]
  },
  {
   "cell_type": "code",
   "execution_count": 17,
   "id": "1520e4c1",
   "metadata": {},
   "outputs": [
    {
     "name": "stdout",
     "output_type": "stream",
     "text": [
      "7.0\n"
     ]
    }
   ],
   "source": [
    "print((lambda *args : sum(args) / len(args))(3,5,7,9,11)) \n",
    "## Sonuc olarak lambda fonksiyonlarına isim vermeden anonim şekilde de kullanabiliriz."
   ]
  },
  {
   "cell_type": "code",
   "execution_count": 22,
   "id": "0631779c",
   "metadata": {},
   "outputs": [
    {
     "name": "stdout",
     "output_type": "stream",
     "text": [
      "[('Ali', 20), ('Elif', 33), ('Veli', 22), ('Şenol', 25)]\n",
      "[('Ali', 20), ('Veli', 22), ('Şenol', 25), ('Elif', 33)]\n"
     ]
    }
   ],
   "source": [
    "list1 = [(\"Ali\",20),(\"Veli\",22),(\"Elif\",33),(\"Şenol\",25)]\n",
    "list1.sort() ## İsime göre sıralamış\n",
    "print(list1) ##Eğer yaşlara göre yani 2. bileşene göre sıralamak istesek nasıl yapardık.\n",
    "list1.sort(key = lambda x : x[1]) ##Buradaki bu sort fonksiyonunun key = şeklinde bir kullanımı var fakat içine fonksyion lazım.\n",
    "# Tamda burda lambda fonksiyonlarından yararlanabiliriz x[0] isimlere denk gelirken x[1] yaşlara denk gelir. \n",
    "print(list1)"
   ]
  },
  {
   "cell_type": "code",
   "execution_count": 30,
   "id": "685ec927",
   "metadata": {},
   "outputs": [
    {
     "name": "stdout",
     "output_type": "stream",
     "text": [
      "[{'Name': 'Ali', 'Surname': 'Tavan', 'Age': 42}, {'Name': 'Enes', 'Surname': 'Polat', 'Age': 32}, {'Name': 'Mehmet', 'Surname': 'Yavuz', 'Age': 22}]\n",
      "\n",
      "[{'Name': 'Enes', 'Surname': 'Polat', 'Age': 32}, {'Name': 'Ali', 'Surname': 'Tavan', 'Age': 42}, {'Name': 'Mehmet', 'Surname': 'Yavuz', 'Age': 22}]\n",
      "\n",
      "[{'Name': 'Mehmet', 'Surname': 'Yavuz', 'Age': 22}, {'Name': 'Enes', 'Surname': 'Polat', 'Age': 32}, {'Name': 'Ali', 'Surname': 'Tavan', 'Age': 42}]\n"
     ]
    }
   ],
   "source": [
    "list2 = [{\"Name\": \"Mehmet\", \"Surname\": \"Yavuz\",\"Age\":22}\n",
    "         ,{\"Name\": \"Enes\", \"Surname\": \"Polat\",\"Age\":32}\n",
    "         ,{\"Name\": \"Ali\", \"Surname\": \"Tavan\",\"Age\":42}]\n",
    "\n",
    "list2.sort(key = lambda x : x[\"Name\"]) ## Name'e göre sıraladık\n",
    "print(list2)\n",
    "print(\"\")\n",
    "list2.sort(key = lambda x : x[\"Surname\"]) ## Surname'e göre sıraladık\n",
    "print(list2)\n",
    "print(\"\")\n",
    "list2.sort(key = lambda x : x[\"Age\"]) ## Age'e göre sıraladık\n",
    "print(list2)"
   ]
  }
 ],
 "metadata": {
  "kernelspec": {
   "display_name": "Python 3 (ipykernel)",
   "language": "python",
   "name": "python3"
  },
  "language_info": {
   "codemirror_mode": {
    "name": "ipython",
    "version": 3
   },
   "file_extension": ".py",
   "mimetype": "text/x-python",
   "name": "python",
   "nbconvert_exporter": "python",
   "pygments_lexer": "ipython3",
   "version": "3.11.3"
  }
 },
 "nbformat": 4,
 "nbformat_minor": 5
}
