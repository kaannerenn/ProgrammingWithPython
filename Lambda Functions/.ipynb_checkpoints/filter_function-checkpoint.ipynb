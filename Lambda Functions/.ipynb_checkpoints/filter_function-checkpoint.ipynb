{
 "cells": [
  {
   "cell_type": "code",
   "execution_count": 6,
   "id": "76a17a8a",
   "metadata": {},
   "outputs": [
    {
     "name": "stdout",
     "output_type": "stream",
     "text": [
      "[2, 4, 6, 8]\n",
      "[11, 17]\n"
     ]
    }
   ],
   "source": [
    "list1 = [1,2,3,4,5,6,8,11,17,123,101]\n",
    "#filter fonksiyonunun çalışması için True ya da False değer döndürülmesi lazım.\n",
    "def is_even(x):\n",
    "    if x % 2 == 0:\n",
    "        return True\n",
    "    return False\n",
    "\n",
    "even_numbers = list(filter(is_even,list1))\n",
    "\n",
    "print(even_numbers)\n",
    "\n",
    "def two_digit(x):\n",
    "    if x >= 10 and x < 100:\n",
    "        return True\n",
    "    return False\n",
    "\n",
    "two_digit_numbers = list(filter(two_digit,list1))\n",
    "\n",
    "print(two_digit_numbers)"
   ]
  },
  {
   "cell_type": "code",
   "execution_count": 15,
   "id": "3c49221b",
   "metadata": {},
   "outputs": [
    {
     "name": "stdout",
     "output_type": "stream",
     "text": [
      "[2, 4, 6, 8]\n",
      "[11, 17]\n"
     ]
    }
   ],
   "source": [
    "# Yukarıdakilerin aynısını lambda kullanarak yapalım.\n",
    "list1 = [1,2,3,4,5,6,8,11,17,123,101]\n",
    "\n",
    "even_numbers2 = list(filter(lambda x : x % 2 == 0 , list1))\n",
    "\n",
    "print(even_numbers2)\n",
    "\n",
    "two_digit_numbers2 = list(filter(lambda x :  x >= 10 and x < 100 , list1))\n",
    "\n",
    "print(two_digit_numbers2)"
   ]
  },
  {
   "cell_type": "code",
   "execution_count": 19,
   "id": "aa74e554",
   "metadata": {},
   "outputs": [
    {
     "name": "stdout",
     "output_type": "stream",
     "text": [
      "['mirror', 'mother']\n",
      "['ahmet', 'jacket', 'last', 'ada']\n",
      "['ada']\n"
     ]
    }
   ],
   "source": [
    "words = [\"mirror\", \"ahmet\", \"mother\" , \"pencil\", \"notebook\", \"jacket\", \"last\",\"ada\"]\n",
    "words_starts_with_m = list(filter(lambda word : word.startswith(\"m\"),words))\n",
    "print(words_starts_with_m)\n",
    "\n",
    "words_include_a = list(filter(lambda word : \"a\" in word, words))\n",
    "print(words_include_a)\n",
    "\n",
    "palindroms = list(filter(lambda word : word == word[::-1], words))\n",
    "print(palindroms)"
   ]
  },
  {
   "cell_type": "code",
   "execution_count": 30,
   "id": "9e79c4c5",
   "metadata": {},
   "outputs": [
    {
     "name": "stdout",
     "output_type": "stream",
     "text": [
      "strings = ['string', 'example']\n",
      "bools = [True]\n",
      "İntegers = [1, 2, True]\n",
      "Sets = [{1, 2, 4}]\n"
     ]
    }
   ],
   "source": [
    "list1 = [1,2,(1,2,3),True,\"string\",\"example\",{1,2,4}]\n",
    "\n",
    "strings = list(filter(lambda x : isinstance(x,str),list1))\n",
    "print(\"strings =\",strings)\n",
    "# isinstance kullanımı şöyledir: Eğer x str iste True döndürür değilse False.\n",
    "\n",
    "bools = list(filter(lambda x : isinstance(x,bool),list1))\n",
    "\n",
    "integers = list(filter(lambda x : isinstance(x,int),list1))\n",
    "\n",
    "lists = list(filter(lambda x : isinstance(x,list),list1))\n",
    "\n",
    "sets = list(filter(lambda x : isinstance(x,set),list1))\n",
    "\n",
    "print(\"bools =\",  bools)\n",
    "print(\"İntegers =\", integers) ##True == 1 , False == 0 olduğundan burda True integer olarak gözüktü.\n",
    "print(\"Sets =\", sets)"
   ]
  },
  {
   "cell_type": "code",
   "execution_count": 39,
   "id": "eb546881",
   "metadata": {},
   "outputs": [
    {
     "name": "stdout",
     "output_type": "stream",
     "text": [
      "[{'Name': 'Ahmet', 'Age': 14}, {'Name': 'Anıl', 'Age': 29}]\n",
      "['Ahmet', 'Anıl']\n",
      "[{'Name': 'Emir', 'Age': 22}, {'Name': 'Anıl', 'Age': 29}]\n",
      "[22, 29]\n"
     ]
    }
   ],
   "source": [
    "list1 = [{\"Name\" : \"Ahmet\",\"Age\" : 14},\n",
    "        {\"Name\" : \"Can\",\"Age\" : 18},\n",
    "        {\"Name\" : \"Emir\",\"Age\" : 22},\n",
    "        {\"Name\" : \"Anıl\",\"Age\" : 29}]\n",
    "name_starts_with_a = list(filter(lambda person : person[\"Name\"].startswith(\"A\"),list1))\n",
    "names = list(map(lambda person: person[\"Name\"], name_starts_with_a))\n",
    "print(name_starts_with_a)\n",
    "print(names) #Eğer sadece isimleri yazdırmak istersekte bunu map fonksiyonunu kullanarak yapabiliriz.\n",
    "\n",
    "age_greater_than_20 = list(filter(lambda person : person[\"Age\"] > 20 , list1))\n",
    "print(age_greater_than_20)\n",
    "ages = list(map(lambda person : person[\"Age\"], age_greater_than_20))\n",
    "print(ages)"
   ]
  }
 ],
 "metadata": {
  "kernelspec": {
   "display_name": "Python 3 (ipykernel)",
   "language": "python",
   "name": "python3"
  },
  "language_info": {
   "codemirror_mode": {
    "name": "ipython",
    "version": 3
   },
   "file_extension": ".py",
   "mimetype": "text/x-python",
   "name": "python",
   "nbconvert_exporter": "python",
   "pygments_lexer": "ipython3",
   "version": "3.11.3"
  }
 },
 "nbformat": 4,
 "nbformat_minor": 5
}
