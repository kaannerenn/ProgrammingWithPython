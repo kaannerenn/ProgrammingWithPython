{
 "cells": [
  {
   "cell_type": "code",
   "execution_count": 3,
   "id": "55e36bf8",
   "metadata": {},
   "outputs": [
    {
     "name": "stdout",
     "output_type": "stream",
     "text": [
      "[1, 4, 16, 25, 49]\n",
      "<map object at 0x0000021EF2A41570>\n",
      "[1, 4, 16, 25, 49]\n",
      "\n",
      "{1, 4, 16, 49, 25}\n",
      "\n",
      "(1, 4, 16, 25, 49)\n"
     ]
    }
   ],
   "source": [
    "# map fonksiyonu kullanımı\n",
    "# Kabaca bir listedeki elemanları alır ve o listenin her bir elemanına aynı işlemi yapıp geriye bir map objesi döndürür.\n",
    "list1 = [1,2,4,5,7]\n",
    "def take_square(x):\n",
    "    return x * x\n",
    "\n",
    "list2 = []\n",
    "for i in list1:\n",
    "    list2.append(take_square(i))\n",
    "    \n",
    "print(list2) ##Aslında bu satırlarca yaptıgımız işlemi daha kolay yoldan yapabiliriz.\n",
    "\n",
    "list3 = map(take_square,list1)\n",
    "print(list3) ## Bir map objesi olarak geri döner. Biz bunu istediğimiz türe çevirebiliriz.\n",
    "\n",
    "list1_list = list(map(take_square,list1))\n",
    "list1_set = set(map(take_square,list1))\n",
    "list1_tuple = tuple(map(take_square,list1))\n",
    "print(list1_list)\n",
    "print()\n",
    "print(list1_set)\n",
    "print()\n",
    "print(list1_tuple)"
   ]
  },
  {
   "cell_type": "code",
   "execution_count": 5,
   "id": "a55fcec8",
   "metadata": {},
   "outputs": [
    {
     "name": "stdout",
     "output_type": "stream",
     "text": [
      "[1, 4, 9, 16, 25]\n"
     ]
    }
   ],
   "source": [
    "list1 = [1,2,3,4,5]\n",
    "list2 = list(map(lambda x : x * x, list1)) ## lambda fonksiyonu ile kullanımı da bu şekildedir.\n",
    "print(list2) # lambda x : x * x kısmı fonksiyon , (virgülden) sonrası işlem yapacağımız listeyi ifade eder."
   ]
  },
  {
   "cell_type": "code",
   "execution_count": 1,
   "id": "63cfbab1",
   "metadata": {},
   "outputs": [
    {
     "name": "stdout",
     "output_type": "stream",
     "text": [
      "[3, 8, 13, 12, 6]\n"
     ]
    }
   ],
   "source": [
    "list1 = [1,3,4,5,6]\n",
    "list2 = [2,5,9,7,0]\n",
    "\n",
    "def add(x,y):\n",
    "    return x + y\n",
    "\n",
    "result = list(map(add,list1,list2))\n",
    "print(result) ##Aslında map kullanırken tek bir liste kullanmak zorunda değiliz."
   ]
  },
  {
   "cell_type": "code",
   "execution_count": 4,
   "id": "18cf871b",
   "metadata": {},
   "outputs": [
    {
     "name": "stdout",
     "output_type": "stream",
     "text": [
      "[5, 13, 24]\n",
      "[5, 13, 24]\n"
     ]
    }
   ],
   "source": [
    "list1 = [1,3,4,5,6]\n",
    "list2 = [2,5,9,7,0]\n",
    "list3 = [2,5,11]\n",
    "\n",
    "def add(x,y,z):\n",
    "    return x + y + z\n",
    "\n",
    "result = list(map(add,list1,list2,list3))\n",
    "print(result) ## En az içeren listenin elemanları bitince işlem yapmaz durur. Hata vermez!!!\n",
    "\n",
    "result2 = list(map(lambda x,y,z: x + y + z, list1,list2,list3))\n",
    "print(result) ## lambda fonksiyonunu kullanarakta yapabiliriz."
   ]
  },
  {
   "cell_type": "code",
   "execution_count": 6,
   "id": "60a1b2ce",
   "metadata": {},
   "outputs": [
    {
     "name": "stdout",
     "output_type": "stream",
     "text": [
      "[['Shoe', 135.0], ['Pant', 108.0], ['Shirt', 90.0], ['Jacket', 180.0]]\n"
     ]
    }
   ],
   "source": [
    "products = [[\"Shoe\",150], [\"Pant\",120], [\"Shirt\",100], [\"Jacket\", 200]]\n",
    "\n",
    "def discount(x):\n",
    "    product,price = x[0], x[1]\n",
    "    price = price * 9 / 10\n",
    "    return [product,price]\n",
    "\n",
    "result = list(map(discount,products))\n",
    "print(result) "
   ]
  },
  {
   "cell_type": "code",
   "execution_count": 7,
   "id": "1e123dac",
   "metadata": {},
   "outputs": [
    {
     "name": "stdout",
     "output_type": "stream",
     "text": [
      "['ahmet', 'ayse', 'onur', 'hüseyi̇n']\n"
     ]
    }
   ],
   "source": [
    "names = [\"Ahmet\",\"aySe\",\"oNur\",\"HÜseyİN\"]\n",
    "\n",
    "names2 = list(map(lambda x : x.lower(), names))\n",
    "print(names2)"
   ]
  }
 ],
 "metadata": {
  "kernelspec": {
   "display_name": "Python 3 (ipykernel)",
   "language": "python",
   "name": "python3"
  },
  "language_info": {
   "codemirror_mode": {
    "name": "ipython",
    "version": 3
   },
   "file_extension": ".py",
   "mimetype": "text/x-python",
   "name": "python",
   "nbconvert_exporter": "python",
   "pygments_lexer": "ipython3",
   "version": "3.11.3"
  }
 },
 "nbformat": 4,
 "nbformat_minor": 5
}
