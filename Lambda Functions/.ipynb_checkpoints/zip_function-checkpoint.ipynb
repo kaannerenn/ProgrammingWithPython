{
 "cells": [
  {
   "cell_type": "code",
   "execution_count": 9,
   "id": "11ef8c09",
   "metadata": {},
   "outputs": [
    {
     "name": "stdout",
     "output_type": "stream",
     "text": [
      "<zip object at 0x000002454AC95940>\n",
      "[(1, 'a'), (2, 'b'), (3, 'c'), (4, 'd')]\n",
      "[('a', 1), ('b', 2), ('c', 3), ('d', 4)]\n"
     ]
    }
   ],
   "source": [
    "list1 = [1,2,3,4]\n",
    "list2 = [\"a\",\"b\",\"c\",\"d\"]\n",
    "\n",
    "list3 = zip(list1,list2)\n",
    "print(list3) ## Şu an iterator olarak duruyor. Eğer istersek bunu listeye çevirebiliriz.\n",
    "\n",
    "list3 = list(list3)\n",
    "\n",
    "print(list3) # Zip fonksyionu görüldüğü gibi eşleşmeleri sağlar.\n",
    "\n",
    "list4 = list(zip(list2,list1))\n",
    "\n",
    "print(list4)"
   ]
  },
  {
   "cell_type": "code",
   "execution_count": 13,
   "id": "1df77405",
   "metadata": {},
   "outputs": [
    {
     "name": "stdout",
     "output_type": "stream",
     "text": [
      "[('P', 1, 'A'), ('y', 2, 'B'), ('t', 3, 'C')]\n"
     ]
    }
   ],
   "source": [
    "list1 = list(\"Python\")\n",
    "list2 = [1,2,3,4]\n",
    "list3 = [\"A\",\"B\",\"C\"]\n",
    "list4 = list(zip(list1,list2,list3))\n",
    "print(list4) # zip fonksiyonunda string harf harf alınır. Ve birleştirirken en az elemana sahip olan kadar birleştirir.\n",
    "# zip fonksiyonunu set ya da tuple ile de kullanabiliriz."
   ]
  }
 ],
 "metadata": {
  "kernelspec": {
   "display_name": "Python 3 (ipykernel)",
   "language": "python",
   "name": "python3"
  },
  "language_info": {
   "codemirror_mode": {
    "name": "ipython",
    "version": 3
   },
   "file_extension": ".py",
   "mimetype": "text/x-python",
   "name": "python",
   "nbconvert_exporter": "python",
   "pygments_lexer": "ipython3",
   "version": "3.11.3"
  }
 },
 "nbformat": 4,
 "nbformat_minor": 5
}
