{
 "cells": [
  {
   "cell_type": "code",
   "execution_count": null,
   "id": "68fda4ec",
   "metadata": {},
   "outputs": [],
   "source": [
    "\"\"\"map, filter ve reduce fonksiyonları, Python'da fonksiyonel programlamada kullanılan yüksek seviyeli fonksiyonlardır. map, \n",
    "verilen bir fonksiyonu listedeki her elemana uygular ve yeni bir liste döndürür. filter, bir koşula göre elemanları süzerek \n",
    "yeni bir liste oluşturur. reduce ise, bir fonksiyonu kullanarak listedeki elemanları birleştirerek tek bir değer döndürür \n",
    "(örneğin, toplam veya çarpım). map ve filter sonuç olarak yeni bir liste döndürürken, reduce tek bir değer üretir.\"\"\""
   ]
  },
  {
   "cell_type": "code",
   "execution_count": 4,
   "id": "92cce292",
   "metadata": {},
   "outputs": [
    {
     "name": "stdout",
     "output_type": "stream",
     "text": [
      "21\n",
      "432\n",
      "21\n",
      "432\n"
     ]
    }
   ],
   "source": [
    "from functools import reduce\n",
    "\n",
    "list1 = [2,4,6,9]\n",
    "\n",
    "def add(x,y):\n",
    "    return x + y\n",
    "\n",
    "def multiply(x,y):\n",
    "    return x * y\n",
    "\n",
    "result1 = reduce(add,list1)\n",
    "print(result1)\n",
    "result2 = reduce(multiply,list1)\n",
    "print(result2)\n",
    "\n",
    "result3 = reduce(lambda x,y : x + y,list1)\n",
    "print(result3)\n",
    "result4 = reduce(lambda x,y : x * y , list1)\n",
    "print(result4)"
   ]
  },
  {
   "cell_type": "code",
   "execution_count": 8,
   "id": "984de13e",
   "metadata": {},
   "outputs": [
    {
     "name": "stdout",
     "output_type": "stream",
     "text": [
      "24\n",
      "180\n"
     ]
    }
   ],
   "source": [
    "from functools import reduce\n",
    "from math import gcd # gcd = greatest common divisior (ebob)\n",
    "\n",
    "list1 = [2,4,6,9,10] # ebob(a,b) * ekok(a,b) = a + b ekok(a,b) = a * b / ebob(a,b)\n",
    "\n",
    "def ekok(x,y):\n",
    "    return int((x * y) / gcd(x,y))\n",
    "\n",
    "print(ekok(6,8))\n",
    "\n",
    "ekok_ = reduce(ekok,list1)\n",
    "print(ekok_)"
   ]
  },
  {
   "cell_type": "code",
   "execution_count": 9,
   "id": "fb74bade",
   "metadata": {},
   "outputs": [
    {
     "name": "stdout",
     "output_type": "stream",
     "text": [
      "rock\n"
     ]
    }
   ],
   "source": [
    "from functools import reduce\n",
    "def rock_paper_scissors(x,y):\n",
    "    set = {x,y}\n",
    "    if x == y:\n",
    "        return x\n",
    "    if set == {\"rock\",\"scissors\"}:\n",
    "        return \"rock\"\n",
    "    if set == {\"rock\",\"paper\"}:\n",
    "        return \"paper\"\n",
    "    if set == {\"paper\",\"scissors\"}:\n",
    "        return \"scissors\"\n",
    "\n",
    "list1 = [\"rock\",\"paper\",\"rock\",\"scissors\",\"paper\",\"scissors\",\"rock\"]\n",
    "result = reduce(rock_paper_scissors,list1)\n",
    "print(result)\n",
    "# Buradaki amaç reduce fonksiyonunun nasıl çalıştığını göstermektir.\n",
    "# İlk başta rock ve paper işleme giriyor, paper kazanıyor. Daha sonra paper ve rock işleme giriyor tekrardan paper kazanıyor.\n",
    "# Daha sonra paper ile scissors işleme giriyor scissor kazanıyor. Daha sonrasında paper ile işleme giriyor yine scissors kazandı.\n",
    "# sonrasında scissors ile scissors işleme giriyor tekrardan scissors geri dönüyor. En sonunda scissors ile rock işleme giriyor.\n",
    "# Ve sonuç rock olarak cıkıyor."
   ]
  }
 ],
 "metadata": {
  "kernelspec": {
   "display_name": "Python 3 (ipykernel)",
   "language": "python",
   "name": "python3"
  },
  "language_info": {
   "codemirror_mode": {
    "name": "ipython",
    "version": 3
   },
   "file_extension": ".py",
   "mimetype": "text/x-python",
   "name": "python",
   "nbconvert_exporter": "python",
   "pygments_lexer": "ipython3",
   "version": "3.11.3"
  }
 },
 "nbformat": 4,
 "nbformat_minor": 5
}
