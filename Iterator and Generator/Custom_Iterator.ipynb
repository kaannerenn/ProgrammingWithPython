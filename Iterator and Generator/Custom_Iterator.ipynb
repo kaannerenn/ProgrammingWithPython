{
 "cells": [
  {
   "cell_type": "code",
   "execution_count": 3,
   "id": "3f00400d",
   "metadata": {},
   "outputs": [
    {
     "name": "stdout",
     "output_type": "stream",
     "text": [
      "H\n",
      "e\n",
      "l\n",
      "l\n",
      "o\n",
      " \n",
      "E\n",
      "v\n",
      "e\n",
      "r\n",
      "y\n",
      "o\n",
      "n\n",
      "e\n"
     ]
    }
   ],
   "source": [
    "sentence = \"Hello Everyone\"\n",
    "\n",
    "for i in sentence:\n",
    "    print(i) #Bunu alt alta değilde kelimeleri yan yana yazmak istiyorsak kendi iteratorumuzu  yazmalıyız."
   ]
  },
  {
   "cell_type": "code",
   "execution_count": 6,
   "id": "6393f775",
   "metadata": {},
   "outputs": [
    {
     "name": "stdout",
     "output_type": "stream",
     "text": [
      "Hello\n",
      "Everyone\n"
     ]
    }
   ],
   "source": [
    "class Sentence:\n",
    "    def __init__(self,sentence):\n",
    "        self.sentence = sentence\n",
    "        self.index = 0\n",
    "        self.words = self.sentence.split()\n",
    "        \n",
    "    #Eğer for döngüsünde kullanmak istiyorsak iter metodunu tanımlamalıyız. Aksi taktirde for döngüsünde kullanamayız.\n",
    "    \n",
    "    def __iter__(self):\n",
    "        return self\n",
    "    \n",
    "    def __next__(self):\n",
    "        if self.index >= len(self.words):\n",
    "            raise StopIteration\n",
    "            \n",
    "        will_returned = self.index\n",
    "        \n",
    "        self.index += 1\n",
    "        \n",
    "        return self.words[will_returned]\n",
    "\n",
    "new_sentence = Sentence(\"Hello Everyone\")\n",
    "for i in new_sentence:\n",
    "    print(i)"
   ]
  }
 ],
 "metadata": {
  "kernelspec": {
   "display_name": "Python 3 (ipykernel)",
   "language": "python",
   "name": "python3"
  },
  "language_info": {
   "codemirror_mode": {
    "name": "ipython",
    "version": 3
   },
   "file_extension": ".py",
   "mimetype": "text/x-python",
   "name": "python",
   "nbconvert_exporter": "python",
   "pygments_lexer": "ipython3",
   "version": "3.11.3"
  }
 },
 "nbformat": 4,
 "nbformat_minor": 5
}
