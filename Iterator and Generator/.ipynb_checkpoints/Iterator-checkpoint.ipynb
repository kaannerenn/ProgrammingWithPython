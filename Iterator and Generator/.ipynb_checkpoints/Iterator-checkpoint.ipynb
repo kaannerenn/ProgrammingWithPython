{
 "cells": [
  {
   "cell_type": "code",
   "execution_count": 2,
   "id": "88aeaf34",
   "metadata": {},
   "outputs": [
    {
     "name": "stdout",
     "output_type": "stream",
     "text": [
      "1\n",
      "2\n",
      "3\n",
      "['__add__', '__class__', '__class_getitem__', '__contains__', '__delattr__', '__delitem__', '__dir__', '__doc__', '__eq__', '__format__', '__ge__', '__getattribute__', '__getitem__', '__getstate__', '__gt__', '__hash__', '__iadd__', '__imul__', '__init__', '__init_subclass__', '__iter__', '__le__', '__len__', '__lt__', '__mul__', '__ne__', '__new__', '__reduce__', '__reduce_ex__', '__repr__', '__reversed__', '__rmul__', '__setattr__', '__setitem__', '__sizeof__', '__str__', '__subclasshook__', 'append', 'clear', 'copy', 'count', 'extend', 'index', 'insert', 'pop', 'remove', 'reverse', 'sort']\n"
     ]
    }
   ],
   "source": [
    "# Bizim döngülerde kullanabiliceğimiz her nesne iterable'dır.\n",
    "# Iterator aşağıdaki döngüde adımlama işini yapan yapıdır. Örneğin önce 1 sonra 2 sonra 3 diye gidiyor(eleman kalmayınca sonlanır).\n",
    "\n",
    "numbers = [1,2,3]\n",
    "\n",
    "for number in numbers:\n",
    "    print(number)\n",
    "\n",
    "print(dir(numbers)) # Eğer bir nesnenin iterable oluğ olmadığına bakmak istiyorsak bu şekilde __iter__ metodunu arayabiliriz."
   ]
  },
  {
   "cell_type": "code",
   "execution_count": 5,
   "id": "5fdb25ec",
   "metadata": {},
   "outputs": [
    {
     "name": "stdout",
     "output_type": "stream",
     "text": [
      "<class 'list_iterator'>\n",
      "['__class__', '__delattr__', '__dir__', '__doc__', '__eq__', '__format__', '__ge__', '__getattribute__', '__getstate__', '__gt__', '__hash__', '__init__', '__init_subclass__', '__iter__', '__le__', '__length_hint__', '__lt__', '__ne__', '__new__', '__next__', '__reduce__', '__reduce_ex__', '__repr__', '__setattr__', '__setstate__', '__sizeof__', '__str__', '__subclasshook__']\n"
     ]
    }
   ],
   "source": [
    "#__iter__() metodu geriye bir iterator döndürür.\n",
    "\n",
    "numbers = [1,2,3]\n",
    "\n",
    "i_numbers = numbers.__iter__() \n",
    "i_numbers = iter(numbers) # 2 kullanımda doğrudur.\n",
    "print(type(i_numbers))\n",
    "print(dir(i_numbers)) # Buradaki __next__ metodu bir sonraki elemana geçmemizi sağlar."
   ]
  },
  {
   "cell_type": "code",
   "execution_count": 10,
   "id": "9718ea24",
   "metadata": {},
   "outputs": [
    {
     "name": "stdout",
     "output_type": "stream",
     "text": [
      "1\n",
      "2\n",
      "3\n"
     ]
    },
    {
     "ename": "StopIteration",
     "evalue": "",
     "output_type": "error",
     "traceback": [
      "\u001b[1;31m---------------------------------------------------------------------------\u001b[0m",
      "\u001b[1;31mStopIteration\u001b[0m                             Traceback (most recent call last)",
      "Cell \u001b[1;32mIn[10], line 8\u001b[0m\n\u001b[0;32m      6\u001b[0m \u001b[38;5;28mprint\u001b[39m(\u001b[38;5;28mnext\u001b[39m(i_numbers)) \u001b[38;5;66;03m#Yine 2 kullanımda doğrudur.\u001b[39;00m\n\u001b[0;32m      7\u001b[0m \u001b[38;5;28mprint\u001b[39m(\u001b[38;5;28mnext\u001b[39m(i_numbers))\n\u001b[1;32m----> 8\u001b[0m \u001b[38;5;28mprint\u001b[39m(\u001b[38;5;28mnext\u001b[39m(i_numbers))\n",
      "\u001b[1;31mStopIteration\u001b[0m: "
     ]
    }
   ],
   "source": [
    "numbers = [1,2,3]\n",
    "\n",
    "i_numbers = iter(numbers)\n",
    "\n",
    "print(i_numbers.__next__())\n",
    "print(next(i_numbers)) #Yine 2 kullanımda doğrudur.\n",
    "print(next(i_numbers))\n",
    "print(next(i_numbers)) #Eğer listenin son elemanından sonra bir daha ilerlemeyi denersek StopIteration hatası alırız."
   ]
  },
  {
   "cell_type": "code",
   "execution_count": 11,
   "id": "afab9063",
   "metadata": {},
   "outputs": [
    {
     "name": "stdout",
     "output_type": "stream",
     "text": [
      "1\n",
      "2\n",
      "3\n"
     ]
    }
   ],
   "source": [
    "numbers = [1,2,3]\n",
    "\n",
    "i_numbers = iter(numbers)\n",
    "\n",
    "while True:\n",
    "    try:\n",
    "        number = next(i_numbers)\n",
    "        print(number)\n",
    "    except StopIteration:\n",
    "        break\n",
    "#Aslında döngülerde arka planda dönen işlemde yukarıdaki işlemdir."
   ]
  },
  {
   "cell_type": "code",
   "execution_count": 17,
   "id": "5b0c7507",
   "metadata": {},
   "outputs": [
    {
     "name": "stdout",
     "output_type": "stream",
     "text": [
      "10\n",
      "11\n",
      "12\n",
      "13\n",
      "14\n",
      "15\n",
      "16\n",
      "17\n",
      "18\n",
      "19\n"
     ]
    }
   ],
   "source": [
    "class New_Range():\n",
    "    \n",
    "    def __init__(self,start_value,end_value):\n",
    "        self.will_written = start_value\n",
    "        self.end_value = end_value\n",
    "        \n",
    "    def __iter__(self):\n",
    "        return self\n",
    "    \n",
    "    def __next__(self):\n",
    "        if self.will_written >= self.end_value:\n",
    "            raise StopIteration\n",
    "            \n",
    "        value = self.will_written\n",
    "        \n",
    "        self.will_written += 1\n",
    "        \n",
    "        return value\n",
    "    \n",
    "numbers = New_Range(10,20)\n",
    "\n",
    "for i in numbers:\n",
    "    print(i)"
   ]
  },
  {
   "cell_type": "code",
   "execution_count": 19,
   "id": "f2f07c92",
   "metadata": {},
   "outputs": [
    {
     "name": "stdout",
     "output_type": "stream",
     "text": [
      "10\n",
      "11\n",
      "12\n",
      "13\n"
     ]
    }
   ],
   "source": [
    "class New_Range():\n",
    "    \n",
    "    def __init__(self,start_value,end_value):\n",
    "        self.will_written = start_value\n",
    "        self.end_value = end_value\n",
    "        \n",
    "    def __iter__(self):\n",
    "        return self\n",
    "    \n",
    "    def __next__(self):\n",
    "        if self.will_written >= self.end_value:\n",
    "            raise StopIteration\n",
    "            \n",
    "        value = self.will_written\n",
    "        \n",
    "        self.will_written += 1\n",
    "        \n",
    "        return value\n",
    "    \n",
    "numbers = New_Range(10,20)\n",
    "\n",
    "print(next(numbers)) #Bu şekilde de çalıştırabiliyoruz fakat 19'dan sonra StopIteration hatası alırız.\n",
    "print(next(numbers))\n",
    "print(next(numbers))\n",
    "print(next(numbers))"
   ]
  }
 ],
 "metadata": {
  "kernelspec": {
   "display_name": "Python 3 (ipykernel)",
   "language": "python",
   "name": "python3"
  },
  "language_info": {
   "codemirror_mode": {
    "name": "ipython",
    "version": 3
   },
   "file_extension": ".py",
   "mimetype": "text/x-python",
   "name": "python",
   "nbconvert_exporter": "python",
   "pygments_lexer": "ipython3",
   "version": "3.11.3"
  }
 },
 "nbformat": 4,
 "nbformat_minor": 5
}
