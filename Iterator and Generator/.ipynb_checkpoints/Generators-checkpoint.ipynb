{
 "cells": [
  {
   "cell_type": "code",
   "execution_count": 3,
   "id": "5ee29d6e",
   "metadata": {},
   "outputs": [
    {
     "name": "stdout",
     "output_type": "stream",
     "text": [
      "0\n",
      "1\n",
      "2\n"
     ]
    },
    {
     "ename": "StopIteration",
     "evalue": "",
     "output_type": "error",
     "traceback": [
      "\u001b[1;31m---------------------------------------------------------------------------\u001b[0m",
      "\u001b[1;31mStopIteration\u001b[0m                             Traceback (most recent call last)",
      "Cell \u001b[1;32mIn[3], line 15\u001b[0m\n\u001b[0;32m     13\u001b[0m \u001b[38;5;28mprint\u001b[39m(\u001b[38;5;28mnext\u001b[39m(generator_func))\n\u001b[0;32m     14\u001b[0m \u001b[38;5;28mprint\u001b[39m(\u001b[38;5;28mnext\u001b[39m(generator_func))\n\u001b[1;32m---> 15\u001b[0m \u001b[38;5;28mprint\u001b[39m(\u001b[38;5;28mnext\u001b[39m(generator_func))\n",
      "\u001b[1;31mStopIteration\u001b[0m: "
     ]
    }
   ],
   "source": [
    "def number_generator(limit):\n",
    "    number = 0\n",
    "    while number < limit:\n",
    "        yield number\n",
    "# yield keyword'ü return gibi bir değer döndürür. Ancak return fonksiyonu tamamen bitirirken, \n",
    "# yield fonksiyonun mevcut durumunu kaydedip duraklatır. Fonksiyon bir sonraki çağrıldığında (`next()`) \n",
    "# kaldığı yerden çalışmaya devam eder. Bu sayede hafıza dostu bir şekilde büyük veriler üzerinde işlem yapabiliriz.\n",
    "        number += 1\n",
    "    \n",
    "generator_func = number_generator(3)\n",
    "\n",
    "print(next(generator_func))\n",
    "print(next(generator_func))\n",
    "print(next(generator_func))\n",
    "print(next(generator_func)) # Iteration konusunda olduğu gibi burda da limitten sonra StopIteration hatası alırız.\n",
    "# Normalde bu şekilde değilde döngülerle kullanıyoruz. Tıpkı iteratorlerdeki gibi.\n",
    "\n"
   ]
  },
  {
   "cell_type": "code",
   "execution_count": 5,
   "id": "f6ecdb85",
   "metadata": {},
   "outputs": [
    {
     "name": "stdout",
     "output_type": "stream",
     "text": [
      "0\n",
      "1\n",
      "2\n",
      "[0, 1, 2, 3, 4, 5, 6, 7, 8, 9]\n"
     ]
    }
   ],
   "source": [
    "def number_generator(limit):\n",
    "    number = 0\n",
    "    while number < limit:\n",
    "        yield number\n",
    "        number += 1\n",
    "    \n",
    "for n in number_generator(3):\n",
    "    print(n)\n",
    "#Doğal kullanımı genelde bu şekildedir.\n",
    "\n",
    "list1 = list(number_generator(10))\n",
    "print(list1)"
   ]
  },
  {
   "cell_type": "code",
   "execution_count": 6,
   "id": "b18df3df",
   "metadata": {},
   "outputs": [
    {
     "name": "stdout",
     "output_type": "stream",
     "text": [
      "0 2 4 6 8 10 12 14 16 18 20 22 24 26 28 30 32 34 36 38 40 42 44 46 48 50 52 54 56 58 60 62 64 66 68 70 72 74 76 78 80 82 84 86 88 90 92 94 96 98 "
     ]
    }
   ],
   "source": [
    "def even_number_generator(limit):\n",
    "    number = 0\n",
    "    while number < limit:\n",
    "        if number % 2 == 0:\n",
    "            yield number\n",
    "        number += 1\n",
    "        \n",
    "for n in even_number_generator(100):\n",
    "    print(n,end =\" \")"
   ]
  },
  {
   "cell_type": "code",
   "execution_count": 9,
   "id": "271b6c80",
   "metadata": {},
   "outputs": [
    {
     "name": "stdout",
     "output_type": "stream",
     "text": [
      "0 1 1 2 3 5 8 13 21 34 "
     ]
    }
   ],
   "source": [
    "def fibonacci_generator(sequence_length):\n",
    "    a, b = 0 , 1\n",
    "    count = 0\n",
    "    while count < sequence_length:\n",
    "        yield a\n",
    "        a , b = b , a + b # bu satır alttaki üç satıra eş değerdir.\n",
    "        #temporary = a\n",
    "        #a = b\n",
    "        #b = temporary + b\n",
    "        count += 1\n",
    "        \n",
    "for fib_n in fibonacci_generator(10):\n",
    "    print(fib_n, end = \" \")"
   ]
  },
  {
   "cell_type": "code",
   "execution_count": 14,
   "id": "ddefd020",
   "metadata": {},
   "outputs": [
    {
     "name": "stdout",
     "output_type": "stream",
     "text": [
      "asdasdasdasdasdsadasdlk21123\n",
      "dsklk213431\n",
      "ASDASD!^!'32132\n",
      "qwldişw dqw dikwq qilw\n",
      "2130 dq445: 13\n"
     ]
    }
   ],
   "source": [
    "def file_line_reader(file_name):\n",
    "    with open(file_name, \"r\",encoding = \"utf-8\") as file_object: ## encoding = \"utf-8\" türkçe karakter probleminden kurtarıyor.\n",
    "        for line in file_object:\n",
    "            yield line.strip()\n",
    "            \n",
    "for line in file_line_reader(\"sample.txt\"):\n",
    "    print(line)"
   ]
  },
  {
   "cell_type": "code",
   "execution_count": 15,
   "id": "3452c7b3",
   "metadata": {},
   "outputs": [
    {
     "name": "stdout",
     "output_type": "stream",
     "text": [
      "179 917 457 626 228 486 778 555 393 714 693 925 210 564 943 358 369 378 160 930 200 708 344 819 155 371 110 576 525 872 "
     ]
    }
   ],
   "source": [
    "import random\n",
    "def random_number_generator(limit, low, high):\n",
    "    count = 0\n",
    "    while count < limit:\n",
    "        yield random.randint(low, high)\n",
    "        count += 1\n",
    "        \n",
    "for number in random_number_generator(30,100,999):\n",
    "    print(number,end =\" \")"
   ]
  },
  {
   "cell_type": "code",
   "execution_count": 17,
   "id": "3a35bcea",
   "metadata": {},
   "outputs": [
    {
     "name": "stdout",
     "output_type": "stream",
     "text": [
      "12 64 34 2 6 23 2 531 98 67 2 87 531 2 456 6 43 64 23 12 34 6 24 10442 6 64 67 12 10962 10364 10130 10429 10260 10975 10793 10923 10182 10377 10637 6 10663 10858 10624 10078 10884 10286 10143 456 10481 10065 10676 10247 10312 10910 10117 10156 10897 10403 10507 10611 10741 10013 10299 34 10871 10845 10026 10949 10520 10221 10728 10494 10234 87 10091 98 2 10338 24 10754 531 43 10936 10195 10832 10533 10689 10169 10273 10572 10650 10390 10559 10819 10416 10585 10325 2 10039 23 10767 10351 10455 10715 10780 10104 10598 10468 10988 10806 10546 10208 10000 10702 10052 "
     ]
    }
   ],
   "source": [
    "import random\n",
    "def shuffled_sequence_generator(*sequences):\n",
    "    combined_seq = []\n",
    "    for sequence in sequences:\n",
    "        combined_seq += sequence\n",
    "        random.shuffle(combined_seq)\n",
    "        \n",
    "        for element in combined_seq:\n",
    "            yield element\n",
    "\n",
    "            \n",
    "seq1 = [12,34,531,6,2,64,2,23]\n",
    "seq2 = [67,87,6,456,24,98,43]\n",
    "seq3 = [x for x in range (10000,11000,13)]\n",
    "\n",
    "for number in shuffled_sequence_generator(seq1,seq2,seq3):\n",
    "    print(number, end=\" \")\n"
   ]
  }
 ],
 "metadata": {
  "kernelspec": {
   "display_name": "Python 3 (ipykernel)",
   "language": "python",
   "name": "python3"
  },
  "language_info": {
   "codemirror_mode": {
    "name": "ipython",
    "version": 3
   },
   "file_extension": ".py",
   "mimetype": "text/x-python",
   "name": "python",
   "nbconvert_exporter": "python",
   "pygments_lexer": "ipython3",
   "version": "3.11.3"
  }
 },
 "nbformat": 4,
 "nbformat_minor": 5
}
