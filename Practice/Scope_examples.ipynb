{
 "cells": [
  {
   "cell_type": "code",
   "execution_count": 1,
   "id": "aa4a7b99",
   "metadata": {},
   "outputs": [
    {
     "name": "stdout",
     "output_type": "stream",
     "text": [
      "global x\n"
     ]
    }
   ],
   "source": [
    "x = \"global x\"\n",
    "def func():\n",
    "    print(x)\n",
    "\n",
    "func()"
   ]
  },
  {
   "cell_type": "code",
   "execution_count": 2,
   "id": "8f46a0e2",
   "metadata": {},
   "outputs": [
    {
     "name": "stdout",
     "output_type": "stream",
     "text": [
      "enclosing x\n"
     ]
    }
   ],
   "source": [
    "def outer():\n",
    "    x = \"enclosing x\"\n",
    "    def inner():\n",
    "        print(x)\n",
    "    inner()\n",
    "outer()"
   ]
  },
  {
   "cell_type": "code",
   "execution_count": 7,
   "id": "ede93af7",
   "metadata": {},
   "outputs": [
    {
     "name": "stdout",
     "output_type": "stream",
     "text": [
      "enclosing x\n",
      "5\n"
     ]
    }
   ],
   "source": [
    "x = \"global x\"\n",
    "def outer():\n",
    "    x = \"enclosing x\"\n",
    "    def inner():\n",
    "        nonlocal x\n",
    "        x = 5\n",
    "        print(x)\n",
    "    \n",
    "    inner()\n",
    "outer()"
   ]
  },
  {
   "cell_type": "code",
   "execution_count": 17,
   "id": "6cdbdbf8",
   "metadata": {},
   "outputs": [
    {
     "name": "stdout",
     "output_type": "stream",
     "text": [
      "Company Name : TechCorp, Employee Name : Kaan, Salary :5000\n",
      "Company Name : TechCorp, Employee Name : Kaan, Salary :5500.0\n"
     ]
    }
   ],
   "source": [
    "class Company:\n",
    "    def __init__(self,company_name):\n",
    "        self.company_name = company_name\n",
    "\n",
    "        \n",
    "class Employee(Company):\n",
    "    def __init__(self,company_name,employee_name,salary):\n",
    "        super().__init__(company_name)\n",
    "        self.employee_name = employee_name\n",
    "        self.salary = salary\n",
    "    \n",
    "    def increase_salary(self,percentage):\n",
    "        self.salary += self.salary * (percentage / 100)\n",
    "        \n",
    "    def __str__(self):\n",
    "        return f\"Company Name : {self.company_name}, Employee Name : {self.employee_name}, Salary :{self.salary}\"\n",
    "\n",
    "company1 = Company(\"TechCorp\")\n",
    "employee1 = Employee(\"TechCorp\", \"Kaan\", 5000)\n",
    "print(employee1)\n",
    "employee1.increase_salary(10)\n",
    "print(employee1)\n",
    "'''Local Scope: Fonksiyonlar (örneğin, increase_salary) içindeki yerel değişkenler.\n",
    "\n",
    "Enclosing Scope: Sınıf içinde (örneğin, Employee) tanımlanan ve sınıf içindeki tüm metotlar tarafından erişilebilen değişkenler.\n",
    "\n",
    "Global Scope: Dosyanın en dış kısmında (sınıfların tanımlanması gibi) kullanılan değişkenler.'''"
   ]
  }
 ],
 "metadata": {
  "kernelspec": {
   "display_name": "Python 3 (ipykernel)",
   "language": "python",
   "name": "python3"
  },
  "language_info": {
   "codemirror_mode": {
    "name": "ipython",
    "version": 3
   },
   "file_extension": ".py",
   "mimetype": "text/x-python",
   "name": "python",
   "nbconvert_exporter": "python",
   "pygments_lexer": "ipython3",
   "version": "3.11.3"
  }
 },
 "nbformat": 4,
 "nbformat_minor": 5
}
