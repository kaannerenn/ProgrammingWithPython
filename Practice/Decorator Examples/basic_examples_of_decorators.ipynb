{
 "cells": [
  {
   "cell_type": "code",
   "execution_count": 6,
   "id": "3a0c821a",
   "metadata": {},
   "outputs": [
    {
     "name": "stdout",
     "output_type": "stream",
     "text": [
      "The process took 2.0011 seconds\n",
      "Function result: 576\n"
     ]
    }
   ],
   "source": [
    "import time\n",
    "def execution_timer(func):\n",
    "    def wrapper(*args,**kwargs):\n",
    "        beginning = time.time()\n",
    "        result = func(*args,**kwargs)\n",
    "        end = time.time()\n",
    "        print(\"The process took {:.4f} seconds\".format(end - beginning))\n",
    "        return result\n",
    "    return wrapper\n",
    "\n",
    "@execution_timer\n",
    "def function(*args):\n",
    "    time.sleep(2)\n",
    "    result = 1\n",
    "    for arg in args:\n",
    "        result *= arg\n",
    "    return result\n",
    "\n",
    "result = function(1, 2, 4, 6, 12)\n",
    "print(\"Function result:\", result)"
   ]
  },
  {
   "cell_type": "code",
   "execution_count": 12,
   "id": "7ed5eea3",
   "metadata": {},
   "outputs": [
    {
     "name": "stdout",
     "output_type": "stream",
     "text": [
      "The process called 1. time.\n",
      "Function result: 576\n",
      "The process called 2. time.\n",
      "Function result: 6\n"
     ]
    }
   ],
   "source": [
    "##Bir fonksiyonun kaç kez çağrıldığını takip eden bir decorator\n",
    "def how_many_timer(func):\n",
    "    count = 0  # count'ı dışarıda tanımladık\n",
    "    def wrapper(*args, **kwargs):\n",
    "        nonlocal count  # count'ı dışarıdaki scope'dan almak için nonlocal kullanıyoruz\n",
    "        result = func(*args, **kwargs)\n",
    "        count += 1\n",
    "        print(f\"The process called {count}. time.\")\n",
    "        return result\n",
    "    return wrapper\n",
    "\n",
    "@how_many_timer\n",
    "def function(*args):\n",
    "    time.sleep(2)\n",
    "    result = 1\n",
    "    for arg in args:\n",
    "        result *= arg\n",
    "    return result\n",
    "\n",
    "\n",
    "result = function(1, 2, 4, 6, 12)\n",
    "print(\"Function result:\", result)\n",
    "result = function(2, 3)\n",
    "print(\"Function result:\", result)"
   ]
  },
  {
   "cell_type": "code",
   "execution_count": 30,
   "id": "8ee5c658",
   "metadata": {},
   "outputs": [
    {
     "name": "stdout",
     "output_type": "stream",
     "text": [
      "13 is a prime number.\n",
      "Please enter a positive number\n"
     ]
    }
   ],
   "source": [
    "'''Bir decorator yaz, bu decorator fonksiyonun yalnızca belirli bir koşul sağlanıyorsa çalışmasını sağlasın. \n",
    "Örneğin, bir fonksiyonun yalnızca pozitif sayılarla çağrılması gerektiğini kontrol etsin. \n",
    "Eğer negatif bir sayı girilirse, fonksiyon çalışmasın ve bir hata mesajı yazdırsın.'''\n",
    "def is_positive(func):\n",
    "    def wrapper(number):\n",
    "        if number <= 0:\n",
    "            print(\"Please enter a positive number\")\n",
    "        else:\n",
    "            return func(number)\n",
    "    return wrapper\n",
    "\n",
    "@is_positive\n",
    "def function(number):\n",
    "    for i in range(2, number):\n",
    "        if number % i == 0:\n",
    "            print(f\"{number} is not a prime number.\")\n",
    "            break\n",
    "    else:\n",
    "        print(f\"{number} is a prime number.\")\n",
    "\n",
    "\n",
    "function(13) \n",
    "function(-5)  "
   ]
  },
  {
   "cell_type": "code",
   "execution_count": 33,
   "id": "45e4d5f3",
   "metadata": {},
   "outputs": [
    {
     "name": "stdout",
     "output_type": "stream",
     "text": [
      "[2, 4, 6, 8, 14, 36]\n"
     ]
    }
   ],
   "source": [
    "## Bir dekoratör oluşturun ve bu dekoratör, fonksiyonun çıktısını iki katına çıkarsın.\n",
    "def two_times(func):\n",
    "    def wrapper(*args):\n",
    "        result = []\n",
    "        for arg in args:\n",
    "            result.append(arg * 2)  \n",
    "        return sorted(result)  \n",
    "    return wrapper\n",
    "\n",
    "@two_times\n",
    "def function(*args):\n",
    "    result = []\n",
    "    for arg in args:\n",
    "        result.append(arg)\n",
    "    return sorted(result)\n",
    "\n",
    "\n",
    "print(function(1, 4, 3, 7, 2, 18))"
   ]
  },
  {
   "cell_type": "code",
   "execution_count": 41,
   "id": "e3ba29b4",
   "metadata": {},
   "outputs": [
    {
     "name": "stdout",
     "output_type": "stream",
     "text": [
      "Error: Negative number detected!\n",
      "None\n",
      "[1, 2, 3, 5, 7]\n"
     ]
    }
   ],
   "source": [
    "'''Bir dekoratör oluşturun, bu dekoratör fonksiyonun aldığı tüm parametrelerin negatif olup olmadığını kontrol etsin. \n",
    "Eğer negatif bir parametre varsa, fonksiyon çalışmasın ve bir hata mesajı göstersin. \n",
    "Pozitif parametrelerle çalışmaya devam etsin.'''\n",
    "def is_negative(func):\n",
    "    def wrapper(*args):\n",
    "        for arg in args:\n",
    "            if arg < 0:\n",
    "                print(\"Error: Negative number detected!\")\n",
    "                return \n",
    "        return func(*args)  # Tüm sayılar pozitifse, fonksiyonu çalıştır\n",
    "    return wrapper\n",
    "\n",
    "@is_negative\n",
    "def function(*args):\n",
    "    return sorted(args)\n",
    "\n",
    "# Test\n",
    "print(function(-5, 2, 3, 1, -7)) \n",
    "print(function(5, 2, 3, 1, 7))    "
   ]
  }
 ],
 "metadata": {
  "kernelspec": {
   "display_name": "Python 3 (ipykernel)",
   "language": "python",
   "name": "python3"
  },
  "language_info": {
   "codemirror_mode": {
    "name": "ipython",
    "version": 3
   },
   "file_extension": ".py",
   "mimetype": "text/x-python",
   "name": "python",
   "nbconvert_exporter": "python",
   "pygments_lexer": "ipython3",
   "version": "3.11.3"
  }
 },
 "nbformat": 4,
 "nbformat_minor": 5
}
