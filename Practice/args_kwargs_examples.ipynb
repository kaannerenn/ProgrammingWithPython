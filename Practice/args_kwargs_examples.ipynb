{
 "cells": [
  {
   "cell_type": "code",
   "execution_count": 22,
   "id": "056f175f",
   "metadata": {},
   "outputs": [
    {
     "name": "stdout",
     "output_type": "stream",
     "text": [
      "\n",
      "Ana Yemek:\n",
      "  Tavuklu Makarna: 150 TL\n",
      "  Pilav Kavurma: 250 TL\n",
      "  Ton Balıklı Makarna: 215 TL\n",
      "\n",
      "Tatlı:\n",
      "  Tiramisu: 200 TL\n",
      "  Kazandibi: 150 TL\n",
      "  Baklava: 300 TL\n",
      "  Fıstıklı Baklava: 450 TL\n",
      "\n",
      "İçecek:\n",
      "  Ayran: 40 TL\n",
      "  Fanta: 55 TL\n",
      "  Cola: 60 TL\n"
     ]
    }
   ],
   "source": [
    "class Menu:\n",
    "    \n",
    "    list_menu = {\n",
    "        \"Ana Yemek\": [],\n",
    "        \"Tatlı\": [],\n",
    "        \"İçecek\": []\n",
    "    }\n",
    "    \n",
    "    @classmethod\n",
    "    def add_menu(cls, category, **kwargs):\n",
    "        if category not in cls.list_menu:\n",
    "            print(f\"{category} kategorisi mevcut değil.\")\n",
    "            return\n",
    "        for dish, price in kwargs.items():\n",
    "            dish = dish.replace(\"_\",\" \")\n",
    "            cls.list_menu[category].append((dish, price))\n",
    "    \n",
    "    @classmethod\n",
    "    def show_menu(cls):\n",
    "\n",
    "        for category, dishes in cls.list_menu.items():\n",
    "            print(f\"\\n{category}:\")\n",
    "            for dish, price in dishes:\n",
    "                print(f\"  {dish}: {price} TL\")\n",
    "\n",
    "\n",
    "Menu.add_menu(\"Ana Yemek\", Tavuklu_Makarna=150, Pilav_Kavurma=250, Ton_Balıklı_Makarna=215)\n",
    "Menu.add_menu(\"Tatlı\", Tiramisu=200, Kazandibi=150, Baklava=300, Fıstıklı_Baklava = 450)\n",
    "Menu.add_menu(\"İçecek\", Ayran=40, Fanta=55, Cola=60)\n",
    "\n",
    "\n",
    "Menu.show_menu()"
   ]
  },
  {
   "cell_type": "code",
   "execution_count": 25,
   "id": "bdd81a0f",
   "metadata": {},
   "outputs": [
    {
     "name": "stdout",
     "output_type": "stream",
     "text": [
      "Menü:\n",
      "- Tavuklu Makarna\n",
      "- Pilav Kavurma\n",
      "- Ton Balıklı Makarna\n",
      "\n",
      "Açıklamalar ve fiyatlar:\n",
      "Tavuklu_Makarna: Fiyat: 150 TL - Tavuklu, zengin soslu makarna\n",
      "Pilav_Kavurma: Fiyat: 250 TL - Etli, baharatlı pilav\n",
      "Ton_Balıklı_Makarna: Fiyat: 215 TL - Ton balıklı, hafif makarna\n"
     ]
    }
   ],
   "source": [
    "def restaurant_menu(*args, **kwargs):\n",
    "    print(\"Menü:\")\n",
    "    \n",
    "    \n",
    "    for yemek in args:\n",
    "        print(f\"- {yemek}\")\n",
    "    \n",
    "    print(\"\\nAçıklamalar ve fiyatlar:\")\n",
    "    \n",
    "    \n",
    "    for yemek, detay in kwargs.items():\n",
    "        print(f\"{yemek}: {detay}\")\n",
    "    \n",
    "\n",
    "restaurant_menu(\n",
    "    \"Tavuklu Makarna\", \"Pilav Kavurma\", \"Ton Balıklı Makarna\", \n",
    "    Tavuklu_Makarna=\"Fiyat: 150 TL - Tavuklu, zengin soslu makarna\",\n",
    "    Pilav_Kavurma=\"Fiyat: 250 TL - Etli, baharatlı pilav\",\n",
    "    Ton_Balıklı_Makarna=\"Fiyat: 215 TL - Ton balıklı, hafif makarna\"\n",
    ")"
   ]
  }
 ],
 "metadata": {
  "kernelspec": {
   "display_name": "Python 3 (ipykernel)",
   "language": "python",
   "name": "python3"
  },
  "language_info": {
   "codemirror_mode": {
    "name": "ipython",
    "version": 3
   },
   "file_extension": ".py",
   "mimetype": "text/x-python",
   "name": "python",
   "nbconvert_exporter": "python",
   "pygments_lexer": "ipython3",
   "version": "3.11.3"
  }
 },
 "nbformat": 4,
 "nbformat_minor": 5
}
