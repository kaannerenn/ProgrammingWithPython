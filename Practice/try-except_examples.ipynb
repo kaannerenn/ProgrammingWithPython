{
 "cells": [
  {
   "cell_type": "code",
   "execution_count": 9,
   "id": "24645702",
   "metadata": {},
   "outputs": [
    {
     "name": "stdout",
     "output_type": "stream",
     "text": [
      "Enter the number: 12\n",
      "Sonuç: 0.4166666666666667\n"
     ]
    }
   ],
   "source": [
    "## Kullanıcıdan bir sayı al ve 5’e böl. Hata olursa yakala.\n",
    "number = input(\"Enter the number: \") \n",
    "try:\n",
    "    number = float(number)  \n",
    "    result = 5 / number  \n",
    "except ZeroDivisionError:\n",
    "    print(\"Girdiğiniz sayı 0, lütfen başka bir sayı deneyiniz.\")\n",
    "except ValueError:\n",
    "    print(\"Geçerli bir sayı giriniz!\") \n",
    "except Exception as e:\n",
    "    print(\"Bir hata oluştu:\", e)\n",
    "else:\n",
    "    print(\"Sonuç:\", result)"
   ]
  },
  {
   "cell_type": "code",
   "execution_count": 20,
   "id": "0d6f7604",
   "metadata": {},
   "outputs": [
    {
     "name": "stdout",
     "output_type": "stream",
     "text": [
      "Enter the first number: asd\n",
      "Enter the second number: 5\n",
      "Geçerli bir sayı giriniz!\n"
     ]
    }
   ],
   "source": [
    "## Kullanıcıdan iki sayı al, bölme işlemi yap. Sayı yerine harf girerse hatayı yakala.\n",
    "number1 = input(\"Enter the first number: \")\n",
    "number2 = input(\"Enter the second number: \")\n",
    "\n",
    "try:\n",
    "    number1 = float(number1)\n",
    "    number2 = float(number2)\n",
    "    result = number1 / number2\n",
    "except ValueError:\n",
    "        print(\"Geçerli bir sayı giriniz!\")\n",
    "except ZeroDivisionError:\n",
    "    print(\"Girdiğiniz 2. sayı 0, lütfen başka bir sayı deneyiniz.\")\n",
    "except Exception as e:\n",
    "    print(\"Bir hata oluştu\", e)\n",
    "else:\n",
    "    print(f\"Sonuç = {result}\")"
   ]
  },
  {
   "cell_type": "code",
   "execution_count": 30,
   "id": "94bba24e",
   "metadata": {},
   "outputs": [
    {
     "name": "stdout",
     "output_type": "stream",
     "text": [
      "Görmek istediğiniz liste elemanının sırasını girin (1-7): -1\n",
      "Geçersiz bir index girdiniz! 1 ile 7 arasında bir sayı girin.\n"
     ]
    }
   ],
   "source": [
    "## Bir liste oluştur, kullanıcıdan bir indeks al, o indeksteki elemanı yazdır. Hata olursa yakala.\n",
    "list1 = [1, 2, 3, 4, 5, 6, 7]\n",
    "index = input(\"Görmek istediğiniz liste elemanının sırasını girin (1-7): \")\n",
    "\n",
    "try:\n",
    "    index = int(index)  \n",
    "    \n",
    "    if index < 1 or index > len(list1):  \n",
    "        raise IndexError  \n",
    "    \n",
    "    print(\"Seçilen eleman:\", list1[index - 1]) \n",
    "except ValueError:\n",
    "    print(\"Lütfen geçerli bir sayı giriniz!\") \n",
    "except IndexError:\n",
    "    print(\"Geçersiz bir index girdiniz! 1 ile 7 arasında bir sayı girin.\")\n",
    "except Exception as e:\n",
    "    print(\"Bilinmeyen bir hata:\", e)"
   ]
  },
  {
   "cell_type": "code",
   "execution_count": 32,
   "id": "8720140e",
   "metadata": {},
   "outputs": [
    {
     "name": "stdout",
     "output_type": "stream",
     "text": [
      "Dosya bulunamadı. Lütfen dosyanın mevcut olduğundan emin olun.\n"
     ]
    }
   ],
   "source": [
    "## Bir dosya aç, içeriğini oku. Dosya yoksa hatayı yakala.\n",
    "try:\n",
    "    with open(\"deneme.txt\", \"r\") as file: \n",
    "        icerik = file.read()  \n",
    "        print(icerik)  \n",
    "except FileNotFoundError:  \n",
    "    print(\"Dosya bulunamadı. Lütfen dosyanın mevcut olduğundan emin olun.\")\n",
    "except Exception as e:  \n",
    "    print(\"Bilinmeyen bir hata:\", e)"
   ]
  },
  {
   "cell_type": "code",
   "execution_count": 37,
   "id": "0355a395",
   "metadata": {},
   "outputs": [
    {
     "name": "stdout",
     "output_type": "stream",
     "text": [
      "Enter the first number.25\n",
      "Enter the second number.5\n",
      "Enter the operation which you want(- , + , * , /) /\n",
      "Bilinmeyen bir hata name 'opration' is not defined\n"
     ]
    }
   ],
   "source": [
    "## Kullanıcıdan 4 farklı işlem al: toplama, çıkarma, çarpma, bölme. İşlem yanlışsa hata ver.\n",
    "class Hata(Exception):  # Özel hata sınıfı\n",
    "    pass\n",
    "number1 = input(\"Enter the first number.\")\n",
    "number2 = input(\"Enter the second number.\")\n",
    "operation = input(\"Enter the operation which you want(- , + , * , /) \")\n",
    "try:\n",
    "    number1 = float(number1)\n",
    "    number2 = float(number2)\n",
    "    if operation == '-':\n",
    "        result = number1 - number2\n",
    "    elif operation == '+':\n",
    "        result = number1 + number2\n",
    "    elif operation == '*':\n",
    "        result = number1 * number2\n",
    "    elif opration == '/':\n",
    "        result = number1 / number2\n",
    "    else:\n",
    "        raise Hata\n",
    "except Hata:\n",
    "    print(\"Yanlış bir işlem girdiniz.\")\n",
    "except ZeroDivisionError:\n",
    "    print(\"0'a bölmeye çalıştınız.\")\n",
    "except ValueError:\n",
    "    print(\"Lütfen sayı giriniz.\")\n",
    "except Exception as e:\n",
    "    print(\"Bilinmeyen bir hata\", e)\n",
    "else:\n",
    "    print(result)"
   ]
  },
  {
   "cell_type": "code",
   "execution_count": 46,
   "id": "667ef0a8",
   "metadata": {},
   "outputs": [
    {
     "name": "stdout",
     "output_type": "stream",
     "text": [
      "Enter the first number.54\n",
      "Enter the second number.85\n",
      "Enter the operation which you want(- , + , * , /) 2\n",
      "Yanlış bir işlem girdiniz.\n"
     ]
    }
   ],
   "source": [
    "## Yukarıdaki örneğin aynısı fakat ekstra Exception hata bloğunu neden koyduğumuza bir örnek olsun diye bıraktım.\n",
    "## Fark etmeden operation'ı yanlış yazmışım ve bilinmeyen hata kod bloğu çalıştı\n",
    "## Kullanıcıdan 4 farklı işlem al: toplama, çıkarma, çarpma, bölme. İşlem yanlışsa hata ver.\n",
    "class Hata(Exception):  # Özel hata sınıfı\n",
    "    pass\n",
    "number1 = input(\"Enter the first number.\")\n",
    "number2 = input(\"Enter the second number.\")\n",
    "operation = input(\"Enter the operation which you want(- , + , * , /) \")\n",
    "try:\n",
    "    number1 = float(number1)\n",
    "    number2 = float(number2)\n",
    "    if operation == '-':\n",
    "        result = number1 - number2\n",
    "    elif operation == '+':\n",
    "        result = number1 + number2\n",
    "    elif operation == '*':\n",
    "        result = number1 * number2\n",
    "    elif operation == '/':\n",
    "        result = number1 / number2\n",
    "    else:\n",
    "        raise Hata\n",
    "except Hata:\n",
    "    print(\"Yanlış bir işlem girdiniz.\")\n",
    "except ZeroDivisionError:\n",
    "    print(\"0'a bölmeye çalıştınız.\")\n",
    "except ValueError:\n",
    "    print(\"Lütfen sayı giriniz.\")\n",
    "except Exception as e:\n",
    "    print(\"Bilinmeyen bir hata\", e)\n",
    "else:\n",
    "    print(result)"
   ]
  },
  {
   "cell_type": "code",
   "execution_count": 47,
   "id": "aa24cbbe",
   "metadata": {},
   "outputs": [
    {
     "name": "stdout",
     "output_type": "stream",
     "text": [
      "Lütfen görmek istediğiniz dosyanın adını girin: deneme.txt\n",
      "'deneme.txt' adlı dosya bulunamadı. Yeni bir dosya oluşturuluyor...\n",
      "Lütfen dosyaya yazmak istediğiniz metni girin: deneme\n",
      "'deneme.txt' adlı dosya oluşturuldu ve içeriği yazıldı.\n"
     ]
    }
   ],
   "source": [
    "try:\n",
    "    file_name = input(\"Lütfen görmek istediğiniz dosyanın adını girin: \")\n",
    "\n",
    "    with open(file_name, \"r\") as file:\n",
    "        content = file.read()\n",
    "        print(\"Dosya içeriği:\")\n",
    "        print(content)\n",
    "\n",
    "except FileNotFoundError:\n",
    "    print(f\"'{file_name}' adlı dosya bulunamadı. Yeni bir dosya oluşturuluyor...\")\n",
    "    \n",
    "    new_content = input(\"Lütfen dosyaya yazmak istediğiniz metni girin: \")\n",
    "    with open(file_name, \"w\") as new_file:\n",
    "        new_file.write(new_content)\n",
    "    print(f\"'{file_name}' adlı dosya oluşturuldu ve içeriği yazıldı.\")\n",
    "\n",
    "except Exception as e:\n",
    "    print(\"Bir hata oluştu:\", e)\n"
   ]
  }
 ],
 "metadata": {
  "kernelspec": {
   "display_name": "Python 3 (ipykernel)",
   "language": "python",
   "name": "python3"
  },
  "language_info": {
   "codemirror_mode": {
    "name": "ipython",
    "version": 3
   },
   "file_extension": ".py",
   "mimetype": "text/x-python",
   "name": "python",
   "nbconvert_exporter": "python",
   "pygments_lexer": "ipython3",
   "version": "3.11.3"
  }
 },
 "nbformat": 4,
 "nbformat_minor": 5
}
