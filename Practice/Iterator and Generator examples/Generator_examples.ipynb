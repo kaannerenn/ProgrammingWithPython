{
 "cells": [
  {
   "cell_type": "code",
   "execution_count": 6,
   "id": "a3eb6ebe",
   "metadata": {},
   "outputs": [
    {
     "name": "stdout",
     "output_type": "stream",
     "text": [
      "1\n",
      "2\n",
      "3\n",
      "List\n",
      "True\n"
     ]
    }
   ],
   "source": [
    "#Verilen bir listeyi alıp, listedeki her bir öğeyi sırasıyla dönen bir generator fonksiyonu yaz\n",
    "list1 = [1, 2, 3, \"List\", True]\n",
    "\n",
    "def list_generator(data):\n",
    "    for item in data:\n",
    "        yield item\n",
    "\n",
    "list2 = list_generator(list1)\n",
    "\n",
    "# Yalnızca ilk öğeyi almak için next kullanırız.\n",
    "print(next(list2))  # 1\n",
    "print(next(list2))  # 2\n",
    "\n",
    "# Tüm öğeleri almak için bir for döngüsü kullanırız.\n",
    "# Burada yield 2. öğede kaldığı için for döngüsü 3. öğeden başlar.\n",
    "for item in list2:\n",
    "    print(item)"
   ]
  },
  {
   "cell_type": "code",
   "execution_count": 14,
   "id": "0be6f4eb",
   "metadata": {},
   "outputs": [
    {
     "name": "stdout",
     "output_type": "stream",
     "text": [
      "1\n",
      "3\n",
      "5\n",
      "9\n"
     ]
    }
   ],
   "source": [
    "#Bir sayı listesi alacak bir generator fonksiyonu yazın. Ancak bu generator sadece tek sayıları döndürsün.\n",
    "list1 = [1,2,3,4,5,6,8,9]\n",
    "def odd_numbers_generator(data):\n",
    "    for item in data:\n",
    "        if item % 2 != 0:\n",
    "            yield item\n",
    "list2 = odd_numbers_generator(list1)\n",
    "for item in list2:\n",
    "    print(item)"
   ]
  },
  {
   "cell_type": "code",
   "execution_count": 22,
   "id": "5ec5e927",
   "metadata": {},
   "outputs": [
    {
     "name": "stdout",
     "output_type": "stream",
     "text": [
      "everyone\n",
      "generators\n"
     ]
    }
   ],
   "source": [
    "#Bir metin düşün ve bu metinde tüm kelimeleri sırayla almak istiyorsun. \n",
    "#Ancak sadece 5 harften uzun kelimeleri yield eden bir generator yaz.\n",
    "import string \n",
    "\n",
    "message = \"Hello everyone, today we are gonna learn generators.\"\n",
    "def words(data):\n",
    "    for word in data.split():\n",
    "        \n",
    "        word = word.strip(string.punctuation) #Noktalama işaretlerini temizlemek için kullanırız. NLP için önemli.\n",
    "        if len(word) > 5:\n",
    "            yield word\n",
    "\n",
    "for i in words(message):\n",
    "    print(i)"
   ]
  },
  {
   "cell_type": "code",
   "execution_count": 37,
   "id": "4837e6b4",
   "metadata": {},
   "outputs": [
    {
     "name": "stdout",
     "output_type": "stream",
     "text": [
      "2 is a prime number.\n",
      "3 is a prime number.\n",
      "7 is a prime number.\n",
      "11 is a prime number.\n"
     ]
    }
   ],
   "source": [
    "list1 = [2,3,4,7,9,11,14]\n",
    "def prime_number_generator(data):\n",
    "    for number in data:\n",
    "        if number > 1: \n",
    "            is_prime = True\n",
    "            for i in range(2, number):\n",
    "                if number % i == 0:\n",
    "                    is_prime = False\n",
    "                    break\n",
    "            if is_prime:\n",
    "                yield f\"{number} is a prime number.\"\n",
    "                \n",
    "for i in prime_number_generator(list1):\n",
    "    print(i)"
   ]
  },
  {
   "cell_type": "code",
   "execution_count": 50,
   "id": "f2c69bc7",
   "metadata": {},
   "outputs": [
    {
     "name": "stdout",
     "output_type": "stream",
     "text": [
      "0\n",
      "1\n",
      "1\n",
      "2\n",
      "3\n",
      "5\n",
      "8\n",
      "13\n",
      "21\n",
      "34\n"
     ]
    }
   ],
   "source": [
    "#Belirli bir limite kadar olan Fibonacci sayılarını üreten bir generator\n",
    "def fibonacci_generator(limit):\n",
    "    a , b = 0 , 1\n",
    "    while a <= limit:\n",
    "        yield a\n",
    "        a , b = b , a + b\n",
    "\n",
    "for i in fibonacci_generator(50):\n",
    "    print(i)"
   ]
  },
  {
   "cell_type": "code",
   "execution_count": 51,
   "id": "978e1d13",
   "metadata": {},
   "outputs": [
    {
     "name": "stdout",
     "output_type": "stream",
     "text": [
      "13\n",
      "21\n",
      "34\n"
     ]
    }
   ],
   "source": [
    "def fibonacci_range_generator(start, end):\n",
    "    a, b = 0, 1\n",
    "    while a <= end:\n",
    "        if a >= start:\n",
    "            yield a\n",
    "        a, b = b, a + b\n",
    "\n",
    "for i in fibonacci_range_generator(10, 50):\n",
    "    print(i)"
   ]
  },
  {
   "cell_type": "code",
   "execution_count": 53,
   "id": "6e0e080e",
   "metadata": {},
   "outputs": [
    {
     "name": "stdout",
     "output_type": "stream",
     "text": [
      "merhaba asdasdlkqw\n",
      "1243141merhabaeşlq\n",
      "MERhabaişlş\n"
     ]
    }
   ],
   "source": [
    "#Bir dosyanın içindeki her satırı kontrol edin ve belirli bir kelimeyi içeren satırları döndürün.\n",
    "\n",
    "def file_line_reader(file_name):\n",
    "    with open(file_name,\"r\", encoding = \"utf-8\") as file:\n",
    "        for line in file:\n",
    "            if \"merhaba\" in line.strip().lower():\n",
    "                yield line.strip()\n",
    "for line in file_line_reader(\"sample2.txt\"):\n",
    "    print(line)"
   ]
  },
  {
   "cell_type": "code",
   "execution_count": 54,
   "id": "d5e82153",
   "metadata": {},
   "outputs": [
    {
     "name": "stdout",
     "output_type": "stream",
     "text": [
      "36\n",
      "25\n",
      "16\n",
      "9\n",
      "4\n",
      "1\n"
     ]
    }
   ],
   "source": [
    "#Bir generator fonksiyonu yazın, bu fonksiyon verilen bir listeyi tersten döndürecek \n",
    "#ve her eleman üzerinde bir işlem yapacak (örneğin, her sayıyı karesini alacak).\n",
    "list1 = [1,2,3,4,5,6]\n",
    "def reverse_list_generator(data):\n",
    "    for number in data[::-1]:\n",
    "        yield number ** 2\n",
    "\n",
    "for i in reverse_list_generator(list1):\n",
    "    print(i)"
   ]
  },
  {
   "cell_type": "code",
   "execution_count": 60,
   "id": "dc239e9b",
   "metadata": {},
   "outputs": [
    {
     "name": "stdout",
     "output_type": "stream",
     "text": [
      "Enter your prediction between 10 and 20: 15\n",
      "Your guess is too high, try again!\n",
      "Enter your prediction between 10 and 20: 13\n",
      "Your guess is too high, try again!\n",
      "Enter your prediction between 10 and 20: 11\n",
      "Your guess is too low, try again!\n",
      "Enter your prediction between 10 and 20: 12\n",
      "Congratulations! You guessed the number: 12\n"
     ]
    }
   ],
   "source": [
    "import random\n",
    "\n",
    "def number_prediction_generator(lowest, highest):\n",
    "    random_number = random.randint(lowest, highest)\n",
    "    while True:\n",
    "        user_input = int(input(f\"Enter your prediction between {lowest} and {highest}: \"))\n",
    "        if random_number == user_input:\n",
    "            yield f\"Congratulations! You guessed the number: {random_number}\"\n",
    "            break\n",
    "        elif random_number < user_input:\n",
    "            yield \"Your guess is too high, try again!\"\n",
    "        else:\n",
    "            yield \"Your guess is too low, try again!\"\n",
    "            \n",
    "for message in number_prediction_generator(10, 20):\n",
    "    print(message)"
   ]
  },
  {
   "cell_type": "code",
   "execution_count": 62,
   "id": "d160ff3c",
   "metadata": {},
   "outputs": [
    {
     "name": "stdout",
     "output_type": "stream",
     "text": [
      "Day 1 - Log your progress:\n",
      "How many lines of code did you write today? 15\n",
      "Did you complete your task for the day? (yes/no): no\n",
      "Day 1: Task not completed. Total lines of code written so far: 15\n",
      "Day 2 - Log your progress:\n",
      "How many lines of code did you write today? 35\n",
      "Did you complete your task for the day? (yes/no): no\n",
      "Day 2: Task not completed. Total lines of code written so far: 50\n",
      "Day 3 - Log your progress:\n",
      "How many lines of code did you write today? 50\n",
      "Did you complete your task for the day? (yes/no): yes\n",
      "Day 3: Task completed. Total lines of code written so far: 100\n",
      "Project Completed!\n"
     ]
    }
   ],
   "source": [
    "def work_log():\n",
    "    day = 1\n",
    "    total_code_written = 0\n",
    "    while True:\n",
    "        print(f\"Day {day} - Log your progress:\")\n",
    "        code_written = int(input(\"How many lines of code did you write today? \"))\n",
    "        task_complete = input(\"Did you complete your task for the day? (yes/no): \").strip().lower()\n",
    "        \n",
    "        total_code_written += code_written\n",
    "        \n",
    "        if task_complete == \"yes\":\n",
    "            yield f\"Day {day}: Task completed. Total lines of code written so far: {total_code_written}\"\n",
    "        else:\n",
    "            yield f\"Day {day}: Task not completed. Total lines of code written so far: {total_code_written}\"\n",
    "        \n",
    "        day += 1\n",
    "        if total_code_written >= 100: \n",
    "            print(\"Project Completed!\")\n",
    "            break\n",
    "\n",
    "\n",
    "for log in work_log():\n",
    "    print(log)"
   ]
  }
 ],
 "metadata": {
  "kernelspec": {
   "display_name": "Python 3 (ipykernel)",
   "language": "python",
   "name": "python3"
  },
  "language_info": {
   "codemirror_mode": {
    "name": "ipython",
    "version": 3
   },
   "file_extension": ".py",
   "mimetype": "text/x-python",
   "name": "python",
   "nbconvert_exporter": "python",
   "pygments_lexer": "ipython3",
   "version": "3.11.3"
  }
 },
 "nbformat": 4,
 "nbformat_minor": 5
}
