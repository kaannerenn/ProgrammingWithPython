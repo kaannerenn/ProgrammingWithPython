{
 "cells": [
  {
   "cell_type": "code",
   "execution_count": 2,
   "id": "a9b223e7",
   "metadata": {},
   "outputs": [
    {
     "name": "stdout",
     "output_type": "stream",
     "text": [
      "1\n",
      "2\n",
      "3\n",
      "4\n"
     ]
    }
   ],
   "source": [
    "#Bize bir liste verilecek ve biz bu listeyi iterator kullanarak dolaşacağız. Kodunu yazmanı isteyeceğim.\n",
    "\n",
    "list1 = [1,2,3,4]\n",
    "\n",
    "class MyIterator:\n",
    "    def __init__(self,data):\n",
    "        self.data = data\n",
    "        self.index = 0\n",
    "        \n",
    "    def __iter__(self):\n",
    "        return self\n",
    "\n",
    "    def __next__(self):\n",
    "        if self.index >= len(self.data):\n",
    "            raise StopIteration\n",
    "        else:\n",
    "            value = self.data[self.index]\n",
    "            \n",
    "            self.index += 1\n",
    "            \n",
    "            return value\n",
    "\n",
    "list2 = MyIterator(list1)\n",
    "\n",
    "for i in list2:\n",
    "    print(i)"
   ]
  },
  {
   "cell_type": "code",
   "execution_count": 11,
   "id": "4db36400",
   "metadata": {},
   "outputs": [
    {
     "name": "stdout",
     "output_type": "stream",
     "text": [
      "2\n",
      "4\n",
      "6\n",
      "8\n"
     ]
    }
   ],
   "source": [
    "# Çift sayıları döndüren bir iterator\n",
    "\n",
    "list1 = [1,2,3,4,5,6,7,8]\n",
    "\n",
    "class MyIterator:\n",
    "    \n",
    "    def __init__(self,data):\n",
    "        self.data = data\n",
    "        self.index = 0\n",
    "    \n",
    "    def __iter__(self):\n",
    "        return self\n",
    "    \n",
    "    def __next__(self):\n",
    "        while self.index < len(self.data):\n",
    "            value = self.data[self.index]\n",
    "            self.index += 1\n",
    "            \n",
    "            if value % 2 == 0: \n",
    "                return value\n",
    "        \n",
    "        raise StopIteration\n",
    "        \n",
    "list2 = MyIterator(list1)\n",
    "for i in list2:\n",
    "    print(i)"
   ]
  },
  {
   "cell_type": "code",
   "execution_count": 20,
   "id": "2ed2b8bc",
   "metadata": {},
   "outputs": [
    {
     "name": "stdout",
     "output_type": "stream",
     "text": [
      "5\n",
      "4\n",
      "3\n",
      "2\n",
      "1\n"
     ]
    }
   ],
   "source": [
    "#Bir listeyi tersten iterasyon yapacak bir iterator sınıfı yazalım. \n",
    "#Bu iterator, listeyi baştan sona değil, son elemandan başlayarak geriye doğru gitsin.\n",
    "\n",
    "list1 = [1, 2, 3, 4, 5]\n",
    "class ReverseIterator:\n",
    "    def __init__(self,data):\n",
    "        self.data = data\n",
    "        self.index = len(self.data) - 1\n",
    "    \n",
    "    def __iter__(self):\n",
    "        return self\n",
    "    \n",
    "    def __next__(self):\n",
    "        \n",
    "        if self.index >= 0:  \n",
    "            value = self.data[self.index]\n",
    "            self.index -= 1\n",
    "            return value\n",
    "        \n",
    "        raise StopIteration \n",
    "        \n",
    "reversed_list1 = ReverseIterator(list1)\n",
    "\n",
    "for i in reversed_list1:\n",
    "    print(i)"
   ]
  },
  {
   "cell_type": "code",
   "execution_count": 24,
   "id": "d424f0a3",
   "metadata": {},
   "outputs": [
    {
     "name": "stdout",
     "output_type": "stream",
     "text": [
      "5\n",
      "4\n",
      "3\n",
      "2\n",
      "1\n",
      "After reset:\n",
      "5\n",
      "4\n",
      "3\n",
      "2\n",
      "1\n"
     ]
    }
   ],
   "source": [
    "class ReverseIterator:\n",
    "    def __init__(self, data):\n",
    "        self.data = data\n",
    "        self.index = len(self.data) - 1\n",
    "    \n",
    "    def __iter__(self):\n",
    "        return self\n",
    "    \n",
    "    def __next__(self):\n",
    "        if self.index < 0:\n",
    "            raise StopIteration\n",
    "        value = self.data[self.index]\n",
    "        self.index -= 1\n",
    "        return value\n",
    "    \n",
    "    def reset(self):\n",
    "        self.index = len(self.data) -1 \n",
    "# len metodunun içinde self.data değilde data yazsaydık hata alırdık. Cünkü dataya sadece __init__ üzerinden ulaşabiliriz.\n",
    "\n",
    "list1 = [1, 2, 3, 4, 5]\n",
    "reverse_iter = ReverseIterator(list1)\n",
    "\n",
    "for i in reverse_iter:\n",
    "    print(i)\n",
    "\n",
    "reverse_iter.reset()\n",
    "\n",
    "print(\"After reset:\")\n",
    "for i in reverse_iter:\n",
    "    print(i)"
   ]
  },
  {
   "cell_type": "code",
   "execution_count": 40,
   "id": "3e9b5678",
   "metadata": {},
   "outputs": [
    {
     "name": "stdout",
     "output_type": "stream",
     "text": [
      "None\n",
      "(1, 2)\n",
      "(2, 3)\n",
      "(3, 4)\n"
     ]
    }
   ],
   "source": [
    "list1 = [1,2,3,4]\n",
    "\n",
    "class MyIterator:\n",
    "    def __init__(self,data):\n",
    "        self.data = data\n",
    "        self.index = 0\n",
    "    \n",
    "    def __iter__(self):\n",
    "        return self\n",
    "    \n",
    "    \n",
    "    def __next__(self):\n",
    "        if self.index >= len(self.data):\n",
    "            raise StopIteration\n",
    "        else:\n",
    "            if self.index == 0:\n",
    "                value = (None, self.data[self.index])\n",
    "                self.index +=1\n",
    "            else:\n",
    "                value = (self.data[self.index - 1], self.data[self.index])  \n",
    "                self.index += 1\n",
    "                return value\n",
    "        \n",
    "list2 = MyIterator(list1)\n",
    "\n",
    "for i in list2:\n",
    "    print(i)"
   ]
  },
  {
   "cell_type": "code",
   "execution_count": 70,
   "id": "0ab362f4",
   "metadata": {},
   "outputs": [
    {
     "name": "stdout",
     "output_type": "stream",
     "text": [
      "0 1 1 2 3 5 8 13 21 34 "
     ]
    }
   ],
   "source": [
    "class Fibonacci_Iterator:\n",
    "    \n",
    "    def __init__(self,number):\n",
    "        self.number = number\n",
    "        self.a, self.b = 0, 1\n",
    "    \n",
    "    def __iter__(self):\n",
    "        return self\n",
    "    \n",
    "    def __next__(self):\n",
    "        \n",
    "        if self.a > self.number:\n",
    "            raise StopIteration\n",
    "        else:\n",
    "            fib_value = self.a\n",
    "            self.a, self.b = self.b, self.a + self.b \n",
    "            return fib_value\n",
    "        \n",
    "number = 34\n",
    "number_fib = Fibonacci_Iterator(number)\n",
    "for i in number_fib:\n",
    "    print(i, end=\" \")"
   ]
  },
  {
   "cell_type": "code",
   "execution_count": 75,
   "id": "721c99f9",
   "metadata": {},
   "outputs": [
    {
     "name": "stdout",
     "output_type": "stream",
     "text": [
      "0 1 1 2 3 5 8 13 21 34 "
     ]
    }
   ],
   "source": [
    "list1 = [0, 1, 1, 2, 3, 5, 8, 13, 21, 34]\n",
    "\n",
    "class reverse_fib_Iterator:\n",
    "    \n",
    "    def __init__(self,data):\n",
    "        self.data = data\n",
    "        self.index = 0\n",
    "        \n",
    "    def __iter__(self):\n",
    "        return self\n",
    "    \n",
    "    def __next__(self):\n",
    "        \n",
    "        if self.index >= len(self.data):\n",
    "            raise StopIteration\n",
    "        \n",
    "        else:\n",
    "            value = self.data[self.index]\n",
    "            self.index += 1\n",
    "            return value\n",
    "        \n",
    "list2 = reverse_fib_Iterator(list1)\n",
    "\n",
    "for i in list2:\n",
    "    print(i, end = \" \")"
   ]
  },
  {
   "cell_type": "code",
   "execution_count": 76,
   "id": "015b8c2d",
   "metadata": {},
   "outputs": [
    {
     "name": "stdout",
     "output_type": "stream",
     "text": [
      "*\n",
      "**\n",
      "***\n",
      "****\n",
      "*****\n"
     ]
    }
   ],
   "source": [
    "class StarIterator:\n",
    "    def __init__(self, n):\n",
    "        self.n = n\n",
    "        self.count = 1  \n",
    "    \n",
    "    def __iter__(self):\n",
    "        return self\n",
    "    \n",
    "    def __next__(self):\n",
    "        if self.count > self.n:\n",
    "            raise StopIteration  \n",
    "        else:\n",
    "            star = \"*\" * self.count  \n",
    "            self.count += 1  \n",
    "            return star\n",
    "\n",
    "\n",
    "star_iter = StarIterator(5)\n",
    "\n",
    "for star in star_iter:\n",
    "    print(star)"
   ]
  }
 ],
 "metadata": {
  "kernelspec": {
   "display_name": "Python 3 (ipykernel)",
   "language": "python",
   "name": "python3"
  },
  "language_info": {
   "codemirror_mode": {
    "name": "ipython",
    "version": 3
   },
   "file_extension": ".py",
   "mimetype": "text/x-python",
   "name": "python",
   "nbconvert_exporter": "python",
   "pygments_lexer": "ipython3",
   "version": "3.11.3"
  }
 },
 "nbformat": 4,
 "nbformat_minor": 5
}
