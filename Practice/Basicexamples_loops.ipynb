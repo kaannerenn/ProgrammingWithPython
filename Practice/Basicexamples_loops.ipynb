{
 "cells": [
  {
   "cell_type": "code",
   "execution_count": 22,
   "id": "100d1111",
   "metadata": {},
   "outputs": [
    {
     "name": "stdout",
     "output_type": "stream",
     "text": [
      "Enter the integer for which you want to calculate the factorial.Hello\n",
      "Please enter an integer.\n",
      "Enter the integer for which you want to calculate the factorial.[1,2,34,6,9]\n",
      "Please enter an integer.\n",
      "Enter the integer for which you want to calculate the factorial.6\n",
      "Your number is 6, 6! = 720\n"
     ]
    }
   ],
   "source": [
    "##Kullanıcıdan alınan sayının faktoriyelini yazdırma\n",
    "while True:\n",
    "    try:\n",
    "        solution = 1\n",
    "        number = int(input(\"Enter the integer for which you want to calculate the factorial.\"))\n",
    "        for i in range(1,number+1):\n",
    "            solution *= i\n",
    "        print(f\"Your number is {number}, {number}! = {solution}\")\n",
    "        break\n",
    "    except ValueError:\n",
    "        print(\"Please enter an integer.\")"
   ]
  },
  {
   "cell_type": "code",
   "execution_count": 37,
   "id": "c7772e4e",
   "metadata": {},
   "outputs": [
    {
     "name": "stdout",
     "output_type": "stream",
     "text": [
      "Enter the integer to check whether the number is prime or not.asd\n",
      "Please enter an integer.\n",
      "Enter the integer to check whether the number is prime or not.89\n",
      "The number you entered 89 is a prime number\n"
     ]
    }
   ],
   "source": [
    "##Kullanıcıdan alınan sayının asal olup olmadığını kontrol etme\n",
    "while True:\n",
    "    try:\n",
    "        number = int(input(\"Enter the integer to check whether the number is prime or not.\"))\n",
    "        if number <= 1:\n",
    "            print(f\"The number you entered {number} is not a prime number.\")\n",
    "            break\n",
    "        for i in range(2,number):\n",
    "            if number % i == 0:\n",
    "                print(f\"The number you entered {number} is not a prime number\")\n",
    "                break\n",
    "        else:\n",
    "            print(f\"The number you entered {number} is a prime number\")\n",
    "        break\n",
    "    except ValueError:\n",
    "        print(\"Please enter an integer.\")"
   ]
  },
  {
   "cell_type": "code",
   "execution_count": 44,
   "id": "3f28ff96",
   "metadata": {},
   "outputs": [
    {
     "name": "stdout",
     "output_type": "stream",
     "text": [
      "Enter an integer to determine how many divisors it has.-3\n",
      "Enter a positive integer\n",
      "Enter an integer to determine how many divisors it has.asd\n",
      "Please enter an integer.\n",
      "Enter an integer to determine how many divisors it has.18\n",
      "1,18'ın'1. tam bölenidir.\n",
      "2,18'ın'2. tam bölenidir.\n",
      "3,18'ın'3. tam bölenidir.\n",
      "6,18'ın'4. tam bölenidir.\n",
      "9,18'ın'5. tam bölenidir.\n",
      "18,18'ın'6. tam bölenidir.\n",
      "Toplamda 18'ın 6 tam sayı böleni vardır\n"
     ]
    }
   ],
   "source": [
    "##Kullanıcıdan alınan bir inputun kaç tam sayı böleni olduğunu yazdırma ve bu bölenler nedir.\n",
    "while True:\n",
    "    try:\n",
    "        count = 0\n",
    "        number = int(input(\"Enter an integer to determine how many divisors it has.\"))\n",
    "        if number < 0:\n",
    "            print(\"Enter a positive integer\")\n",
    "            continue\n",
    "        for i in range(1,number+1):\n",
    "            if number % i == 0:\n",
    "                count +=1\n",
    "                print(f\"{i},{number}'ın'{count}. tam bölenidir.\")\n",
    "            \n",
    "        print(f\"Toplamda {number}'ın {count} tam sayı böleni vardır\")\n",
    "        break\n",
    "    except ValueError:\n",
    "        print(\"Please enter an integer.\")"
   ]
  },
  {
   "cell_type": "code",
   "execution_count": 54,
   "id": "805735a5",
   "metadata": {},
   "outputs": [
    {
     "name": "stdout",
     "output_type": "stream",
     "text": [
      "Enter a number to calculate the sum of its digits\n",
      "789\n",
      "Sum of digits of your number 789 is 24\n"
     ]
    }
   ],
   "source": [
    "##Kullanıcıdan alınan bir inputun rakamları toplamını bulma.\n",
    "while True:\n",
    "    try:\n",
    "        number = int(input(\"Enter a number to calculate the sum of its digits\\n\"))\n",
    "        digits_list = [int(digit) for digit in str(number)]\n",
    "        print(f\"Sum of digits of your number {number} is\",sum(digits_list))\n",
    "        break\n",
    "    except ValueError:\n",
    "        print(\"Please enter an integer.\")"
   ]
  },
  {
   "cell_type": "code",
   "execution_count": 69,
   "id": "7cfa9b61",
   "metadata": {},
   "outputs": [
    {
     "name": "stdout",
     "output_type": "stream",
     "text": [
      "Please enter a number7\n",
      "Please enter a number8\n",
      "Please enter a number9\n",
      "Please enter a number12\n",
      "Please enter a number21\n",
      "The maximum number you entered is : 7\n",
      "The minimum number you entered is : 21\n"
     ]
    }
   ],
   "source": [
    "##Kullanıcıdan peşpeşe alınan 5 sayının en küçüğünü ve en büyüğünü yazdırma. (max ve min fonksiyonlarını kullanmak yasak.)\n",
    "numbers = []\n",
    "for i in range(5):\n",
    "    number = int(input(\"Please enter a number\"))\n",
    "    numbers.append(number)\n",
    "maxnumber = numbers[0]\n",
    "minnumber = numbers[0]\n",
    "for number in numbers:\n",
    "    if number < maxnumber:\n",
    "        maxnumber = number\n",
    "    if number > minnumber:\n",
    "        minnumber = number\n",
    "print(f\"The maximum number you entered is : {maxnumber}\")\n",
    "print(f\"The minimum number you entered is : {minnumber}\")"
   ]
  },
  {
   "cell_type": "code",
   "execution_count": 152,
   "id": "6580cf9e",
   "metadata": {},
   "outputs": [
    {
     "name": "stdout",
     "output_type": "stream",
     "text": [
      "Please enter integer you want to sort7\n",
      "Please enter integer you want to sort8\n",
      "Please enter integer you want to sort4\n",
      "Please enter integer you want to sort5\n",
      "Please enter integer you want to sort22\n",
      "[4, 5, 7, 8, 22]\n"
     ]
    }
   ],
   "source": [
    "##Kullanıcıdan peşpeşe alınan 5 sayının küçükten büyüğe listesini oluşturma\n",
    "numbers = []\n",
    "sortednumbers = []\n",
    "while True:\n",
    "    try:\n",
    "        for i in range(5):\n",
    "            number = int(input(\"Please enter integer you want to sort\"))\n",
    "            numbers.append(number)\n",
    "        minnumber = numbers[0]\n",
    "        while numbers:\n",
    "            minnumber = numbers[0]\n",
    "            for j in numbers:\n",
    "                if j < minnumber:\n",
    "                    minnumber = j\n",
    "            sortednumbers.append(minnumber)\n",
    "            numbers.remove(minnumber)\n",
    "        print(sortednumbers)\n",
    "        break\n",
    "    except ValueError:\n",
    "        print(\"Please enter an integer\")"
   ]
  },
  {
   "cell_type": "code",
   "execution_count": 95,
   "id": "ccaf163a",
   "metadata": {},
   "outputs": [
    {
     "name": "stdout",
     "output_type": "stream",
     "text": [
      "Enter the number to check if it is a perfect square256\n",
      "The number you entered 256 is square of 16\n"
     ]
    }
   ],
   "source": [
    "##Kullanıcıdan alınan bir sayının, herhangi bir sayının karesi olup olmadığını kontrol etme\n",
    "while True:\n",
    "    try:\n",
    "        number = int(input(\"Enter the number to check if it is a perfect square\"))\n",
    "        if number == 1 :\n",
    "            print(f\"The number you entered {number} is square of 1\")\n",
    "        elif number > 1:\n",
    "            for i in range(1,number//2 + 1):\n",
    "                if i*i == number:\n",
    "                    print(f\"The number you entered {number} is square of {i}\")\n",
    "                    break\n",
    "            else:\n",
    "                print(f\"The number you entered {number} is not square of any number\")\n",
    "        else:\n",
    "            print(\"Your number is negative number.\")\n",
    "        break\n",
    "    except ValueError:\n",
    "        print(\"Please enter an integer\")"
   ]
  },
  {
   "cell_type": "code",
   "execution_count": 122,
   "id": "c2a4f77c",
   "metadata": {},
   "outputs": [
    {
     "name": "stdout",
     "output_type": "stream",
     "text": [
      "Enter the string for which you want to see how many times each letter is repeated.\n",
      "Selam Merhaba Nasılsın\n",
      "Letter is s, Number of repeat = 3\n",
      "Letter is e, Number of repeat = 2\n",
      "Letter is l, Number of repeat = 2\n",
      "Letter is a, Number of repeat = 4\n",
      "Letter is m, Number of repeat = 2\n",
      "Letter is  , Number of repeat = 2\n",
      "Letter is r, Number of repeat = 1\n",
      "Letter is h, Number of repeat = 1\n",
      "Letter is b, Number of repeat = 1\n",
      "Letter is n, Number of repeat = 2\n",
      "Letter is ı, Number of repeat = 2\n"
     ]
    }
   ],
   "source": [
    "## Ekrandan okunan bir stringte bir harften kaç kere olduğunu yazdıran program\n",
    "\n",
    "newdict = dict()\n",
    "string = str(input(\"Enter the string for which you want to see how many times each letter is repeated.\\n\"))\n",
    "string = string.lower()\n",
    "for letter in string:\n",
    "    if letter in newdict:\n",
    "        newdict[letter] +=1\n",
    "    else:\n",
    "        newdict[letter] = 1\n",
    "for i,j in newdict.items():\n",
    "    print(f\"Letter is {i}, Number of repeat = {j}\")"
   ]
  },
  {
   "cell_type": "code",
   "execution_count": 129,
   "id": "5e890465",
   "metadata": {},
   "outputs": [
    {
     "name": "stdout",
     "output_type": "stream",
     "text": [
      "Please enter a string\n",
      "asdasdasd\n",
      "String you entered is asdasdasd\n",
      "AsdAsdAsd\n"
     ]
    }
   ],
   "source": [
    "##Ekrandan alınan bir inputta a harflerini büyüten bir program\n",
    "string = str(input(\"Please enter a string\\n\"))\n",
    "emptystr = \"\"\n",
    "for i in string:\n",
    "    if i == 'a':\n",
    "        emptystr += 'A'\n",
    "    else:\n",
    "        emptystr += i\n",
    "print(f\"String you entered is {string}\")\n",
    "print(emptystr)"
   ]
  },
  {
   "cell_type": "code",
   "execution_count": null,
   "id": "c4dc54cf",
   "metadata": {},
   "outputs": [],
   "source": []
  }
 ],
 "metadata": {
  "kernelspec": {
   "display_name": "Python 3 (ipykernel)",
   "language": "python",
   "name": "python3"
  },
  "language_info": {
   "codemirror_mode": {
    "name": "ipython",
    "version": 3
   },
   "file_extension": ".py",
   "mimetype": "text/x-python",
   "name": "python",
   "nbconvert_exporter": "python",
   "pygments_lexer": "ipython3",
   "version": "3.11.3"
  }
 },
 "nbformat": 4,
 "nbformat_minor": 5
}
