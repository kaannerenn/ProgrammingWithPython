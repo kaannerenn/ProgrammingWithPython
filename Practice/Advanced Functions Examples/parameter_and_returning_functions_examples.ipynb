{
 "cells": [
  {
   "cell_type": "code",
   "execution_count": 16,
   "id": "09703155",
   "metadata": {},
   "outputs": [
    {
     "name": "stdout",
     "output_type": "stream",
     "text": [
      "16\n"
     ]
    }
   ],
   "source": [
    "def take_numbers(x):\n",
    "    def square(number):\n",
    "        return number * number\n",
    "    return square\n",
    "\n",
    "result = take_numbers(4)\n",
    "print(result(4))"
   ]
  },
  {
   "cell_type": "code",
   "execution_count": 24,
   "id": "5aac8d0b",
   "metadata": {},
   "outputs": [
    {
     "name": "stdout",
     "output_type": "stream",
     "text": [
      "Merhaba Ali\n",
      "Hello John\n",
      "Böyle bir seçenek yok, Alvaro!\n"
     ]
    }
   ],
   "source": [
    "def greet(language):\n",
    "    def greet_turkish(name):\n",
    "        return f\"Merhaba {name}\"\n",
    "    \n",
    "    def greet_english(name):\n",
    "        return f\"Hello {name}\"\n",
    "    \n",
    "    def greet_invalid(name):\n",
    "        return f\"There is no option like, {name}!\"\n",
    "    \n",
    "    if language == \"tr\":\n",
    "        return greet_turkish\n",
    "    elif language == \"en\":\n",
    "        return greet_english\n",
    "    else:\n",
    "        return greet_invalid  \n",
    "    \n",
    "turkish = greet(\"tr\")\n",
    "print(turkish(\"Ali\"))\n",
    "\n",
    "english = greet(\"en\")\n",
    "print(english(\"John\"))\n",
    "\n",
    "espaniol = greet(\"es\")\n",
    "print(espaniol(\"Alvaro\"))\n"
   ]
  },
  {
   "cell_type": "code",
   "execution_count": 33,
   "id": "ddb4b836",
   "metadata": {},
   "outputs": [
    {
     "name": "stdout",
     "output_type": "stream",
     "text": [
      "13\n",
      "-16\n",
      "150\n",
      "0.05\n",
      "Böyle bir işaret yok\n"
     ]
    }
   ],
   "source": [
    "def calculator(process):\n",
    "    def add(*numbers):\n",
    "        result = 0\n",
    "        for number in numbers:\n",
    "            result += number\n",
    "        return result\n",
    "    def minus(*numbers):\n",
    "        result = 0\n",
    "        for number in numbers:\n",
    "            result -= number\n",
    "        return result\n",
    "    def multiply(*numbers):\n",
    "        result = 1\n",
    "        for number in numbers:\n",
    "            result *= number\n",
    "        return result\n",
    "    def divide(*numbers):\n",
    "        result = 1\n",
    "        for number in numbers:\n",
    "            result /= number\n",
    "        return result\n",
    "    def unknown_sign(*numbers):\n",
    "        return f\"Böyle bir işaret yok\"\n",
    "    \n",
    "    if process == \"+\":\n",
    "        return add\n",
    "    elif process == \"-\":\n",
    "        return minus\n",
    "    elif process == \"*\":\n",
    "        return multiply\n",
    "    elif process == \"/\":\n",
    "        return divide\n",
    "    else:\n",
    "        return unknown_sign\n",
    "    \n",
    "add = calculator(\"+\")\n",
    "print(add(2,5,6))\n",
    "minus = calculator(\"-\")\n",
    "print(minus(2,9,5))\n",
    "multiply = calculator(\"*\")\n",
    "print(multiply(10,15))\n",
    "divide = calculator(\"/\")\n",
    "print(divide(10,2))\n",
    "nothing = calculator(\"asd\")\n",
    "print(nothing(1,2))"
   ]
  },
  {
   "cell_type": "code",
   "execution_count": 42,
   "id": "9db0fb36",
   "metadata": {},
   "outputs": [
    {
     "name": "stdout",
     "output_type": "stream",
     "text": [
      "İşlem başarılı: sil\n",
      "*****\n",
      "İşlem başarılı: güncelle\n",
      "İşlem başarılı: görüntüle\n",
      "Bu işlemi yapma yetkiniz yok!\n",
      "*****\n",
      "İşlem başarılı: görüntüle\n",
      "Bu işlemi yapma yetkiniz yok!\n"
     ]
    }
   ],
   "source": [
    "def yetki_ver(role):\n",
    "    def admin(izin):\n",
    "        return f\"İşlem başarılı: {izin}\"\n",
    "\n",
    "    def user(izin):\n",
    "        if izin in [\"güncelle\", \"görüntüle\"]:\n",
    "            return f\"İşlem başarılı: {izin}\"\n",
    "        else:\n",
    "            return \"Bu işlemi yapma yetkiniz yok!\"\n",
    "\n",
    "    def guest(izin):\n",
    "        if izin == \"görüntüle\":\n",
    "            return f\"İşlem başarılı: {izin}\"\n",
    "        else:\n",
    "            return \"Bu işlemi yapma yetkiniz yok!\"\n",
    "\n",
    "    if role == \"admin\":\n",
    "        return admin\n",
    "    elif role == \"user\":\n",
    "        return user\n",
    "    elif role == \"guest\":\n",
    "        return guest\n",
    "\n",
    "admin_izin = yetki_ver(\"admin\")\n",
    "print(admin_izin(\"sil\"))  \n",
    "print(\"*****\")\n",
    "user_izin = yetki_ver(\"user\")\n",
    "print(user_izin(\"güncelle\"))  \n",
    "print(user_izin(\"görüntüle\"))\n",
    "print(user_izin(\"sil\"))\n",
    "print(\"*****\")\n",
    "guest_izin = yetki_ver(\"guest\")\n",
    "print(guest_izin(\"görüntüle\"))  \n",
    "print(guest_izin(\"sil\"))  "
   ]
  },
  {
   "cell_type": "code",
   "execution_count": 47,
   "id": "6945cdb3",
   "metadata": {},
   "outputs": [
    {
     "name": "stdout",
     "output_type": "stream",
     "text": [
      "15\n",
      "240\n",
      "2\n",
      "5.0\n"
     ]
    }
   ],
   "source": [
    "def add(*args):\n",
    "    total = 0\n",
    "    for arg in args:\n",
    "        total += arg\n",
    "    return total\n",
    "def multiply(*args):\n",
    "    total = 1\n",
    "    for arg in args:\n",
    "        total *= arg\n",
    "    return total\n",
    "def minus(x,y):\n",
    "    return x-y\n",
    "def divide(x,y):\n",
    "    return x/y\n",
    "\n",
    "def islem(islem,*args):\n",
    "    return islem(*args)\n",
    "\n",
    "print(islem(add,3,5,7))\n",
    "print(islem(multiply,20,3,4))\n",
    "print(islem(minus,8,6))\n",
    "print(islem(divide,20,4))"
   ]
  },
  {
   "cell_type": "code",
   "execution_count": 48,
   "id": "d71adcc6",
   "metadata": {},
   "outputs": [
    {
     "name": "stdout",
     "output_type": "stream",
     "text": [
      "[4, 8, 12, 16]\n"
     ]
    }
   ],
   "source": [
    "def veri_topla(*args):\n",
    "    return list(args)\n",
    "\n",
    "def filtrele(veri):\n",
    "    filtered_data = []\n",
    "    for item in veri:\n",
    "        if item % 2 == 0: \n",
    "            filtered_data.append(item)\n",
    "    return filtered_data\n",
    "\n",
    "def dönüştür(veri):\n",
    "    transformed_data = []\n",
    "    for item in veri:\n",
    "        transformed_data.append(item * 2) \n",
    "    return transformed_data\n",
    "\n",
    "def sıralama(veri):\n",
    "    return sorted(veri)\n",
    "\n",
    "def veri_isleme_pipeline(veri, fonksiyonlar):\n",
    "    for fonksiyon in fonksiyonlar:\n",
    "        veri = fonksiyon(veri)\n",
    "    return veri\n",
    "\n",
    "# İşlem sırasıyla fonksiyonları geçirelim\n",
    "veri = veri_topla(1, 2, 3, 4, 5, 6, 7, 8, 9)\n",
    "fonksiyonlar = [filtrele, dönüştür, sıralama]\n",
    "\n",
    "sonuç = veri_isleme_pipeline(veri, fonksiyonlar)\n",
    "\n",
    "print(sonuç)\n"
   ]
  }
 ],
 "metadata": {
  "kernelspec": {
   "display_name": "Python 3 (ipykernel)",
   "language": "python",
   "name": "python3"
  },
  "language_info": {
   "codemirror_mode": {
    "name": "ipython",
    "version": 3
   },
   "file_extension": ".py",
   "mimetype": "text/x-python",
   "name": "python",
   "nbconvert_exporter": "python",
   "pygments_lexer": "ipython3",
   "version": "3.11.3"
  }
 },
 "nbformat": 4,
 "nbformat_minor": 5
}
