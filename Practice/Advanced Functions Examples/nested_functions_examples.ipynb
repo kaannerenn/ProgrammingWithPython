{
 "cells": [
  {
   "cell_type": "code",
   "execution_count": 15,
   "id": "a8b22a4b",
   "metadata": {},
   "outputs": [
    {
     "name": "stdout",
     "output_type": "stream",
     "text": [
      "Selamlar Kerem\n"
     ]
    }
   ],
   "source": [
    "#Dış fonksiyon bir isim alsın ve iç fonksiyon bu ismi kullanarak bir selamlama mesajı yazdırsın.\n",
    "def take_name(name):\n",
    "    def greet(x):\n",
    "        print(f\"Selamlar {x}\")\n",
    "    greet(name)\n",
    "take_name(\"Kerem\")"
   ]
  },
  {
   "cell_type": "code",
   "execution_count": 19,
   "id": "9960fd30",
   "metadata": {},
   "outputs": [
    {
     "name": "stdout",
     "output_type": "stream",
     "text": [
      "Selamlar Kerem\n",
      "Selamlar Aslı\n",
      "Selamlar Can\n"
     ]
    }
   ],
   "source": [
    "def take_names(*names):\n",
    "    def greet(x):\n",
    "        for name in x:\n",
    "            print(f\"Selamlar {name}\")\n",
    "    greet(names)\n",
    "    \n",
    "take_names(\"Kerem\",\"Aslı\",\"Can\")"
   ]
  },
  {
   "cell_type": "code",
   "execution_count": 30,
   "id": "96226536",
   "metadata": {},
   "outputs": [
    {
     "name": "stdout",
     "output_type": "stream",
     "text": [
      "2'ye bölünenlerin listesi [2, 4, 6, 12, 24, 58, 92]\n",
      "3'e bölünenlerin listesi [6, 9, 12, 24, 69]\n"
     ]
    }
   ],
   "source": [
    "def take_numbers(*numbers):\n",
    "\n",
    "    def take_evens(x):\n",
    "        list_evens = [number for number in x if number % 2 == 0]\n",
    "        ##for number in x:\n",
    "            ##if number % 2 == 0:\n",
    "                ##list_evens.append(number)\n",
    "        return list_evens\n",
    "    def take_divisible_by_3(x):\n",
    "        list_divisible_by_3 = [number for number in x if number % 3 == 0]\n",
    "        \n",
    "        return list_divisible_by_3\n",
    "    \n",
    "    evens = take_evens(numbers)\n",
    "    divisibles_by_3 = take_divisible_by_3(numbers)\n",
    "    print(f\"2'ye bölünenlerin listesi {evens}\")\n",
    "    print(f\"3'e bölünenlerin listesi {divisibles_by_3}\")\n",
    "\n",
    "take_numbers(1,2,4,6,9,12,24,58,69,92)"
   ]
  },
  {
   "cell_type": "code",
   "execution_count": 48,
   "id": "b58d3925",
   "metadata": {},
   "outputs": [
    {
     "name": "stdout",
     "output_type": "stream",
     "text": [
      "Furkan --> Grade is F\n",
      "Anıl --> Grade is B\n",
      "Levent --> Grade is C\n",
      "Buse --> Grade is A\n",
      "Hamza --> Grade is D\n",
      "Ortalama = 71.0\n",
      "Ortalama üstü olanlar ['Anıl', 'Buse'], Ortalama altı olanlar ['Furkan', 'Levent', 'Hamza']\n"
     ]
    }
   ],
   "source": [
    "def calculate_grade(**kwargs):\n",
    "    \n",
    "    def calculate_average(score):\n",
    "        result = sum(score) / len(score)\n",
    "        return result \n",
    "    def calculate_letter(name, score):\n",
    "        if score >= 90:\n",
    "            print(f\"{name} --> Grade is A\")\n",
    "        elif score >= 80:\n",
    "            print(f\"{name} --> Grade is B\")\n",
    "        elif score >= 70:\n",
    "            print(f\"{name} --> Grade is C\")\n",
    "        elif score >= 60:\n",
    "            print(f\"{name} --> Grade is D\")\n",
    "        else:\n",
    "            print(f\"{name} --> Grade is F\")\n",
    "    \n",
    "    def Is_top_or_bottom_for_average(name, score, average, top_average, bot_average, eq_average):\n",
    "        if score > average:\n",
    "            top_average.append(name)\n",
    "        elif score == average:\n",
    "            eq_average.append(name)\n",
    "        else:\n",
    "            bot_average.append(name)\n",
    "        return top_average, bot_average, eq_average\n",
    "\n",
    "    top_average = []\n",
    "    bot_average = []\n",
    "    eq_average = []\n",
    "\n",
    "    \n",
    "    for key, value in kwargs.items():\n",
    "        calculate_letter(key, value)\n",
    "    average = calculate_average(kwargs.values())\n",
    "    print(f\"Ortalama = {average}\")\n",
    "    \n",
    "    for key, value in kwargs.items():\n",
    "        top_average, bot_average, eq_average = Is_top_or_bottom_for_average(key, value, average, top_average, bot_average, eq_average)\n",
    "    print(f\"Ortalama üstü olanlar {top_average}, Ortalama altı olanlar {bot_average}\")\n",
    "\n",
    "calculate_grade(Furkan=50, Anıl=80, Levent=70, Buse=92, Hamza=63)"
   ]
  },
  {
   "cell_type": "code",
   "execution_count": null,
   "id": "f5d04efc",
   "metadata": {},
   "outputs": [],
   "source": []
  }
 ],
 "metadata": {
  "kernelspec": {
   "display_name": "Python 3 (ipykernel)",
   "language": "python",
   "name": "python3"
  },
  "language_info": {
   "codemirror_mode": {
    "name": "ipython",
    "version": 3
   },
   "file_extension": ".py",
   "mimetype": "text/x-python",
   "name": "python",
   "nbconvert_exporter": "python",
   "pygments_lexer": "ipython3",
   "version": "3.11.3"
  }
 },
 "nbformat": 4,
 "nbformat_minor": 5
}
