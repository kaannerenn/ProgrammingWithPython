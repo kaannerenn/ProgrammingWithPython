{
 "cells": [
  {
   "cell_type": "code",
   "execution_count": 4,
   "id": "1eacc1ac",
   "metadata": {},
   "outputs": [
    {
     "name": "stdout",
     "output_type": "stream",
     "text": [
      "Ali, 22\n"
     ]
    }
   ],
   "source": [
    "class Person:\n",
    "    def __init__(self,name,age):\n",
    "        self.name = name\n",
    "        self.age = age\n",
    "    def greet(self):\n",
    "        print(f\"{self.name}, {self.age}\")\n",
    "person1 = Person(\"Ali\", 22)\n",
    "person1.greet()"
   ]
  },
  {
   "cell_type": "code",
   "execution_count": 14,
   "id": "8197b3a0",
   "metadata": {},
   "outputs": [
    {
     "name": "stdout",
     "output_type": "stream",
     "text": [
      "Toplam araç sayısı = 2\n",
      "Toyota 2020\n",
      "Toplam araç sayısı = 3\n"
     ]
    }
   ],
   "source": [
    "class Car:\n",
    "    total_cars = 0\n",
    "    def __init__(self,brand,year):\n",
    "        self.brand = brand\n",
    "        self.year = year\n",
    "        Car.total_cars += 1\n",
    "    @classmethod\n",
    "    def car_count(cls):\n",
    "        return f\"Toplam araç sayısı = {cls.total_cars}\"\n",
    "car1 = Car(\"Toyota\",2020)\n",
    "car2 = Car(\"Renault\",2022)\n",
    "print(Car.car_count())\n",
    "print(car1.brand,car1.year)\n",
    "car3 = Car(\"Mercedes\",2016)\n",
    "print(Car.car_count())"
   ]
  },
  {
   "cell_type": "code",
   "execution_count": 23,
   "id": "cd79d253",
   "metadata": {},
   "outputs": [
    {
     "name": "stdout",
     "output_type": "stream",
     "text": [
      "8\n",
      "7\n",
      "39\n",
      "3.0\n",
      "Zero Division error var.\n"
     ]
    }
   ],
   "source": [
    "class MathOperations:\n",
    "    @staticmethod\n",
    "    def add(x,y):\n",
    "        return x + y\n",
    "    \n",
    "    @staticmethod\n",
    "    def minus(x,y):\n",
    "        return x - y\n",
    "    \n",
    "    @staticmethod\n",
    "    def multiply(x,y):\n",
    "        return x * y\n",
    "    \n",
    "    @staticmethod\n",
    "    def divide(x,y):\n",
    "        try:\n",
    "            return x / y\n",
    "        except ZeroDivisionError:\n",
    "            return f\"Zero Division error var.\"\n",
    "            \n",
    "        \n",
    "\n",
    "print(MathOperations.add(3,5))\n",
    "print(MathOperations.minus(9,2))\n",
    "print(MathOperations.multiply(3,13))\n",
    "print(MathOperations.divide(6,2))\n",
    "print(MathOperations.divide(6,0))"
   ]
  },
  {
   "cell_type": "code",
   "execution_count": 31,
   "id": "c4a37fc8",
   "metadata": {},
   "outputs": [
    {
     "name": "stdout",
     "output_type": "stream",
     "text": [
      "Banka hesabınızdaki tutar = 1000\n",
      "Banka hesabınızdaki tutar = 1200\n",
      "Çekmek istediğiniz miktar bankadaki tutarın üstündedir\n",
      "Banka hesabınızdaki tutar = 1200\n",
      "Banka hesabınızdaki tutar = 200\n"
     ]
    }
   ],
   "source": [
    "class BankAccount:\n",
    "    def __init__(self,money):\n",
    "        self.money = money\n",
    "    def deposit(self,depositamount):\n",
    "        self.money += depositamount\n",
    "    def withdrawal(self,withdrawalamount):\n",
    "        if withdrawalamount > self.money:\n",
    "            print(\"Çekmek istediğiniz miktar bankadaki tutarın üstündedir\")\n",
    "        else:\n",
    "            self.money -= withdrawalamount\n",
    "    def show_info(self):\n",
    "        print(f\"Banka hesabınızdaki tutar = {self.money}\")\n",
    "bankaccount1 = BankAccount(1000)\n",
    "bankaccount1.show_info()\n",
    "bankaccount1.deposit(200)\n",
    "bankaccount1.show_info()\n",
    "bankaccount1.withdrawal(1300)\n",
    "bankaccount1.show_info()\n",
    "bankaccount1.withdrawal(1000)\n",
    "bankaccount1.show_info()"
   ]
  },
  {
   "cell_type": "code",
   "execution_count": 46,
   "id": "13f999e6",
   "metadata": {},
   "outputs": [
    {
     "name": "stdout",
     "output_type": "stream",
     "text": [
      "4\n",
      "1000\n",
      "700\n",
      "784\n",
      "560\n",
      "4\n"
     ]
    }
   ],
   "source": [
    "class Employee:\n",
    "    total_employee = 0\n",
    "    def __init__ (self,name,employee_type):\n",
    "        self.name = name\n",
    "        self.employee_type = employee_type\n",
    "        Employee.total_employee += 1\n",
    "    \n",
    "    @classmethod\n",
    "    def show_employee_number(cls):\n",
    "        return cls.total_employee\n",
    "    \n",
    "   \n",
    "    def calculate_salary(self,hours_worked):\n",
    "        if self.employee_type == \"engineer\":\n",
    "            return hours_worked * 25\n",
    "        elif self.employee_type == \"teacher\":\n",
    "            return hours_worked * 20\n",
    "        elif self.employee_type == 'dentist':\n",
    "            return hours_worked * 28\n",
    "        else:\n",
    "            return hours_worked * 15\n",
    "\n",
    "employee1 = Employee(\"Mehmet\" , \"engineer\")\n",
    "employee2 = Employee(\"Anıl\" , \"teacher\")\n",
    "employee3 = Employee(\"Mert\", \"dentist\")\n",
    "employee4 = Employee(\"Hakan\" , \"Ceo\")\n",
    "print(Employee.show_employee_number())\n",
    "print(employee1.calculate_salary(40))\n",
    "print(employee2.calculate_salary(35))\n",
    "print(employee3.calculate_salary(28))\n",
    "print(employee3.calculate_salary(20))\n",
    "print(Employee.show_employee_number())\n",
    "\n",
    "\"\"\"# Instance Method: Nesneye özgü işlemler yapar ve 'self' parametresi ile nesneye ait verilere erişir.\n",
    "# Class Method: Sınıfa özgü işlemler yapar ve 'cls' parametresi ile sınıfın kendisine erişir. '@classmethod' ile tanımlanır.\n",
    "# Static Method: Sınıf veya nesneye bağlı olmadan çalışan, bağımsız bir metottur. '@staticmethod' ile tanımlanır ve 'self'\n",
    "veya 'cls' kullanmaz.\n",
    "\"\"\""
   ]
  }
 ],
 "metadata": {
  "kernelspec": {
   "display_name": "Python 3 (ipykernel)",
   "language": "python",
   "name": "python3"
  },
  "language_info": {
   "codemirror_mode": {
    "name": "ipython",
    "version": 3
   },
   "file_extension": ".py",
   "mimetype": "text/x-python",
   "name": "python",
   "nbconvert_exporter": "python",
   "pygments_lexer": "ipython3",
   "version": "3.11.3"
  }
 },
 "nbformat": 4,
 "nbformat_minor": 5
}
