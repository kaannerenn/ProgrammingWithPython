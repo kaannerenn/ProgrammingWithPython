{
 "cells": [
  {
   "cell_type": "code",
   "execution_count": 2,
   "id": "c2e2eeab",
   "metadata": {},
   "outputs": [
    {
     "name": "stdout",
     "output_type": "stream",
     "text": [
      "[2, 4, 6, 8, 10]\n"
     ]
    }
   ],
   "source": [
    "##Bir liste düşün, 1'den 5'e kadar olan sayılardan oluşuyor. Bu listedeki her sayıyı 2 ile çarpan yeni bir liste oluşturun.\n",
    "list1 = [1,2,3,4,5]\n",
    "newlist1 = [number*2 for number in list1]\n",
    "print(newlist1)"
   ]
  },
  {
   "cell_type": "code",
   "execution_count": 4,
   "id": "e69e9b97",
   "metadata": {},
   "outputs": [
    {
     "name": "stdout",
     "output_type": "stream",
     "text": [
      "['banana', 'cherry', 'elderberry']\n"
     ]
    }
   ],
   "source": [
    "## Kelimelerden yalnızca 5 harften uzun olanları seçip yeni bir liste oluşturun.\n",
    "list1 = ['apple', 'banana', 'cherry', 'date', 'elderberry']\n",
    "newlist1 = [word for word in list1 if len(word) > 5]\n",
    "print(newlist1)"
   ]
  },
  {
   "cell_type": "code",
   "execution_count": 6,
   "id": "d7eff513",
   "metadata": {},
   "outputs": [
    {
     "name": "stdout",
     "output_type": "stream",
     "text": [
      "[120]\n"
     ]
    }
   ],
   "source": [
    "## Bu listedeki sayılardan yalnızca 3'e ve 4'e bölünebilen sayıları seçip, her birini 2 ile çarpın.\n",
    "list1 = [10, 25, 30, 40, 50, 60, 70, 80, 90]\n",
    "newlist1 = [number * 2  for number in list1 if number % 3 == 0 and number % 4 == 0]\n",
    "print(newlist1)"
   ]
  },
  {
   "cell_type": "code",
   "execution_count": 13,
   "id": "f30af398",
   "metadata": {},
   "outputs": [
    {
     "name": "stdout",
     "output_type": "stream",
     "text": [
      "[2, 3, 4, 6, 8, 9, 10]\n"
     ]
    }
   ],
   "source": [
    "##2 ile bölünebilen sayıları seçin.\n",
    "##3 ile bölünebilen sayılardan yalnızca tek olanları seçin.\n",
    "##Son olarak, bu sayıları küçükten büyüğe sıralayın.\n",
    "list1 = [1, 2, 3, 4, 5, 6, 7, 8, 9, 10]\n",
    "newlist = [number for number in list1 if (number % 2 == 0) or (number % 3 == 0 and number % 2 != 0)]\n",
    "newlist.sort()\n",
    "print(newlist)"
   ]
  },
  {
   "cell_type": "code",
   "execution_count": 16,
   "id": "eba77455",
   "metadata": {},
   "outputs": [
    {
     "name": "stdout",
     "output_type": "stream",
     "text": [
      "[0.2, 0.8, 1.8, 3.2, 5.0, 7.2, 9.8]\n"
     ]
    }
   ],
   "source": [
    "## Listedeki her sayının karesini al, ancak sadece karesi 50'yi aşmayan sayıları seç ve bunları 5 ile bölün.\n",
    "list1 = [1, 2, 3, 4, 5, 6, 7, 8, 9, 10, 11, 12]\n",
    "newlist = [(number**2)/5 for number in list1 if number**2 < 50]\n",
    "print(newlist)"
   ]
  },
  {
   "cell_type": "code",
   "execution_count": 22,
   "id": "a938f601",
   "metadata": {},
   "outputs": [
    {
     "name": "stdout",
     "output_type": "stream",
     "text": [
      "[(5, 'apple'), (6, 'banana'), (5, 'grape'), (5, 'mango'), (5, 'peach')]\n"
     ]
    }
   ],
   "source": [
    "## Listeyi kullanarak, sadece içinde 'a' harfi geçen kelimeleri seç ve bu kelimelerin her birinin uzunluğunu yazdır.\n",
    "list1 = ['apple', 'banana', 'grape', 'kiwi', 'mango', 'peach']\n",
    "newlist = [(len(word),word) for word in list1 if 'a' in word]\n",
    "print(newlist)"
   ]
  },
  {
   "cell_type": "code",
   "execution_count": 41,
   "id": "68968e0d",
   "metadata": {},
   "outputs": [
    {
     "name": "stdout",
     "output_type": "stream",
     "text": [
      "[36, 64, 100, 144]\n"
     ]
    }
   ],
   "source": [
    "##Eğer sayı 2'ye bölünebiliyorsa, karesini alın.\n",
    "##Eğer sayı 3'e bölünebiliyorsa, 3 ile çarpın.\n",
    "##Son olarak, bu sayıları bir listeye ekleyin ve yalnızca 30'dan büyük olanları seçin.\n",
    "list1 = [1, 2, 3, 4, 5, 6, 7, 8, 9, 10, 11, 12, 13]\n",
    "newlist = [number ** 2 if number % 2 == 0 else number * 3 \n",
    "           for number in list1 \n",
    "           if (number % 2 == 0 and number**2 > 30) or (number % 3 == 0 and number * 3 > 30)]\n",
    "print(newlist)"
   ]
  },
  {
   "cell_type": "code",
   "execution_count": 55,
   "id": "cace0a85",
   "metadata": {},
   "outputs": [
    {
     "name": "stdout",
     "output_type": "stream",
     "text": [
      "[69, 183, 210, 255, 273, 280, 370]\n"
     ]
    }
   ],
   "source": [
    "##Sayı çiftse, sayıyı 5 ile çarpın.\n",
    "##Sayı tekse, sayıyı 3 ile çarpın.\n",
    "##Sonuç 50'den büyükse, bu sayıyı ekleyin.\n",
    "list1 = [10, 15, 23, 42, 56, 61, 74, 85, 91]\n",
    "newlist = [number * 5 if number % 2 == 0 else number * 3\n",
    "          for number in list1\n",
    "          if (number % 2 == 0 and number * 5 > 50) or (number % 2 != 0 and number * 3 > 50)]\n",
    "newlist.sort()\n",
    "print(newlist)"
   ]
  },
  {
   "cell_type": "code",
   "execution_count": 63,
   "id": "e19a8aab",
   "metadata": {},
   "outputs": [
    {
     "name": "stdout",
     "output_type": "stream",
     "text": [
      "[4.4, 6.8, 24]\n"
     ]
    }
   ],
   "source": [
    "##Her sayı, 3 ile bölünebiliyorsa 2 ile çarpılsın.\n",
    "##Sayılar tekse, kendisinden önceki sayıyı 3 ile çarpıp sonuca ekleyelim.\n",
    "##Sayı çiftse, 5 ile bölüp sonuca ekleyelim.\n",
    "##Sonuçlar arasında 10'dan küçük olanları filtrele ve ters sırayla yazdır.\n",
    "list1 = [15, 22, 34, 57, 64, 12, 43, 66, 25]\n",
    "newlist = [number * 2 if number % 3 == 0 else (number-1) * 3 + number if number % 2 != 0 else number / 5\n",
    "          for number in list1\n",
    "          if\n",
    "           (number % 3 == 0 and number * 2 < 10) or \n",
    "           (number % 2 != 0 and (number-1)*3 + number < 10) or \n",
    "           (number %2 == 0 and number / 5 < 10)]\n",
    "print(newlist)                                                    "
   ]
  }
 ],
 "metadata": {
  "kernelspec": {
   "display_name": "Python 3 (ipykernel)",
   "language": "python",
   "name": "python3"
  },
  "language_info": {
   "codemirror_mode": {
    "name": "ipython",
    "version": 3
   },
   "file_extension": ".py",
   "mimetype": "text/x-python",
   "name": "python",
   "nbconvert_exporter": "python",
   "pygments_lexer": "ipython3",
   "version": "3.11.3"
  }
 },
 "nbformat": 4,
 "nbformat_minor": 5
}
