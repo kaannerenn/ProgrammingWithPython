{
 "cells": [
  {
   "cell_type": "code",
   "execution_count": 3,
   "id": "11db8cb9",
   "metadata": {},
   "outputs": [
    {
     "name": "stdout",
     "output_type": "stream",
     "text": [
      "[1, 4, 9, 16, 25]\n"
     ]
    }
   ],
   "source": [
    "# Bir listeyi alıp her elemanın karesini hesaplayan bir lambda fonksiyonu yazın.\n",
    "take_square_from_list = lambda x : [i * i for i in x]\n",
    "list1 = [1, 2, 3, 4, 5]\n",
    "print(take_square_from_list(list1))"
   ]
  },
  {
   "cell_type": "code",
   "execution_count": 4,
   "id": "07f492cb",
   "metadata": {},
   "outputs": [
    {
     "name": "stdout",
     "output_type": "stream",
     "text": [
      "[2, 4]\n"
     ]
    }
   ],
   "source": [
    "# Bir listeyi alıp, her elemanın çift olup olmadığını kontrol eden bir lambda fonksiyonu yazın ve sonuçları döndürün.\n",
    "is_even_from_list = lambda x : [i for i in x if i % 2 == 0]\n",
    "list1 = [1,2,3,4,5]\n",
    "print(is_even_from_list(list1))"
   ]
  },
  {
   "cell_type": "code",
   "execution_count": 9,
   "id": "ebbe2100",
   "metadata": {},
   "outputs": [
    {
     "name": "stdout",
     "output_type": "stream",
     "text": [
      "['5 is smalller than 10', '10 is Equal to 10', '15 is bigger than 10', '7 is smalller than 10', '10 is Equal to 10', '3 is smalller than 10', '20 is bigger than 10']\n"
     ]
    }
   ],
   "source": [
    "# Bir liste verildiğinde, liste içindeki her bir sayıyı 10 ile karşılaştıran bir lambda fonksiyonu yaz.\n",
    "is_number_gt_10 = lambda x : [f\"{i} is smalller than 10\" if i < 10 else f\"{i} is Equal to 10\" if i == 10 else f\"{i} is bigger than 10\" for i in x]\n",
    "list1 = [5, 10, 15, 7, 10, 3, 20]\n",
    "print(is_number_gt_10(list1))"
   ]
  },
  {
   "cell_type": "code",
   "execution_count": 12,
   "id": "8c687bea",
   "metadata": {},
   "outputs": [
    {
     "name": "stdout",
     "output_type": "stream",
     "text": [
      "[4, 9, 11]\n"
     ]
    }
   ],
   "source": [
    "# Bir lambda fonksiyonu yaz, bir liste içerisindeki sayılardan sadece pozitif olanları döndüren bir fonksiyon olsun.\n",
    "is_number_positive = lambda x : [i for i in x if i > 0]\n",
    "list1 = [-2,0,-1,4,9,11]\n",
    "print(is_number_positive(list1))"
   ]
  },
  {
   "cell_type": "code",
   "execution_count": 14,
   "id": "9a118923",
   "metadata": {},
   "outputs": [
    {
     "name": "stdout",
     "output_type": "stream",
     "text": [
      "Hello World From Python\n"
     ]
    }
   ],
   "source": [
    "# Bir string içinde her kelimenin baş harfini büyük yapacak bir lambda fonksiyonu yaz.\n",
    "upper_for_sentence = lambda x : \" \".join([word.capitalize() for word in x.split(\" \")])\n",
    "print(upper_for_sentence(\"hello world from python\"))"
   ]
  },
  {
   "cell_type": "code",
   "execution_count": 15,
   "id": "0de0551d",
   "metadata": {},
   "outputs": [
    {
     "name": "stdout",
     "output_type": "stream",
     "text": [
      "{'h': 1, 'e': 1, 'l': 2, 'o': 1}\n"
     ]
    }
   ],
   "source": [
    "# Verilen bir kelimenin içindeki harflerin sayısını bir lambda fonksiyonu ile sayın. \n",
    "# Örneğin, \"hello\" kelimesi için h=1, e=1, l=2, o=1 şeklinde bir çıktı bekleniyor. \n",
    "count_letters = lambda word: {letter: word.count(letter) for letter in word}\n",
    "word = \"hello\"\n",
    "print(count_letters(word))"
   ]
  }
 ],
 "metadata": {
  "kernelspec": {
   "display_name": "Python 3 (ipykernel)",
   "language": "python",
   "name": "python3"
  },
  "language_info": {
   "codemirror_mode": {
    "name": "ipython",
    "version": 3
   },
   "file_extension": ".py",
   "mimetype": "text/x-python",
   "name": "python",
   "nbconvert_exporter": "python",
   "pygments_lexer": "ipython3",
   "version": "3.11.3"
  }
 },
 "nbformat": 4,
 "nbformat_minor": 5
}
