{
 "cells": [
  {
   "cell_type": "code",
   "execution_count": 6,
   "id": "87405823",
   "metadata": {},
   "outputs": [
    {
     "name": "stdout",
     "output_type": "stream",
     "text": [
      "[2, 8]\n"
     ]
    }
   ],
   "source": [
    "#Bir liste içerisindeki sadece pozitif ve çift sayıları filtrele. Yani, hem pozitif olmalı hem de çift olmalı.\n",
    "list1 = [-2,2,1,-5,8,-4]\n",
    "list2 = list(filter(lambda x : x % 2 == 0 and x > 0, list1))\n",
    "print(list2)"
   ]
  },
  {
   "cell_type": "code",
   "execution_count": 8,
   "id": "d93a4422",
   "metadata": {},
   "outputs": [
    {
     "name": "stdout",
     "output_type": "stream",
     "text": [
      "[27]\n"
     ]
    }
   ],
   "source": [
    "#Bir liste içerisindeki sayılardan, sadece 3'e tam bölünebilen ve aynı zamanda 5'e bölündüğünde kalan 2 olanları filtrele.\n",
    "list1 = [3,9,21,27,5]\n",
    "list2 = list(filter(lambda x : x % 3 == 0 and x % 5 == 2, list1))\n",
    "print(list2)"
   ]
  },
  {
   "cell_type": "code",
   "execution_count": 10,
   "id": "74206081",
   "metadata": {},
   "outputs": [
    {
     "name": "stdout",
     "output_type": "stream",
     "text": [
      "['banana', 'elephant']\n"
     ]
    }
   ],
   "source": [
    "#Bir liste içerisinde bulunan sadece kelime uzunluğu 5'ten büyük olan kelimeleri filtrele.\n",
    "list1 = [\"apple\", \"banana\", \"cat\", \"elephant\", \"dog\", \"pear\"]\n",
    "list2 = list(filter(lambda x : len(x) > 5, list1))\n",
    "print(list2)"
   ]
  },
  {
   "cell_type": "code",
   "execution_count": 11,
   "id": "3561412b",
   "metadata": {},
   "outputs": [
    {
     "name": "stdout",
     "output_type": "stream",
     "text": [
      "['banana', 'elephant', 'pear']\n"
     ]
    }
   ],
   "source": [
    "#Bir listeyi al ve içinde bulunan sadece çift uzunluktaki string'leri filtrele. Yani kelimenin uzunluğu çift sayı olmalı\n",
    "list1 = [\"apple\", \"banana\", \"cat\", \"elephant\", \"dog\", \"pear\"]\n",
    "list2 = list(filter(lambda x : len(x) % 2 == 0, list1))\n",
    "print(list2)"
   ]
  },
  {
   "cell_type": "code",
   "execution_count": 15,
   "id": "704b607e",
   "metadata": {},
   "outputs": [
    {
     "name": "stdout",
     "output_type": "stream",
     "text": [
      "[4, 9, 25, 49, 100]\n"
     ]
    }
   ],
   "source": [
    "#Bir liste içerisindeki sadece pozitif sayıları filtrele, sonra bu sayıları karelerine çevir ve sonuçları listele.\n",
    "list1 = [-1, 2, 3, -4, 5, 7, -9, 10]\n",
    "list2 = list(filter(lambda x : x > 0 , list1))\n",
    "list3 = list(map(lambda x : x ** 2 , list2))\n",
    "print(list3)"
   ]
  },
  {
   "cell_type": "code",
   "execution_count": 28,
   "id": "8a8b8558",
   "metadata": {},
   "outputs": [
    {
     "name": "stdout",
     "output_type": "stream",
     "text": [
      "[[3, 9], [], [21, 27], [33], [39, 45]]\n"
     ]
    }
   ],
   "source": [
    "#Bir liste içerisinde her biri iç içe listeler olan pozitif sayıları filtrele. İç içe listelerin her birinde sadece tek sayıları\n",
    "#al, sonra bu tek sayıları 3 ile çarp ve sonuçları düz bir liste şeklinde döndür.\n",
    "list1 = [[1, 2, 3], [4, -5, 6], [7, 8, 9], [10, 11, 12], [13, 14, 15]]\n",
    "\n",
    "\n",
    "filtered_list = list(map(lambda inner_list: list(filter(lambda x: x > 0, inner_list)), list1))\n",
    "\n",
    "\n",
    "odd_numbers = list(map(lambda inner_list: list(filter(lambda x: x % 2 != 0, inner_list)), filtered_list))\n",
    "\n",
    "result = list(map(lambda inner_list: list(map(lambda x: x * 3, inner_list)), odd_numbers))\n",
    "\n",
    "print(result)"
   ]
  },
  {
   "cell_type": "code",
   "execution_count": 34,
   "id": "39e462f2",
   "metadata": {},
   "outputs": [
    {
     "name": "stdout",
     "output_type": "stream",
     "text": [
      "['Apple', 'Banana', 'Elephant']\n"
     ]
    }
   ],
   "source": [
    "'''Bir liste içerisinde yer alan stringler üzerinden işlem yapacağız. Amacımız:\n",
    "\n",
    "Boş olmayan ve uzunluğu 4'ten büyük olan stringleri filtrele.\n",
    "\n",
    "Sonra bu stringlerin her birinin ilk harflerini büyük yap.'''\n",
    "list1 = [\"apple\", \"banana\", \"cat\", \"elephant\", \"dog\", \"\", \"pear\", \"kiwi\"]\n",
    "filtered_list = list(filter(lambda word : len(word) > 4, list1))\n",
    "last_list = list(map(lambda word : word.capitalize(),filtered_list))\n",
    "print(last_list)"
   ]
  }
 ],
 "metadata": {
  "kernelspec": {
   "display_name": "Python 3 (ipykernel)",
   "language": "python",
   "name": "python3"
  },
  "language_info": {
   "codemirror_mode": {
    "name": "ipython",
    "version": 3
   },
   "file_extension": ".py",
   "mimetype": "text/x-python",
   "name": "python",
   "nbconvert_exporter": "python",
   "pygments_lexer": "ipython3",
   "version": "3.11.3"
  }
 },
 "nbformat": 4,
 "nbformat_minor": 5
}
