{
 "cells": [
  {
   "cell_type": "code",
   "execution_count": 1,
   "id": "ca2009ce",
   "metadata": {},
   "outputs": [
    {
     "name": "stdout",
     "output_type": "stream",
     "text": [
      "15\n"
     ]
    }
   ],
   "source": [
    "# Bir listedeki en büyük sayıyı reduce kullanarak bul.\n",
    "from functools import reduce\n",
    "\n",
    "list1 = [3, 7, 2, 9, 12, 5, 15, 8]\n",
    "max_number = reduce(lambda a, b: a if a > b else b, list1)\n",
    "\n",
    "print(max_number)  "
   ]
  },
  {
   "cell_type": "code",
   "execution_count": 3,
   "id": "f1ce0ae6",
   "metadata": {},
   "outputs": [
    {
     "name": "stdout",
     "output_type": "stream",
     "text": [
      "40\n"
     ]
    }
   ],
   "source": [
    "from functools import reduce\n",
    "\n",
    "list1 = [1,2,4,5]\n",
    "multiply = reduce(lambda a, b : a * b, list1)\n",
    "\n",
    "print(multiply)"
   ]
  },
  {
   "cell_type": "code",
   "execution_count": 4,
   "id": "0bd0cdc7",
   "metadata": {},
   "outputs": [
    {
     "name": "stdout",
     "output_type": "stream",
     "text": [
      "elephant\n"
     ]
    }
   ],
   "source": [
    "# Bir kelime listesindeki en uzun kelimeyi reduce kullanarak bul.\n",
    "from functools import reduce\n",
    "\n",
    "words = [\"apple\", \"banana\", \"cat\", \"elephant\", \"dog\", \"kiwi\"]\n",
    "longest_word = reduce(lambda word1, word2 : word1 if len(word1) > len(word2) else word2, words)\n",
    "\n",
    "print(longest_word)"
   ]
  },
  {
   "cell_type": "code",
   "execution_count": 8,
   "id": "22f0be0d",
   "metadata": {},
   "outputs": [
    {
     "name": "stdout",
     "output_type": "stream",
     "text": [
      "150\n"
     ]
    }
   ],
   "source": [
    "# Verilen bir listenin içindeki sayıların faktöriyelini al ve sonra bunları toplamak için reduce fonksiyonunu kullan.\n",
    "from functools import reduce\n",
    "import math\n",
    "\n",
    "list1 = [3,4,5]\n",
    "factorials = list(map(lambda x : math.factorial(x),list1))\n",
    "total = reduce(lambda x , y  : x + y , factorials)\n",
    "\n",
    "print(total)"
   ]
  },
  {
   "cell_type": "code",
   "execution_count": 15,
   "id": "e7c62984",
   "metadata": {},
   "outputs": [
    {
     "name": "stdout",
     "output_type": "stream",
     "text": [
      "1\n"
     ]
    }
   ],
   "source": [
    "# Bir listeyi al ve listedeki her sayıyı reduce ile 2'ye böldükten sonra en küçük sonucu bulun.\n",
    "from functools import reduce\n",
    "list1 = [3, 7, 2, 9, 12, 5, 15, 8]\n",
    "half_of_numbers = list(map(lambda x : x / 2 , list1))\n",
    "smallest_number = reduce(lambda x, y : x if x < y else y, half_of_numbers)\n",
    "\n",
    "print(int(smallest_number))"
   ]
  },
  {
   "cell_type": "code",
   "execution_count": 23,
   "id": "a21feec4",
   "metadata": {},
   "outputs": [
    {
     "name": "stdout",
     "output_type": "stream",
     "text": [
      "105\n"
     ]
    }
   ],
   "source": [
    "#Bir listenin içindeki sayıların asal olup olmadığını kontrol et.\n",
    "#Asal olan sayıları seç ve ardından reduce ile bu asal sayıların çarpımını hesapla.\n",
    "from functools import reduce\n",
    "def is_prime_number(number):\n",
    "    for i in range(2, number):\n",
    "        if number % i == 0:\n",
    "            return False\n",
    "    return True\n",
    "\n",
    "list1 =  [3, 4, 5, 6, 7, 8, 9]\n",
    "prime_numbers = list(filter(is_prime_number,list1))\n",
    "multiply_prime_numbers = reduce(lambda x, y : x * y, prime_numbers)\n",
    "print(multiply_prime_numbers)"
   ]
  },
  {
   "cell_type": "code",
   "execution_count": 26,
   "id": "982f2b1e",
   "metadata": {},
   "outputs": [
    {
     "name": "stdout",
     "output_type": "stream",
     "text": [
      "['ananab', 'egnaro', 'iwik', 'raep', 'tnahpele']\n"
     ]
    }
   ],
   "source": [
    "# Verilen bir listeyi alıp, yalnızca çift uzunluktaki kelimeleri seçin, ardından bu kelimeleri tersten yazın ve son olarak \n",
    "# bu tersten yazılmış kelimeleri alfabetik sıraya göre sıralayın.\n",
    "from functools import reduce\n",
    "list1 = [\"apple\", \"banana\", \"cat\", \"dog\", \"elephant\", \"kiwi\", \"pear\", \"orange\"]\n",
    "filtered_list = list(filter(lambda x : len(x) % 2 == 0 , list1))\n",
    "reversed_list = sorted(list(map(lambda x : x[::-1], filtered_list)))\n",
    "print(reversed_list)"
   ]
  },
  {
   "cell_type": "code",
   "execution_count": 61,
   "id": "95ec2ffb",
   "metadata": {},
   "outputs": [
    {
     "name": "stdout",
     "output_type": "stream",
     "text": [
      "Enter the length of Fibonacci sequence: 12\n",
      "132\n"
     ]
    }
   ],
   "source": [
    "from functools import reduce\n",
    "\n",
    "def fibonacci(n):\n",
    "    \n",
    "    fib = [0, 1]\n",
    "    for i in range(2, n):\n",
    "        fib.append(fib[i-1] + fib[i-2])\n",
    "    return fib\n",
    "\n",
    "number = int(input(\"Enter the length of Fibonacci sequence: \"))\n",
    "\n",
    "fibonacci_sequence = fibonacci(number)\n",
    "\n",
    "three_times_fibonacci_sequence = list(map(lambda x: x * 3, fibonacci_sequence))\n",
    "\n",
    "filtered_sequence = list(filter(lambda x: x % 2 == 0, three_times_fibonacci_sequence))\n",
    "\n",
    "reversed_filtered_sequence = sorted(filtered_sequence, reverse=True)\n",
    "\n",
    "total_filtered_sequence = reduce(lambda x, y: x + y, reversed_filtered_sequence)\n",
    "\n",
    "print(total_filtered_sequence)\n"
   ]
  }
 ],
 "metadata": {
  "kernelspec": {
   "display_name": "Python 3 (ipykernel)",
   "language": "python",
   "name": "python3"
  },
  "language_info": {
   "codemirror_mode": {
    "name": "ipython",
    "version": 3
   },
   "file_extension": ".py",
   "mimetype": "text/x-python",
   "name": "python",
   "nbconvert_exporter": "python",
   "pygments_lexer": "ipython3",
   "version": "3.11.3"
  }
 },
 "nbformat": 4,
 "nbformat_minor": 5
}
