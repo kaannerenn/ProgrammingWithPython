{
 "cells": [
  {
   "cell_type": "code",
   "execution_count": 2,
   "id": "1cda6db0",
   "metadata": {},
   "outputs": [
    {
     "name": "stdout",
     "output_type": "stream",
     "text": [
      "(('Kaan', 24), ('Ali', 22), ('Zeynep', 25))\n"
     ]
    }
   ],
   "source": [
    "names = [\"Kaan\", \"Ali\", \"Zeynep\"]\n",
    "ages = [24, 22, 25]\n",
    "\n",
    "tuple1 = tuple(zip(names,ages))\n",
    "\n",
    "print(tuple1)"
   ]
  },
  {
   "cell_type": "code",
   "execution_count": 5,
   "id": "ca9c43ac",
   "metadata": {},
   "outputs": [
    {
     "name": "stdout",
     "output_type": "stream",
     "text": [
      "{101: ('Kaan', 85), 102: ('Ali', 90), 103: ('Zeynep', 78)}\n"
     ]
    }
   ],
   "source": [
    "ogrenci_no = [101, 102, 103]\n",
    "isimler = [\"Kaan\", \"Ali\", \"Zeynep\"]\n",
    "notlar = [85, 90, 78]\n",
    "\n",
    "ogrenci_bilgileri = {no: (isim, not_) for no, isim, not_ in zip(ogrenci_no, isimler, notlar)}\n",
    "\n",
    "print(ogrenci_bilgileri)"
   ]
  },
  {
   "cell_type": "code",
   "execution_count": 6,
   "id": "51809a0c",
   "metadata": {},
   "outputs": [
    {
     "name": "stdout",
     "output_type": "stream",
     "text": [
      "{'Ahmet': 75.0, 'Mehmet': 80.0, 'Ayşe': 84.0, 'Fatma': 88.5}\n"
     ]
    }
   ],
   "source": [
    "isimler = [\"Ahmet\", \"Mehmet\", \"Ayşe\", \"Fatma\"]\n",
    "matematik = [80, 75, 90, 85]\n",
    "fizik = [70, 85, 78, 92]\n",
    "\n",
    "ortalama_notlar = {isim: (mat + fiz) / 2 for isim, mat, fiz in zip(isimler, matematik, fizik)}\n",
    "\n",
    "print(ortalama_notlar)"
   ]
  },
  {
   "cell_type": "code",
   "execution_count": 7,
   "id": "ac0dd063",
   "metadata": {},
   "outputs": [
    {
     "name": "stdout",
     "output_type": "stream",
     "text": [
      "['Kaan Eren', 'Ali Yılmaz', 'Zeynep Demir']\n"
     ]
    }
   ],
   "source": [
    "isimler = [\"Kaan\", \"Ali\", \"Zeynep\"]\n",
    "soyisimler = [\"Eren\", \"Yılmaz\", \"Demir\"]\n",
    "\n",
    "tam_isimler = [f\"{isim} {soyad}\" for isim, soyad in zip(isimler, soyisimler)]\n",
    "\n",
    "print(tam_isimler)"
   ]
  }
 ],
 "metadata": {
  "kernelspec": {
   "display_name": "Python 3 (ipykernel)",
   "language": "python",
   "name": "python3"
  },
  "language_info": {
   "codemirror_mode": {
    "name": "ipython",
    "version": 3
   },
   "file_extension": ".py",
   "mimetype": "text/x-python",
   "name": "python",
   "nbconvert_exporter": "python",
   "pygments_lexer": "ipython3",
   "version": "3.11.3"
  }
 },
 "nbformat": 4,
 "nbformat_minor": 5
}
