{
 "cells": [
  {
   "cell_type": "code",
   "execution_count": 5,
   "id": "03737d05",
   "metadata": {},
   "outputs": [
    {
     "name": "stdout",
     "output_type": "stream",
     "text": [
      "[2, 4, 6, 8, 10, 12]\n"
     ]
    }
   ],
   "source": [
    "list1 = [1,2,3,4,5,6]\n",
    "print(list(map(lambda x : x * 2, list1)))"
   ]
  },
  {
   "cell_type": "code",
   "execution_count": 9,
   "id": "3dbd7150",
   "metadata": {},
   "outputs": [
    {
     "name": "stdout",
     "output_type": "stream",
     "text": [
      "[1, '2', 3, '4', 5, '6']\n"
     ]
    }
   ],
   "source": [
    "#Bir listedeki sayıların çift olanlarını string olarak yaz, tek olanları olduğu gibi bırak.\n",
    "list1 = [1,2,3,4,5,6]\n",
    "list_even = list(map(lambda x : str(x) if x % 2 == 0 else x , list1))\n",
    "print(list_even)"
   ]
  },
  {
   "cell_type": "code",
   "execution_count": 10,
   "id": "2dbf6a38",
   "metadata": {},
   "outputs": [
    {
     "name": "stdout",
     "output_type": "stream",
     "text": [
      "[6, 8, 10, 12, 14]\n"
     ]
    }
   ],
   "source": [
    "#İki listeyi elemanlarına göre toplayan bir map fonksiyonu yaz.\n",
    "list1 = [1,2,3,4,5]\n",
    "list2 = [5,6,7,8,9]\n",
    "print(list(map(lambda x,y : x + y , list1,list2)))"
   ]
  },
  {
   "cell_type": "code",
   "execution_count": 11,
   "id": "e9f90107",
   "metadata": {},
   "outputs": [
    {
     "name": "stdout",
     "output_type": "stream",
     "text": [
      "[1, 2, 9, 4, 25]\n"
     ]
    }
   ],
   "source": [
    "#Bir listedeki sayıların karesini al, ancak çift sayıları olduğu gibi bırak.\n",
    "list1 = [1,2,3,4,5]\n",
    "print(list(map(lambda x : x ** 2 if x % 2 != 0 else x , list1)))"
   ]
  },
  {
   "cell_type": "code",
   "execution_count": 13,
   "id": "0cfa5492",
   "metadata": {},
   "outputs": [
    {
     "name": "stdout",
     "output_type": "stream",
     "text": [
      "[16, 19, 22, 25, 28]\n"
     ]
    }
   ],
   "source": [
    "#Üç farklı listenin elemanlarını toplayarak yeni bir liste oluştur.\n",
    "list1 = [1,2,3,4,5]\n",
    "list2 = [5,6,7,8,9]\n",
    "list3 = [10,11,12,13,14]\n",
    "list4 = list(map(lambda x,y,z : x + y + z, list1 , list2 , list3 ))\n",
    "print(list4)"
   ]
  },
  {
   "cell_type": "code",
   "execution_count": 14,
   "id": "b2bbd0f2",
   "metadata": {},
   "outputs": [
    {
     "name": "stdout",
     "output_type": "stream",
     "text": [
      "[0, 4, 0, 1, 169, 0]\n"
     ]
    }
   ],
   "source": [
    "#Bir liste içindeki sayıları, negatifse 0 yap, pozitifse karesini al\n",
    "list1 = [-1,2,-5,1,13,-12]\n",
    "print(list(map(lambda x : 0 if x < 0 else x*  x , list1)))"
   ]
  },
  {
   "cell_type": "code",
   "execution_count": 15,
   "id": "3cf97a95",
   "metadata": {},
   "outputs": [
    {
     "name": "stdout",
     "output_type": "stream",
     "text": [
      "[7, 5, 6]\n"
     ]
    }
   ],
   "source": [
    "#Bir liste içindeki kelimelerin uzunluklarını veren bir map fonksiyonu yaz.\n",
    "list1 = [\"Merhaba\",\"Selam\",\"Python\"]\n",
    "print(list(map(lambda x : len(x) , list1)))"
   ]
  },
  {
   "cell_type": "code",
   "execution_count": 25,
   "id": "b38a2037",
   "metadata": {},
   "outputs": [
    {
     "name": "stdout",
     "output_type": "stream",
     "text": [
      "['abahreM', 'maleS', 'Ada', 'Kedi']\n"
     ]
    }
   ],
   "source": [
    "#Bir liste içindeki kelimeleri ters çevir, ancak uzunluğu 5’ten küçük olanları olduğu gibi bırak.\n",
    "list1 = [\"Merhaba\", \"Selam\", \"Ada\", \"Kedi\"]\n",
    "print(list(map(lambda x: ''.join(reversed(x)) if len(x) >= 5 else x, list1)))"
   ]
  },
  {
   "cell_type": "code",
   "execution_count": 27,
   "id": "d7df2b2c",
   "metadata": {},
   "outputs": [
    {
     "name": "stdout",
     "output_type": "stream",
     "text": [
      "[1, 8, 25, 1, 169, 1728]\n"
     ]
    }
   ],
   "source": [
    "#Bir liste içindeki sayıları, eğer sayı tekse karesini al, çiftse küpünü al. Ardından bu işlemi tüm sayılar için uygulayarak \n",
    "#yeni bir liste oluştur. Ancak sonuç negatifse sadece pozitif değerini al.\n",
    "list1 = [-1,2,-5,1,13,-12]\n",
    "list2 = list(map(lambda x : x ** 2 if x % 2 != 0 else abs(x ** 3) , list1))\n",
    "print(list2)"
   ]
  }
 ],
 "metadata": {
  "kernelspec": {
   "display_name": "Python 3 (ipykernel)",
   "language": "python",
   "name": "python3"
  },
  "language_info": {
   "codemirror_mode": {
    "name": "ipython",
    "version": 3
   },
   "file_extension": ".py",
   "mimetype": "text/x-python",
   "name": "python",
   "nbconvert_exporter": "python",
   "pygments_lexer": "ipython3",
   "version": "3.11.3"
  }
 },
 "nbformat": 4,
 "nbformat_minor": 5
}
