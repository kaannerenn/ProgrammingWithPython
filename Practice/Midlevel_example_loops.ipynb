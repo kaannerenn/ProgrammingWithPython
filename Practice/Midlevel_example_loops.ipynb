{
 "cells": [
  {
   "cell_type": "code",
   "execution_count": 20,
   "id": "65a0c6ce",
   "metadata": {},
   "outputs": [
    {
     "name": "stdout",
     "output_type": "stream",
     "text": [
      "ilk 1000 bin asal sayının 270 tanesi 3 ile başlar 7 ile biter.\n"
     ]
    }
   ],
   "source": [
    "##ilk 10000 bin asal sayının kaç tanesi 3 ile başlar 7 ile biter\n",
    "count = 0\n",
    "number = 2\n",
    "primelist = []\n",
    "count2 = 0\n",
    "while count < 10000:\n",
    "    for i in range(2,int(number**0.5)+1):\n",
    "        if number % i == 0:\n",
    "            break\n",
    "    else:\n",
    "        count+=1\n",
    "        primelist.append(number)\n",
    "    number +=1\n",
    "strprimelist = [str(num) for num in primelist]\n",
    "for j in strprimelist:\n",
    "    if j.startswith(\"3\") & j.endswith(\"7\"):\n",
    "        count2 += 1\n",
    "print(f\"ilk 10000 bin asal sayının {count2} tanesi 3 ile başlar 7 ile biter.\")"
   ]
  },
  {
   "cell_type": "code",
   "execution_count": 32,
   "id": "22b13fb9",
   "metadata": {},
   "outputs": [
    {
     "name": "stdout",
     "output_type": "stream",
     "text": [
      "4 tanesi eşittir. Ve bu sayılar şunlardır --> [153, 370, 371, 407]\n"
     ]
    }
   ],
   "source": [
    "##3 basamaklı sayıların kaç tanesi rakamlarının küplerinin toplamına eşittir ve bu sayılar nelerdir.\n",
    "count = 0\n",
    "esitliste = []\n",
    "for sayi in range(100,1000):\n",
    "    toplam = 0\n",
    "    gecici_sayi = sayi\n",
    "    while gecici_sayi != 0:\n",
    "        basamak = gecici_sayi % 10\n",
    "        toplam += basamak **3\n",
    "        gecici_sayi //= 10\n",
    "    if toplam == sayi:\n",
    "        count+=1\n",
    "        esitliste.append(sayi)\n",
    "print(f\"{count} tanesi eşittir. Ve bu sayılar şunlardır --> {esitliste}\")"
   ]
  },
  {
   "cell_type": "code",
   "execution_count": 41,
   "id": "b4c6eaf4",
   "metadata": {},
   "outputs": [
    {
     "name": "stdout",
     "output_type": "stream",
     "text": [
      "[1, 1, 2, 3, 5, 8, 13, 21, 34, 55, 89, 144, 233, 377, 610, 987, 1597, 2584, 4181, 6765, 10946, 17711, 28657, 46368, 75025, 121393, 196418, 317811, 514229, 832040, 1346269, 2178309, 3524578, 5702887, 9227465, 14930352, 24157817, 39088169, 63245986, 102334155, 165580141, 267914296, 433494437, 701408733, 1134903170, 1836311903, 2971215073, 4807526976, 7778742049, 12586269025, 20365011074, 32951280099, 53316291173, 86267571272, 139583862445, 225851433717, 365435296162, 591286729879, 956722026041, 1548008755920, 2504730781961, 4052739537881, 6557470319842, 10610209857723, 17167680177565, 27777890035288, 44945570212853, 72723460248141, 117669030460994, 190392490709135, 308061521170129, 498454011879264, 806515533049393, 1304969544928657, 2111485077978050, 3416454622906707, 5527939700884757, 8944394323791464, 14472334024676221, 23416728348467685, 37889062373143906, 61305790721611591, 99194853094755497, 160500643816367088, 259695496911122585, 420196140727489673, 679891637638612258, 1100087778366101931, 1779979416004714189, 2880067194370816120, 4660046610375530309, 7540113804746346429, 12200160415121876738, 19740274219868223167, 31940434634990099905, 51680708854858323072, 83621143489848422977, 135301852344706746049, 218922995834555169026, 354224848179261915075]\n"
     ]
    }
   ],
   "source": [
    "## ilk 100 fibonaccı terimlerini ekrana yazdır\n",
    "fiblist = [1,1]\n",
    "i = 1\n",
    "while True:\n",
    "    fiblist.append(fiblist[i] + fiblist[i-1])\n",
    "    i+=1\n",
    "    if len(fiblist) == 100:\n",
    "        break\n",
    "print(fiblist)"
   ]
  },
  {
   "cell_type": "code",
   "execution_count": 50,
   "id": "07a42659",
   "metadata": {},
   "outputs": [
    {
     "name": "stdout",
     "output_type": "stream",
     "text": [
      "Aradığımız sayı 1344719667586153181419716641724567886890850696275767987106294472017884974410332069524504824747437757\n",
      "[513637207677450246125760857023446893186481668075116373246321641937144993869266524849692790595738232, 831082459908702935293955784701120993704369028200651613859972830080739980541065544674812034151699525, 1344719667586153181419716641724567886890850696275767987106294472017884974410332069524504824747437757]\n"
     ]
    }
   ],
   "source": [
    "## ilk 100 basamaklı fibonaccı sayısını ekrana yazdır\n",
    "fiblist = [1,1]\n",
    "i = 1\n",
    "while True:\n",
    "    fiblist.append(fiblist[0] + fiblist[1])\n",
    "    if len(str(fiblist[-1])) == 100:\n",
    "        print(f\"Aradığımız sayı {fiblist[i+1]}\")\n",
    "        break\n",
    "    fiblist.remove(fiblist[0]) ##listeyi sürekli büyütmek yerine bellek kullanımı açısından sadece son 2 elemanı tutabiliriz."
   ]
  },
  {
   "cell_type": "code",
   "execution_count": 63,
   "id": "23966a16",
   "metadata": {},
   "outputs": [
    {
     "name": "stdout",
     "output_type": "stream",
     "text": [
      "Metin 1'i giriniiz.selam\n",
      "Metin 2'yi giriniz.melas\n",
      "Bu kelimeler anagramdır.\n"
     ]
    }
   ],
   "source": [
    "## Anagram Kontrolü\n",
    "metin1 = input(\"Metin 1'i giriniiz.\")\n",
    "metin2 = input(\"Metin 2'yi giriniz.\")\n",
    "\n",
    "if sorted(metin1) == sorted(metin2):\n",
    "    print(\"Bu kelimeler anagramdır.\")\n",
    "else:\n",
    "    print(\"Bu kelimeler anagram değildir.\")"
   ]
  },
  {
   "cell_type": "code",
   "execution_count": 65,
   "id": "e8e2e844",
   "metadata": {},
   "outputs": [
    {
     "name": "stdout",
     "output_type": "stream",
     "text": [
      "Tam sayi giriniz.6\n",
      "6 mükemmel sayidir\n"
     ]
    }
   ],
   "source": [
    "## Girilen sayı mükemmel mi değil mi kontrolü\n",
    "sayi = int(input(\"Tam sayi giriniz.\"))\n",
    "toplam = 0\n",
    "for i in range(1,sayi):\n",
    "    if sayi % i == 0:\n",
    "        toplam += i\n",
    "if toplam == sayi:\n",
    "    print(f\"{sayi} mükemmel sayidir\")\n",
    "else:\n",
    "    print(f\"{sayi} mükemmel sayi değildir.\")"
   ]
  }
 ],
 "metadata": {
  "kernelspec": {
   "display_name": "Python 3 (ipykernel)",
   "language": "python",
   "name": "python3"
  },
  "language_info": {
   "codemirror_mode": {
    "name": "ipython",
    "version": 3
   },
   "file_extension": ".py",
   "mimetype": "text/x-python",
   "name": "python",
   "nbconvert_exporter": "python",
   "pygments_lexer": "ipython3",
   "version": "3.11.3"
  }
 },
 "nbformat": 4,
 "nbformat_minor": 5
}
