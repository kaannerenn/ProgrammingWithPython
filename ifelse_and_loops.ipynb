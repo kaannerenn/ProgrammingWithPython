{
 "cells": [
  {
   "cell_type": "code",
   "execution_count": 17,
   "id": "771fdfa2",
   "metadata": {},
   "outputs": [
    {
     "name": "stdout",
     "output_type": "stream",
     "text": [
      "5 sayısı listenin içindedir\n",
      "5 sayısı listenin içindedir.\n"
     ]
    }
   ],
   "source": [
    "##|| yerine or yazarak veya bağlacını kullanabiliriz.\n",
    "## && bağlacı yerine and yazarak ve bağlacını kullanabiliriz. \n",
    "##in keywordu nasıl kullanılır ??\n",
    "list1 = [1,2,3,4,5,6,7]\n",
    "k=5\n",
    "if k in list1:\n",
    "    print(f\"{k} sayısı listenin içindedir\")\n",
    "else:\n",
    "    print(\"{} sayısı listede yoktur.\".format(k))\n",
    "if k not in list1: ## not keywordunu de bu şekilde kullanıyoruz.\n",
    "    print(f\"{k} sayısı listede yoktur\")\n",
    "else:\n",
    "    print(f\"{k} sayısı listenin içindedir.\")"
   ]
  },
  {
   "cell_type": "code",
   "execution_count": 27,
   "id": "b9112e59",
   "metadata": {},
   "outputs": [
    {
     "name": "stdout",
     "output_type": "stream",
     "text": [
      "a, b'ye eşdeğerdir\n",
      "140718847005608\n",
      "140718847005608\n",
      "d,c'ye eşdeğer değil\n",
      "1801425388592\n",
      "1801465592176\n"
     ]
    }
   ],
   "source": [
    "##is keywordu kullanımı\n",
    "a = 5\n",
    "b = 5\n",
    "if a is b:\n",
    "    print(\"a, b'ye eşdeğerdir\")\n",
    "    print(id(a))\n",
    "    print(id(b))\n",
    "else:\n",
    "    print(\"a,b'ye eşdeğer değil\")\n",
    "b+=1 ## b = 6 şu anda\n",
    "d = \"PYTHON\"\n",
    "c = \"PYTHO\"\n",
    "c+= \"N\"\n",
    "if d is c:\n",
    "    print(\"b, c'ye eşdeğerdir\")\n",
    "else:\n",
    "    print(\"d,c'ye eşdeğer değil\")\n",
    "    print(id(d))\n",
    "    print(id(c))"
   ]
  },
  {
   "cell_type": "code",
   "execution_count": 31,
   "id": "a9ff83c6",
   "metadata": {},
   "outputs": [
    {
     "name": "stdout",
     "output_type": "stream",
     "text": [
      "1\n",
      "2\n",
      "3\n",
      "4\n",
      "5\n",
      "6\n",
      "7\n",
      "A\n",
      "h\n",
      "m\n",
      "e\n",
      "t\n"
     ]
    }
   ],
   "source": [
    "for numbers in list1:\n",
    "    print(numbers)\n",
    "name = \"Ahmet\"\n",
    "for letters in name:\n",
    "    print(letters)"
   ]
  },
  {
   "cell_type": "code",
   "execution_count": 35,
   "id": "b6805777",
   "metadata": {},
   "outputs": [
    {
     "name": "stdout",
     "output_type": "stream",
     "text": [
      "3\n",
      "6\n",
      "9\n"
     ]
    }
   ],
   "source": [
    "##For döngüsünde range fonksiyonu\n",
    "for i in range(3,12,3):\n",
    "    print(i)"
   ]
  },
  {
   "cell_type": "code",
   "execution_count": 41,
   "id": "f257a5fa",
   "metadata": {},
   "outputs": [
    {
     "name": "stdout",
     "output_type": "stream",
     "text": [
      "0\n",
      "1\n",
      "3\n",
      "4\n",
      "5\n",
      "6\n",
      "\n",
      "\n",
      "0\n",
      "1\n"
     ]
    }
   ],
   "source": [
    "#continue ve break keywordleri\n",
    "for i in range(7): ##0'dan 6'ya kadar sayıları döndürür.\n",
    "    if i == 2:## continue kullanımında eğer i == 2 ise continue 2'yi atla ve döngüye devam et demektir.\n",
    "        continue \n",
    "    print(i)\n",
    "print(\"\\n\")\n",
    "for i in range(7):\n",
    "    if i ==2:## burada ise eğer i == 2 ise break komutu ile tamamen döngüden çık. Döngüyü o noktada kes anlamındadır.\n",
    "        break\n",
    "    print(i)"
   ]
  },
  {
   "cell_type": "code",
   "execution_count": 53,
   "id": "08ed1c49",
   "metadata": {},
   "outputs": [
    {
     "name": "stdout",
     "output_type": "stream",
     "text": [
      "3\n",
      "5\n",
      "7\n",
      "9\n",
      "11\n",
      "\n",
      "2\n",
      "4\n",
      "6\n",
      "8\n",
      "10\n"
     ]
    }
   ],
   "source": [
    "## while döngüleri\n",
    "i = 1\n",
    "while i < 11:\n",
    "    i+=2\n",
    "    print(i)\n",
    "print(\"\")\n",
    "## while true ifadesiyle sonsuz bir döngüye sokabiliriz fakat döngüyü nerde bitirmek istediğimizi söylemeliyiz.\n",
    "j = 0\n",
    "while True:\n",
    "    j+=2\n",
    "    print(j)\n",
    "    if j ==10:\n",
    "        break\n",
    "\"\"\"Sonsuz döngüleri \n",
    "--Kullanıcıdan Sürekli Girdi Almak(Örneğin, bir menü sisteminde kullanıcı \n",
    "\"Çıkış\" seçeneğini seçene kadar tekrar tekrar giriş yapmasını sağlamak için kullanabiliriz.)\n",
    "--Sunucu veya Servis Uygulamaları(Örneğin, bir web sunucusu veya bot sürekli olarak çalışmalıdır.)\n",
    "---Gerçek Zamanlı Sensör ve Veri Okuma(Bir cihazdan veya sensörden sürekli veri almak için kullanılır.)\"\"\""
   ]
  },
  {
   "cell_type": "code",
   "execution_count": null,
   "id": "a6a18408",
   "metadata": {},
   "outputs": [],
   "source": []
  }
 ],
 "metadata": {
  "kernelspec": {
   "display_name": "Python 3 (ipykernel)",
   "language": "python",
   "name": "python3"
  },
  "language_info": {
   "codemirror_mode": {
    "name": "ipython",
    "version": 3
   },
   "file_extension": ".py",
   "mimetype": "text/x-python",
   "name": "python",
   "nbconvert_exporter": "python",
   "pygments_lexer": "ipython3",
   "version": "3.11.3"
  }
 },
 "nbformat": 4,
 "nbformat_minor": 5
}
