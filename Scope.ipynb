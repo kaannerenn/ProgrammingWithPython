{
 "cells": [
  {
   "cell_type": "code",
   "execution_count": 6,
   "id": "aaeef625",
   "metadata": {},
   "outputs": [
    {
     "name": "stdout",
     "output_type": "stream",
     "text": [
      "local y\n",
      "global x\n"
     ]
    }
   ],
   "source": [
    "x = \"global x\" # Bu bir global bir değişkendir. Programın her yerinden erişilebilir durumdadır.\n",
    "\n",
    "def func():\n",
    "    y = \"local y\" # Bu bir local değişkendir. Sadece tanımlandıkları fonksiyon ya da döngüde geçerli olan değişkenlerdir.\n",
    "    print(y)\n",
    "    \n",
    "    \n",
    "func()\n",
    "print(x)\n",
    "#print(y) bu şekilde yaparsak hata alırız çünkü y local bir değişken."
   ]
  },
  {
   "cell_type": "code",
   "execution_count": 9,
   "id": "331fab42",
   "metadata": {},
   "outputs": [
    {
     "name": "stdout",
     "output_type": "stream",
     "text": [
      "local x\n",
      "global x\n"
     ]
    }
   ],
   "source": [
    "x = \"global x\"\n",
    "\n",
    "def func():\n",
    "    x = \"local x\"\n",
    "    print(x)\n",
    "    \n",
    "func()\n",
    "print(x) #Bu şekilde çalıştırdığımızda ise x yine global olandan gelicek. Yani yukarıdaki değişkeni etkilemez."
   ]
  },
  {
   "cell_type": "code",
   "execution_count": 10,
   "id": "7c050f95",
   "metadata": {},
   "outputs": [
    {
     "name": "stdout",
     "output_type": "stream",
     "text": [
      "global x\n",
      "global x\n"
     ]
    }
   ],
   "source": [
    "x = \"global x\"\n",
    "\n",
    "def func():\n",
    "    \n",
    "    print(x)\n",
    "    \n",
    "func()\n",
    "print(x) # Bu şekilde ise global x'i  yazdırır. func() önce local kısma bakar bir şey bulamadığında ise global kısma bakar."
   ]
  },
  {
   "cell_type": "code",
   "execution_count": 11,
   "id": "3feb2171",
   "metadata": {},
   "outputs": [
    {
     "name": "stdout",
     "output_type": "stream",
     "text": [
      "enclosing x\n",
      "local x\n",
      "global x\n"
     ]
    }
   ],
   "source": [
    "x = \"global x\"\n",
    "\n",
    "def outer():\n",
    "    x = \"enclosing x\"\n",
    "    print(x)\n",
    "    def inner():\n",
    "        x = \"local x\"\n",
    "        print(x)\n",
    "    inner()\n",
    "# Eğer iç içe fonksiyon varsa en içerideki local bir dışındaki enclosing değer olur. En başta yazdığımız x yine global x.\n",
    "outer()\n",
    "print(x)\n",
    "# Her zaman ilk kendi bulunduğu scope'a bakar fonksiyonlar."
   ]
  },
  {
   "cell_type": "code",
   "execution_count": 12,
   "id": "af2f6d6c",
   "metadata": {},
   "outputs": [
    {
     "name": "stdout",
     "output_type": "stream",
     "text": [
      "enclosing x\n",
      "enclosing x\n",
      "global x\n"
     ]
    }
   ],
   "source": [
    "x = \"global x\"\n",
    "\n",
    "def outer():\n",
    "    x = \"enclosing x\"\n",
    "    print(x)\n",
    "    def inner():\n",
    "\n",
    "        print(x)\n",
    "    inner()\n",
    "    \n",
    "outer()\n",
    "print(x)\n",
    "#local x'i silersek bir dışa bakıp enclosing x değerini alır."
   ]
  },
  {
   "cell_type": "code",
   "execution_count": 14,
   "id": "4b733822",
   "metadata": {},
   "outputs": [
    {
     "name": "stdout",
     "output_type": "stream",
     "text": [
      "global x\n"
     ]
    }
   ],
   "source": [
    "x = \"global x\"\n",
    "\n",
    "def fonk():\n",
    "    x = 5\n",
    "\n",
    "fonk()\n",
    "print(x) # Burada x değerini yine globaldan alıyor fakat bunu altta gösterildiği gibi değiştirebiliriz."
   ]
  },
  {
   "cell_type": "code",
   "execution_count": 16,
   "id": "2e584af0",
   "metadata": {},
   "outputs": [
    {
     "name": "stdout",
     "output_type": "stream",
     "text": [
      "5\n"
     ]
    }
   ],
   "source": [
    "x = \"global x\"\n",
    "\n",
    "def fonk():\n",
    "    global x\n",
    "    x = 5 \n",
    "\n",
    "fonk()\n",
    "print(x)\n",
    "# Eğer daha bir içteki scope'tan global değişkeni kullanıp, değiştirmek istiyorsak global keyword'ünü kullanmalıyız."
   ]
  },
  {
   "cell_type": "code",
   "execution_count": 19,
   "id": "e51dabdb",
   "metadata": {},
   "outputs": [
    {
     "name": "stdout",
     "output_type": "stream",
     "text": [
      "enclosing x\n",
      "enclosing x\n"
     ]
    }
   ],
   "source": [
    "x = \"global x\"\n",
    "\n",
    "def outer():\n",
    "    x = \"enclosing x\"\n",
    "    print(x)\n",
    "    def inner():\n",
    "        nonlocal x\n",
    "        x = 5\n",
    "    inner()\n",
    "    print(x)\n",
    "    \n",
    "outer()\n",
    "#Burada nonlocal keyword'ünü kullanmasaydık 5 yerinede enclosing x yazacaktı.\n",
    "#Biz nonlocal ile o değerin o fonksiyonun local olmadığını belirtebiliriz. "
   ]
  }
 ],
 "metadata": {
  "kernelspec": {
   "display_name": "Python 3 (ipykernel)",
   "language": "python",
   "name": "python3"
  },
  "language_info": {
   "codemirror_mode": {
    "name": "ipython",
    "version": 3
   },
   "file_extension": ".py",
   "mimetype": "text/x-python",
   "name": "python",
   "nbconvert_exporter": "python",
   "pygments_lexer": "ipython3",
   "version": "3.11.3"
  }
 },
 "nbformat": 4,
 "nbformat_minor": 5
}
