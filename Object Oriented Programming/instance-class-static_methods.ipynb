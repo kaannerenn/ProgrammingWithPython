{
 "cells": [
  {
   "cell_type": "code",
   "execution_count": 33,
   "id": "c5210980",
   "metadata": {},
   "outputs": [
    {
     "name": "stdout",
     "output_type": "stream",
     "text": [
      "Name: Ali Surname: Veli, Age: 22\n",
      "3\n",
      "Ayşe\n",
      "Name: Elif Surname: Öz, Age: 33\n",
      "4\n",
      "2003\n"
     ]
    }
   ],
   "source": [
    "from datetime import date\n",
    "class employee:\n",
    "    raise_rate = 1.1\n",
    "    employee_number = 0\n",
    "    def __init__(self,name,surname,age):\n",
    "        self.name = name\n",
    "        self.surname = surname\n",
    "        self.age = age\n",
    "        employee.employee_number += 1\n",
    "        \n",
    "    def show_info(self): ## Instance method\n",
    "        return f\"Name: {self.name} Surname: {self.surname}, Age: {self.age}\"\n",
    "\n",
    "    @classmethod\n",
    "    def number_employees(cls,): ## Class method\n",
    "        return cls.employee_number\n",
    "\n",
    "    @classmethod\n",
    "    def create_with_string(cls,string):\n",
    "        name,surname,age = string.split(\"-\")\n",
    "        return cls(name,surname,age)\n",
    "\n",
    "    @classmethod\n",
    "    ## Örneğin veri toplanırken yaş yerine doğum yılı alındı. Class methodla bunu halledebiliriz.\n",
    "    def create_birthday(cls,name,surname,birthday):\n",
    "        return cls(name,surname,date.today().year - birthday)\n",
    "        \n",
    "    @staticmethod\n",
    "    def calculate_birthday(employee):\n",
    "        return date.today().year - employee.age\n",
    "    \n",
    "employee1 = employee(\"Ali\",\"Veli\",22)\n",
    "employee2 = employee(\"Umut\",\"Levent\",23)\n",
    "print(employee1.show_info())\n",
    "\n",
    "employee3 = employee.create_with_string(\"Ayşe-Yılmaz-28\") \n",
    "print(employee.number_employees())\n",
    "print(employee3.name)\n",
    "\n",
    "employee4 = employee.create_birthday(\"Elif\", \"Öz\", 1992)\n",
    "print(employee4.show_info())\n",
    "print(employee.number_employees())\n",
    "\n",
    "\n",
    "print(employee.calculate_birthday(employee1))\n",
    "\"\"\"Instance methods (self otomatik olarak alır) kesinlikle bir instance'a ihtiyaç duyar..\n",
    "Fakat Class methodlarda otomotaik cls gelir yani class'ın kendisi. Instance'a (objeye) ihtiyaç duymazlar.\n",
    "Instance methodlar (self parametresi alır) bir nesneye (instance) bağlıdır ve o nesnenin özelliklerine ve metodlarına erişebilir. \n",
    "Class methodlar (cls parametresi alır) doğrudan sınıf üzerinden çağrılabilir, instance'a ihtiyaç duymaz ve sınıf\n",
    "seviyesindeki değişkenlerle çalışır.\"\"\"\n",
    "\"\"\"Class methodda içine otomatik olarak cls alır fakat static'te böyle bir durum yok. istersek içine parametre de vermeyebiliriz\n",
    "@staticmethod\n",
    "def asdasd():\n",
    "    return \"merhaba\" şeklinde bile yapabiliriz. \"\"\""
   ]
  }
 ],
 "metadata": {
  "kernelspec": {
   "display_name": "Python 3 (ipykernel)",
   "language": "python",
   "name": "python3"
  },
  "language_info": {
   "codemirror_mode": {
    "name": "ipython",
    "version": 3
   },
   "file_extension": ".py",
   "mimetype": "text/x-python",
   "name": "python",
   "nbconvert_exporter": "python",
   "pygments_lexer": "ipython3",
   "version": "3.11.3"
  }
 },
 "nbformat": 4,
 "nbformat_minor": 5
}
