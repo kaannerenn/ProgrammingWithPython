{
 "cells": [
  {
   "cell_type": "code",
   "execution_count": null,
   "id": "a41caa7e",
   "metadata": {},
   "outputs": [],
   "source": [
    "# Çıkarma işlemi için özel metod\n",
    "#object.__sub__(self, other)  # Çıkarma (-)\n",
    "\n",
    "# Toplama işlemi için özel metod\n",
    "#object.__add__(self, other)  # Toplama (+)\n",
    "\n",
    "# Çarpma işlemi için özel metod\n",
    "#object.__mul__(self, other)  # Çarpma (*)\n",
    "\n",
    "# Bölme işlemi için özel metod\n",
    "#object.__truediv__(self, other)  # Bölme (/)\n",
    "\n",
    "# Tamsayı bölme işlemi için özel metod\n",
    "#object.__floordiv__(self, other)  # Tamsayı bölme (//)\n",
    "\n",
    "# Mod alma işlemi için özel metod\n",
    "#object.__mod__(self, other)  # Mod alma (%)\n",
    "\n",
    "# Üs alma işlemi için özel metod\n",
    "#object.__pow__(self, other)  # Üs alma (**)\n",
    "\n",
    "# Çıkarma işlemi için özel metod\n",
    "#object.__sub__(self, other)  # Çıkarma (-)\n",
    "\n",
    "# Toplama işlemi için özel metod\n",
    "#object.__add__(self, other)  # Toplama (+)\n",
    "\n",
    "# Çarpma işlemi için özel metod\n",
    "#object.__mul__(self, other)  # Çarpma (*)\n",
    "\n",
    "# Bölme işlemi için özel metod\n",
    "#object.__truediv__(self, other)  # Bölme (/)\n",
    "\n",
    "# Tamsayı bölme işlemi için özel metod\n",
    "#object.__floordiv__(self, other)  # Tamsayı bölme (//)\n",
    "\n",
    "# Mod alma işlemi için özel metod\n",
    "#object.__mod__(self, other)  # Mod alma (%)\n",
    "\n",
    "# Üs alma işlemi için özel metod\n",
    "#object.__pow__(self, other)  # Üs alma (**)"
   ]
  },
  {
   "cell_type": "code",
   "execution_count": 6,
   "id": "1274abe0",
   "metadata": {},
   "outputs": [
    {
     "name": "stdout",
     "output_type": "stream",
     "text": [
      "8\n",
      "8\n",
      "AliMehmet\n",
      "AliMehmet\n",
      "[1, 2, 3, 4, 5, 6]\n",
      "[1, 2, 3, 4, 5, 6]\n"
     ]
    }
   ],
   "source": [
    "## Dunder methods (Double underscore methods (__..__) ) (Magic methods)\n",
    "\n",
    "print(3 + 5)\n",
    "print(int.__add__(3,5)) ##Aslında bu 2si aynı işlem. Python bunu algılayıp kendiliğinden bizim için yapıyor.\n",
    "\n",
    "print(\"Ali\" + \"Mehmet\")\n",
    "print(str.__add__(\"Ali\",\"Mehmet\"))\n",
    "\n",
    "print([1,2,3] + [4,5,6])\n",
    "print(list.__add__([1,2,3],[4,5,6]))"
   ]
  },
  {
   "cell_type": "code",
   "execution_count": 8,
   "id": "3c02e8bb",
   "metadata": {},
   "outputs": [
    {
     "name": "stdout",
     "output_type": "stream",
     "text": [
      "[1, 2, 3, 4, 5, 6]\n"
     ]
    }
   ],
   "source": [
    "class Mylist(list): ##List klasından miras alıyor.\n",
    "    pass\n",
    "\n",
    "liste1 = Mylist([1,2,3])\n",
    "liste2 = Mylist([4,5,6])\n",
    "print(liste1 + liste2)"
   ]
  },
  {
   "cell_type": "code",
   "execution_count": 23,
   "id": "89b6fc2b",
   "metadata": {
    "scrolled": true
   },
   "outputs": [
    {
     "name": "stdout",
     "output_type": "stream",
     "text": [
      "[5, 7, 9]\n",
      "[-3, -3, -3]\n",
      "False\n",
      "True\n",
      "[1, 3, 5]\n"
     ]
    }
   ],
   "source": [
    "class Mylist(list):\n",
    "    def __add__(self,other): ##Aslında list'in __add__ methodunu override etmiş olduk.\n",
    "        if len(self) != len(other):\n",
    "            return \"Bu elemanlar toplanamaz\"\n",
    "        else:\n",
    "            result = Mylist()\n",
    "            for i in range(len(self)):\n",
    "                result.append(self[i] + other[i])\n",
    "        return result\n",
    "    \n",
    "    def __sub__(self,other):\n",
    "        if len(self) != len(other):\n",
    "            return \"Bu elemanlar çıkarılamaz\"\n",
    "        else:\n",
    "            result = Mylist()\n",
    "            for i in range(len(self)):\n",
    "                result.append(self[i] - other[i])\n",
    "        return result\n",
    "    \n",
    "    def __eq__(self,other): ##Override etmiş olduk çünkü aslında böyle bir fonksiyonu vardı listlerin.\n",
    "        if sum(self) == sum(other):\n",
    "            return True\n",
    "        return False\n",
    "    \n",
    "    def __abs__(self):\n",
    "        result = Mylist()  # Yeni bir Mylist nesnesi oluştur\n",
    "        for i in self:\n",
    "            result.append(abs(i))  # abs() ile direkt ekleyebilirsin\n",
    "        return result\n",
    "liste1 = Mylist([1,2,3])\n",
    "liste2 = Mylist([4,5,6])\n",
    "liste3 = Mylist([15,0,0])\n",
    "liste4 = Mylist([-1,3,-5])\n",
    "print(liste1 + liste2)\n",
    "print(liste1 - liste2) ##Normalde böyle bir işlemi yapamıyor. unsupported type diyor for sub için. Ama override etmiş olmadık.\n",
    "##Çünkü list'ler için çıkarma işlemi yok normalde.\n",
    "print(liste1 == liste2)\n",
    "print(liste2 == liste3) ##Bizim tanımladığımız (override) ettiğimiz eşitlik işlemine uyuyor.\n",
    "print(abs(liste4))"
   ]
  },
  {
   "cell_type": "code",
   "execution_count": 35,
   "id": "e370e9eb",
   "metadata": {},
   "outputs": [
    {
     "name": "stdout",
     "output_type": "stream",
     "text": [
      "True\n",
      "<__main__.Football_player object at 0x000001FD3D708750>\n",
      "MA FK 54\n",
      "True\n",
      "True\n"
     ]
    }
   ],
   "source": [
    "class Football_player:\n",
    "    \n",
    "    def __init__(self,name,surname,age):\n",
    "        self.name = name\n",
    "        self.surname = surname\n",
    "        self.age = age\n",
    "        \n",
    "    def __eq__(self,other):\n",
    "        if self.name == other.name and self.surname == other.surname:\n",
    "            return True\n",
    "        return False\n",
    "    \n",
    "    \n",
    "    def __add__(self,other):\n",
    "        name = self.name[0] + other.name[0]\n",
    "        surname = self.surname[0] + other.surname[0]\n",
    "        age = self.age + other.age\n",
    "        return Football_player(name,surname,age) \n",
    "\n",
    "    def __lt__(self,other):\n",
    "        if self.age < other.age:\n",
    "            return True\n",
    "        return False\n",
    "    \n",
    "    def __gt__(self,other):\n",
    "        if self.age > other.age:\n",
    "            return True\n",
    "        return false\n",
    "    \n",
    "    \n",
    "player1 = Football_player(\"Metin\",\"Feyyaz\",33)\n",
    "player2 = Football_player(\"Metin\",\"Feyyaz\",28)\n",
    "player3 = Football_player(\"Ali\",\"Kavlak\",21)\n",
    "print(player1 == player2 )\n",
    "player4 = player1 + player3\n",
    "print(player4) ##Çıktısının alttaki gibi obje şeklinde olması daha sonra acıklıycaz.\n",
    "print(player4.name,player4.surname,player4.age)\n",
    "print(player2 < player1)\n",
    "print(player1 > player2)"
   ]
  }
 ],
 "metadata": {
  "kernelspec": {
   "display_name": "Python 3 (ipykernel)",
   "language": "python",
   "name": "python3"
  },
  "language_info": {
   "codemirror_mode": {
    "name": "ipython",
    "version": 3
   },
   "file_extension": ".py",
   "mimetype": "text/x-python",
   "name": "python",
   "nbconvert_exporter": "python",
   "pygments_lexer": "ipython3",
   "version": "3.11.3"
  }
 },
 "nbformat": 4,
 "nbformat_minor": 5
}
