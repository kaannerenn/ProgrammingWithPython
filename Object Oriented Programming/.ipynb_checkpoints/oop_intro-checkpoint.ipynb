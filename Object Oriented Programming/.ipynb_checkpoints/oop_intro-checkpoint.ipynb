{
 "cells": [
  {
   "cell_type": "code",
   "execution_count": 3,
   "id": "89796ead",
   "metadata": {},
   "outputs": [
    {
     "name": "stdout",
     "output_type": "stream",
     "text": [
      "Ali\n",
      "Yılmaz\n",
      "aasdasd@gmail.com\n"
     ]
    }
   ],
   "source": [
    "## Class oluşturma\n",
    "class employee:\n",
    "    pass\n",
    "\n",
    "employee1 = employee() ## Instance\n",
    "employee.name = 'Ali'\n",
    "employee.surname = 'Yılmaz'\n",
    "employee.age = 25\n",
    "print(employee.name)\n",
    "print(employee.surname)\n",
    "employee2 = employee()\n",
    "employee2.email = \"aasdasd@gmail.com\"\n",
    "print(employee2.email)\n",
    "##Bu sadece class nasıl oluşturulur göstermek içindi. Böyle bir kullanım OOP'ye zaten aykırı."
   ]
  },
  {
   "cell_type": "code",
   "execution_count": 17,
   "id": "989f5a18",
   "metadata": {},
   "outputs": [
    {
     "name": "stdout",
     "output_type": "stream",
     "text": [
      "Veli Kavlak 25\n",
      "Ahmet Yılmaz 33\n",
      "Name = Veli,  Surname = Kavlak,  Age = 25\n",
      "Name = Ahmet,  Surname = Yılmaz,  Age = 33\n",
      "Name = Girilmedi,  Surname = Yıldırım,  Age = 0\n"
     ]
    }
   ],
   "source": [
    "class employee:\n",
    "    def __init__(self,a = \"Girilmedi\",b = \"Girilmedi\",c=0): ##Buradaki self oluşturduğumuz değişkendir. Default olarak kendisi gönderir.\n",
    "        self.name = a ##name\n",
    "        self.surname = b ##surname\n",
    "        self.age = c ##age normalde böyle adlandırmak daha pratik fakat anlaşılır olması için a,b,c koyduk.\n",
    "    def show_info(self): ##Eğer bir metod tanımlamak istiyorsakta bu şekilde yapabiliriz.\n",
    "        print(f\"Name = {self.name},  Surname = {self.surname},  Age = {self.age}\")\n",
    "employee1 = employee(\"Veli\",\"Kavlak\",25)\n",
    "print(employee1.name, employee1.surname, employee1.age)\n",
    "employee2 = employee(\"Ahmet\",\"Yılmaz\",33)\n",
    "print(employee2.name, employee2.surname, employee2.age)\n",
    "\n",
    "employee1.show_info()\n",
    "\n",
    "## employee.show_info() bu şekilde çağırmak istersek olmaz çünkü bir self objesi ister. içine employee1 ya da employee 2 yazabiliriz.\n",
    "employee.show_info(employee2)\n",
    "##Eğer yukarıda c = 0 yaptığımızda age değerini girmezsek default olarak 0 atar.\n",
    "employee3 = employee(b = \"Yıldırım\")\n",
    "employee3.show_info()"
   ]
  },
  {
   "cell_type": "code",
   "execution_count": 18,
   "id": "db08930d",
   "metadata": {},
   "outputs": [
    {
     "name": "stdout",
     "output_type": "stream",
     "text": [
      "0\n",
      "1\n",
      "{'name': 'Mehmet', 'salary': 22000}\n",
      "{'name': 'Ahmet', 'salary': 20000}\n",
      "1.1\n",
      "1.1\n",
      "1.1\n",
      "{'__module__': '__main__', 'raise_rate': 1.1, 'employee_number': 2, '__init__': <function employee.__init__ at 0x0000028390D120C0>, '__dict__': <attribute '__dict__' of 'employee' objects>, '__weakref__': <attribute '__weakref__' of 'employee' objects>, '__doc__': None}\n",
      "{'name': 'Mehmet', 'salary': 22000}\n",
      "1.2\n",
      "1.2\n",
      "1.2\n",
      "1.2\n",
      "1.5\n",
      "1.2\n",
      "{'name': 'Mehmet', 'salary': 22000, 'raise_rate': 1.5}\n",
      "{'name': 'Ahmet', 'salary': 20000}\n",
      "2\n"
     ]
    }
   ],
   "source": [
    "## class variables - instance variable\n",
    "class employee:\n",
    "    raise_rate = 1.1\n",
    "    employee_number = 0\n",
    "    def __init__(self,name,salary):\n",
    "        self.name = name\n",
    "        self.salary = salary\n",
    "        employee.employee_number +=1 ##Her bir çalışan için sayı 1 artar.\n",
    "\n",
    "print(employee.employee_number) ##Employe number'ı self ile tanımlamadık çünkü değişkene ait değil class'a ait bir attribute.\n",
    "\n",
    "employee1 = employee(\"Mehmet\",22000) ##Instance variable\n",
    "\n",
    "print(employee.employee_number)\n",
    "\n",
    "employee2 = employee(\"Ahmet\",20000)\n",
    "\n",
    "print(employee1.__dict__) ## 1. employee ve 2. employee in sahip olduğu attributeları dictionary şeklinde görüntüleyebiliriz.\n",
    "print(employee2.__dict__)\n",
    "\n",
    "print(employee.raise_rate)\n",
    "print(employee1.raise_rate)\n",
    "print(employee2.raise_rate) ## 3 şekilde de zam oranına erişebiliriz.\n",
    "print(employee.__dict__) ## Burda sözlükte görüntüleyebiliyoruz.\n",
    "print(employee1.__dict__) ##Fakat burda görüntüleyemiyoruz çünkü dict fonksiyonu direkt def __init__ kısmına gidip bakıyor.\n",
    "##print(employee1.raise_rate) bu şekilde görüntülememizin sebebi ise önce def __init__ icine daha sonra class'a bakılması.\n",
    "\n",
    "employee.raise_rate = 1.2 ## Eğer class üzerinden değeri güncellersek hepsi için güncellenir.\n",
    "print(employee.raise_rate)\n",
    "print(employee1.raise_rate)\n",
    "print(employee2.raise_rate) \n",
    "\n",
    "employee1.raise_rate = 1.5 ##Bu şekilde sadece employee1'in zam oranını değiştirmiş olduk.\n",
    "print(employee.raise_rate)\n",
    "print(employee1.raise_rate)\n",
    "print(employee2.raise_rate)\n",
    "\n",
    "print(employee1.__dict__) ##Burada raise_rate güncellediğimiz için def__init__ içine eklemiş olduk.\n",
    "print(employee2.__dict__)\n",
    "##Özetle değeri class üzerinden değişirsek hepsine nesne üzerinden değişirsek sadece nesneye etki eder\n",
    "\n",
    "print(employee.employee_number)"
   ]
  }
 ],
 "metadata": {
  "kernelspec": {
   "display_name": "Python 3 (ipykernel)",
   "language": "python",
   "name": "python3"
  },
  "language_info": {
   "codemirror_mode": {
    "name": "ipython",
    "version": 3
   },
   "file_extension": ".py",
   "mimetype": "text/x-python",
   "name": "python",
   "nbconvert_exporter": "python",
   "pygments_lexer": "ipython3",
   "version": "3.11.3"
  }
 },
 "nbformat": 4,
 "nbformat_minor": 5
}
