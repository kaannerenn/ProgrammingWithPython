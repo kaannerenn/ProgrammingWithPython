{
 "cells": [
  {
   "cell_type": "code",
   "execution_count": 4,
   "id": "821e30eb",
   "metadata": {},
   "outputs": [
    {
     "name": "stdout",
     "output_type": "stream",
     "text": [
      "Python\n",
      "'Python'\n",
      "0.18181818181818182\n",
      "0.18181818181818182\n",
      "2025-03-15\n",
      "2025-03-15\n",
      "datetime.date(2025, 3, 15)\n"
     ]
    }
   ],
   "source": [
    "## __str__ ve __repr__ methodları.\n",
    "from datetime import date\n",
    "a = \"Python\"\n",
    "print(str(a)) ##Burada sadece metni yazdırıyor.\n",
    "print(repr(a)) ##repr ile yazdırınca tırnaklarla birlikte yazdırıyor\n",
    "a = 2/11\n",
    "print(str(a))\n",
    "print(repr(a)) ##Burada bir farklılık yok\n",
    "\n",
    "today = date.today()\n",
    "print(today)\n",
    "print(str(today))\n",
    "print(repr(today))\n",
    "'''str() ve repr() fonksiyonları Python'da bir nesnenin farklı temsillerini döndürür. str() fonksiyonu, nesneyi kullanıcı dostu \n",
    "bir şekilde, daha okunabilir ve anlamlı bir formatta sunmayı amaçlar; genellikle kullanıcıya yönelik açıklayıcı bir çıktı verir.\n",
    "Öte yandan, repr() fonksiyonu, nesnenin teknik, geliştiriciye yönelik bir temsilini döndürür ve genellikle nesnenin nasıl \n",
    "oluşturulacağını belirten bir string sağlar, hata ayıklama ve nesnenin yeniden oluşturulması amacıyla daha ayrıntılı bilgi sunar.\n",
    "Yani, str() günlük kullanımda, repr() ise geliştirme veya hata ayıklama sırasında kullanılır.'''"
   ]
  },
  {
   "cell_type": "code",
   "execution_count": 7,
   "id": "7e3ee472",
   "metadata": {},
   "outputs": [
    {
     "name": "stdout",
     "output_type": "stream",
     "text": [
      "<__main__.Football_player object at 0x0000024DF758B050>\n"
     ]
    }
   ],
   "source": [
    "class Football_player:\n",
    "    def __init__(self,name,surname,age):\n",
    "        self.name = name\n",
    "        self.surname = surname\n",
    "        self.age = age\n",
    "\n",
    "player1 = Football_player(\"Oğuzhan\",\"Akgün\",25)\n",
    "print(player1) ## __str__ fonksiyonunu override etmeden önce çalıştırırsak çıktımız aşağıdaki gibi olacak.\n",
    "##Çünkü object'i nasıl yazdıracağını bilimyor."
   ]
  },
  {
   "cell_type": "code",
   "execution_count": 22,
   "id": "14b91823",
   "metadata": {},
   "outputs": [
    {
     "name": "stdout",
     "output_type": "stream",
     "text": [
      "Name Oğuzhan, Surname: Akgün, Age: 25\n",
      "repr is working\n"
     ]
    }
   ],
   "source": [
    "class Football_player:\n",
    "    \n",
    "    def __init__(self,name,surname,age):\n",
    "        self.name = name\n",
    "        self.surname = surname\n",
    "        self.age = age\n",
    "    \n",
    "    def __str__(self):\n",
    "        return f\"Name {self.name}, Surname: {self.surname}, Age: {self.age}\"\n",
    "    \n",
    "    def __repr__(self):\n",
    "        return \"repr is working\"\n",
    "    \n",
    "player1 = Football_player(\"Oğuzhan\",\"Akgün\",25)\n",
    "print(player1) ##Fakat __str__ methodunu override edersek bu şekilde yazdırabiliriz.\n",
    "##Eğer repr ve str aynı anda override edip çalıştırırsak öncelik str'nin.\n",
    "print(repr(player1))"
   ]
  },
  {
   "cell_type": "code",
   "execution_count": 24,
   "id": "c7abf310",
   "metadata": {},
   "outputs": [
    {
     "name": "stdout",
     "output_type": "stream",
     "text": [
      "Football_player(\"Oğuzhan\",\"Akgün\",25)\n"
     ]
    }
   ],
   "source": [
    "class Football_player:\n",
    "    \n",
    "    def __init__(self,name,surname,age):\n",
    "        self.name = name\n",
    "        self.surname = surname\n",
    "        self.age = age\n",
    "    \n",
    "    def __repr__(self):\n",
    "        return f'Football_player(\"{self.name}\",\"{self.surname}\",{self.age})' ##repr kullanımını taklit ettik.\n",
    "    \n",
    "player1 = Football_player(\"Oğuzhan\",\"Akgün\",25)\n",
    "print(player1) ##Eğer __str__ override etmemişsek ve __repr__ override etmişsek repr çalışır."
   ]
  }
 ],
 "metadata": {
  "kernelspec": {
   "display_name": "Python 3 (ipykernel)",
   "language": "python",
   "name": "python3"
  },
  "language_info": {
   "codemirror_mode": {
    "name": "ipython",
    "version": 3
   },
   "file_extension": ".py",
   "mimetype": "text/x-python",
   "name": "python",
   "nbconvert_exporter": "python",
   "pygments_lexer": "ipython3",
   "version": "3.11.3"
  }
 },
 "nbformat": 4,
 "nbformat_minor": 5
}
