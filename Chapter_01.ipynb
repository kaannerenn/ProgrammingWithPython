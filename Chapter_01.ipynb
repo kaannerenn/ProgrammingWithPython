{
 "cells": [
  {
   "cell_type": "code",
   "execution_count": 1,
   "id": "4d87b7d8",
   "metadata": {},
   "outputs": [
    {
     "name": "stdout",
     "output_type": "stream",
     "text": [
      "Hello World\n"
     ]
    }
   ],
   "source": [
    "print(\"Hello World\")"
   ]
  },
  {
   "cell_type": "code",
   "execution_count": 3,
   "id": "ba1b0f5c",
   "metadata": {},
   "outputs": [
    {
     "name": "stdout",
     "output_type": "stream",
     "text": [
      "Hello\n",
      "       \n",
      "       \n",
      "World\n"
     ]
    }
   ],
   "source": [
    "print (\"\"\"Hello\n",
    "       \n",
    "       \n",
    "World\"\"\") ## bu şekilde 3 tırnak ile direkt alta geçip yazma şansımız var."
   ]
  },
  {
   "cell_type": "code",
   "execution_count": 4,
   "id": "a87f7e64",
   "metadata": {},
   "outputs": [
    {
     "name": "stdout",
     "output_type": "stream",
     "text": [
      "Hello World\n"
     ]
    }
   ],
   "source": [
    "x = \"Hello World\"\n",
    "print(x)"
   ]
  },
  {
   "cell_type": "code",
   "execution_count": 37,
   "id": "693b0be9",
   "metadata": {},
   "outputs": [
    {
     "name": "stdout",
     "output_type": "stream",
     "text": [
      "hello World\n"
     ]
    }
   ],
   "source": [
    "x1 = \"Hello\"\n",
    "x2 = \"World\"\n",
    "print(x1 +\" \"+ x2) ## Bu şekilde Toplama şeklinde yan yana yazdırma fırsatımız da var"
   ]
  },
  {
   "cell_type": "code",
   "execution_count": 21,
   "id": "7bc6fd00",
   "metadata": {},
   "outputs": [
    {
     "name": "stdout",
     "output_type": "stream",
     "text": [
      "l\n",
      "W\n",
      "o\n"
     ]
    }
   ],
   "source": [
    "print(x1[2])\n",
    "print(x2[0]) ## [] kullanarak istediğimiz textin istediğimiz harfini yazdırabiliriz. 0. Indexten başlıyor.\n",
    "print(x2[-1]) ## Tersten gittiğimizde ise index -1 den başlıyor."
   ]
  },
  {
   "cell_type": "code",
   "execution_count": 29,
   "id": "9d8c6f2f",
   "metadata": {},
   "outputs": [
    {
     "name": "stdout",
     "output_type": "stream",
     "text": [
      "Hel\n",
      "Hlo\n",
      "olleH\n"
     ]
    }
   ],
   "source": [
    "print(x1[0:3]) ## Kaçıncı indexten hangisine kadar yazdırıcağımızı bu şekilde yapıyoruz.Başlangıç indexi dahil ama bitiş indexi dahil değil\n",
    "print(x1[::2]) ## Burada da istediğimiz başlangıç indexinden sonuncusuna kadar ne kadar aralıkla istediğimizi girebiliriz.\n",
    "print(x1[::-1]) ## Metni tersten yazdırıyoruz"
   ]
  },
  {
   "cell_type": "code",
   "execution_count": 48,
   "id": "80fa4667",
   "metadata": {
    "scrolled": true
   },
   "outputs": [
    {
     "name": "stdout",
     "output_type": "stream",
     "text": [
      "HELLO\n",
      "world\n",
      "Lowercapital\n",
      "True\n",
      "False\n",
      "False\n",
      "True\n",
      "12\n",
      "23\n"
     ]
    }
   ],
   "source": [
    "print(x1.upper()) ## Basit bazı fonksiyonlar. Eğer x1. yaptıktan sonra foksiyonlara erişmek istiyorsan tab kullanabilirsin.\n",
    "print(x2.lower())\n",
    "x3 = \"lowercapital\"\n",
    "print(x3.capitalize())\n",
    "print(x3.startswith(\"low\")) ## Büyük harf ve küçük harfe dikkat edilmeli.\n",
    "print(x3.startswith(\"Low\"))\n",
    "print(x3.startswith(\"lew\"))\n",
    "print(x3.endswith(\"al\"))\n",
    "print(len(x3))\n",
    "print(len(x1 + x2 + x3 + \" \"))"
   ]
  },
  {
   "cell_type": "code",
   "execution_count": 51,
   "id": "09e294a3",
   "metadata": {},
   "outputs": [
    {
     "name": "stdout",
     "output_type": "stream",
     "text": [
      "hellohellohellohellohellohellohellohellohellohello\n",
      "SelamSelamSelam\n",
      "Selamhellohellohellohellohello\n"
     ]
    }
   ],
   "source": [
    "print(x1 * 10)\n",
    "print(\"Selam\" *3)\n",
    "print(\"Selam\"+x1 * 5)"
   ]
  },
  {
   "cell_type": "code",
   "execution_count": 55,
   "id": "7f336687",
   "metadata": {},
   "outputs": [
    {
     "name": "stdout",
     "output_type": "stream",
     "text": [
      "Ali 20 yaşındadır.\n",
      "Ali 20 yaşındadır\n"
     ]
    }
   ],
   "source": [
    "isim = \"Ali\"\n",
    "yaş = 20\n",
    "print(\"{} {} yaşındadır.\".format(isim,yaş))\n",
    "print(f\"{isim} {yaş} yaşındadır.\") ##bu şekilde bir kullanımda var. Önce f koyup daha sonra tırnak açıyoruz."
   ]
  },
  {
   "cell_type": "code",
   "execution_count": 64,
   "id": "b65f54ff",
   "metadata": {},
   "outputs": [
    {
     "name": "stdout",
     "output_type": "stream",
     "text": [
      "<class 'int'>\n",
      "<class 'float'>\n",
      "<class 'int'>\n",
      "7888609052210118054117285652827862296732064351090230047702789306640625\n"
     ]
    }
   ],
   "source": [
    "sayi1 = 15\n",
    "sayi2 = 22.5\n",
    "sayi3 = 5**2 ## ** ifadesi üzeri (üssü) ifadesi anlamındadır.\n",
    "print(type(sayi1))\n",
    "print(type(sayi2))\n",
    "print(sayi3)"
   ]
  },
  {
   "cell_type": "code",
   "execution_count": 75,
   "id": "f8abc2d1",
   "metadata": {},
   "outputs": [
    {
     "name": "stdout",
     "output_type": "stream",
     "text": [
      "1.0\n",
      "22.5\n",
      "22\n",
      "20.44\n"
     ]
    }
   ],
   "source": [
    "sayi4 = sayi2//sayi1 ##tam sayı bölmesi yapar.\n",
    "print(sayi4)\n",
    "sayi5 = -22.5\n",
    "print(abs(sayi5)) ## mutlak değer\n",
    "print(abs(round(sayi5))) ## round fonksiyonu sayıyı yuvarlar. Bu şekilde ikili de kullanabiliriz abs ve roundu.Eğer 0.5 ise 1'e yuvarlanır.\n",
    "sayi6 = 20.435163\n",
    "print(round(sayi6,2)) ## Virgülden sonra kaç basamak yuvarlayacağımızı belirlemek için bu şekilde kullanabiliriz.\n",
    "## işlem önceliği gündelik hayatımızdaki gibidir."
   ]
  },
  {
   "cell_type": "code",
   "execution_count": 84,
   "id": "71047c7c",
   "metadata": {},
   "outputs": [
    {
     "name": "stdout",
     "output_type": "stream",
     "text": [
      "100\n",
      "21\n",
      "<class 'str'>\n"
     ]
    }
   ],
   "source": [
    "number0 = \"100\"\n",
    "number1 = int(number0) ## Eğer bir tip diğer tipe dönüşmeye uygunsa bu kullanımla bunu yapabiliriz.\n",
    "print(number1)\n",
    "number2 = 21.7\n",
    "number3 = int(number2)\n",
    "print(number3)\n",
    "number4 = str(number2)\n",
    "print(type(number4))"
   ]
  },
  {
   "cell_type": "code",
   "execution_count": null,
   "id": "37b86066",
   "metadata": {},
   "outputs": [],
   "source": []
  }
 ],
 "metadata": {
  "kernelspec": {
   "display_name": "Python 3 (ipykernel)",
   "language": "python",
   "name": "python3"
  },
  "language_info": {
   "codemirror_mode": {
    "name": "ipython",
    "version": 3
   },
   "file_extension": ".py",
   "mimetype": "text/x-python",
   "name": "python",
   "nbconvert_exporter": "python",
   "pygments_lexer": "ipython3",
   "version": "3.11.3"
  }
 },
 "nbformat": 4,
 "nbformat_minor": 5
}
