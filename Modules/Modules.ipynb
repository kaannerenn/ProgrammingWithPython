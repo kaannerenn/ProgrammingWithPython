{
 "cells": [
  {
   "cell_type": "code",
   "execution_count": 5,
   "id": "1d37cc7c",
   "metadata": {},
   "outputs": [
    {
     "name": "stdout",
     "output_type": "stream",
     "text": [
      "720\n",
      "5.0\n",
      "56.0\n",
      "56\n"
     ]
    }
   ],
   "source": [
    "import math\n",
    "\n",
    "sonuc = math.factorial(6)\n",
    "sonuc2 = math.sqrt(25)\n",
    "sonuc3 = math.fabs(-56) ##float için mutlak değer\n",
    "print(sonuc)\n",
    "print(sonuc2)\n",
    "print(sonuc3)\n",
    "print(int(sonuc3)) ##şeklinde int cıktısıda alabiliriz "
   ]
  },
  {
   "cell_type": "code",
   "execution_count": 6,
   "id": "b1876487",
   "metadata": {},
   "outputs": [
    {
     "name": "stdout",
     "output_type": "stream",
     "text": [
      "120\n"
     ]
    }
   ],
   "source": [
    "from math import factorial ,sqrt ##1'den fazla import edebiliriz.\n",
    "\n",
    "sonuc = factorial(5) ##Eğer sadece math modülünden factorial metodunu import edersek kullanımı bu şekilde olur.\n",
    "print(sonuc)"
   ]
  },
  {
   "cell_type": "code",
   "execution_count": 7,
   "id": "e8f65e6d",
   "metadata": {},
   "outputs": [
    {
     "name": "stdout",
     "output_type": "stream",
     "text": [
      "7.0\n",
      "43.0\n"
     ]
    }
   ],
   "source": [
    "from math import * ##Bu şekilde import edersek içindeki tüm metodları 1 yukarıdaki gibi kullanabiliriz.\n",
    "\n",
    "sonuc = sqrt(49)\n",
    "sonuc2 = fabs(-43)\n",
    "print(sonuc)\n",
    "print(sonuc2)"
   ]
  },
  {
   "cell_type": "code",
   "execution_count": 8,
   "id": "1d5d61a6",
   "metadata": {},
   "outputs": [],
   "source": [
    "## Kendi modüllerimizide yazabiliyoruz aynı c# da olduğu gibi."
   ]
  },
  {
   "cell_type": "code",
   "execution_count": 9,
   "id": "9fc67cb1",
   "metadata": {},
   "outputs": [
    {
     "name": "stdout",
     "output_type": "stream",
     "text": [
      "['__doc__', '__loader__', '__name__', '__package__', '__spec__', 'acos', 'acosh', 'asin', 'asinh', 'atan', 'atan2', 'atanh', 'cbrt', 'ceil', 'comb', 'copysign', 'cos', 'cosh', 'degrees', 'dist', 'e', 'erf', 'erfc', 'exp', 'exp2', 'expm1', 'fabs', 'factorial', 'floor', 'fmod', 'frexp', 'fsum', 'gamma', 'gcd', 'hypot', 'inf', 'isclose', 'isfinite', 'isinf', 'isnan', 'isqrt', 'lcm', 'ldexp', 'lgamma', 'log', 'log10', 'log1p', 'log2', 'modf', 'nan', 'nextafter', 'perm', 'pi', 'pow', 'prod', 'radians', 'remainder', 'sin', 'sinh', 'sqrt', 'tan', 'tanh', 'tau', 'trunc', 'ulp']\n",
      "__doc__\n",
      "__loader__\n",
      "__name__\n",
      "__package__\n",
      "__spec__\n",
      "acos\n",
      "acosh\n",
      "asin\n",
      "asinh\n",
      "atan\n",
      "atan2\n",
      "atanh\n",
      "cbrt\n",
      "ceil\n",
      "comb\n",
      "copysign\n",
      "cos\n",
      "cosh\n",
      "degrees\n",
      "dist\n",
      "e\n",
      "erf\n",
      "erfc\n",
      "exp\n",
      "exp2\n",
      "expm1\n",
      "fabs\n",
      "factorial\n",
      "floor\n",
      "fmod\n",
      "frexp\n",
      "fsum\n",
      "gamma\n",
      "gcd\n",
      "hypot\n",
      "inf\n",
      "isclose\n",
      "isfinite\n",
      "isinf\n",
      "isnan\n",
      "isqrt\n",
      "lcm\n",
      "ldexp\n",
      "lgamma\n",
      "log\n",
      "log10\n",
      "log1p\n",
      "log2\n",
      "modf\n",
      "nan\n",
      "nextafter\n",
      "perm\n",
      "pi\n",
      "pow\n",
      "prod\n",
      "radians\n",
      "remainder\n",
      "sin\n",
      "sinh\n",
      "sqrt\n",
      "tan\n",
      "tanh\n",
      "tau\n",
      "trunc\n",
      "ulp\n"
     ]
    }
   ],
   "source": [
    "import math      \n",
    "\n",
    "math_ls = dir(math)\n",
    "print(math_ls)\n",
    "for i in math_ls:\n",
    "    print(i)     ## tüm metodları bu şekilde görüntüleyebiliriz."
   ]
  },
  {
   "cell_type": "code",
   "execution_count": 10,
   "id": "6917e653",
   "metadata": {},
   "outputs": [
    {
     "name": "stdout",
     "output_type": "stream",
     "text": [
      "24\n"
     ]
    }
   ],
   "source": [
    "import math as x ## Uzun isimli modüllerde vs. bu şekilde bir kullanım yaparak isim değişikliği yapabiliriz ya da kısaltma.\n",
    "sonuc = x.factorial(4)\n",
    "print(sonuc)"
   ]
  }
 ],
 "metadata": {
  "kernelspec": {
   "display_name": "Python 3 (ipykernel)",
   "language": "python",
   "name": "python3"
  },
  "language_info": {
   "codemirror_mode": {
    "name": "ipython",
    "version": 3
   },
   "file_extension": ".py",
   "mimetype": "text/x-python",
   "name": "python",
   "nbconvert_exporter": "python",
   "pygments_lexer": "ipython3",
   "version": "3.11.3"
  }
 },
 "nbformat": 4,
 "nbformat_minor": 5
}
