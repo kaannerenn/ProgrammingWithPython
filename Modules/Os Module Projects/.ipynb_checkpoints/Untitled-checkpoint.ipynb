{
 "cells": [
  {
   "cell_type": "markdown",
   "id": "bb322081",
   "metadata": {},
   "source": [
    "# Dosyaları tarihe göre sıralandırma"
   ]
  },
  {
   "cell_type": "code",
   "execution_count": 3,
   "id": "e0d8f735",
   "metadata": {},
   "outputs": [
    {
     "name": "stdout",
     "output_type": "stream",
     "text": [
      "Düzenlecek klasör: C:\\Users\\kaann\\ProgrammingWithPython\\Modules\\Os Module Projects\\Projectfiles2\n"
     ]
    }
   ],
   "source": [
    "import os\n",
    "from datetime import datetime\n",
    "def duzenle2():\n",
    "    klasor = input(\"Düzenlecek klasör: \")\n",
    "    dosyalar = []\n",
    "    tarihler = []\n",
    "    def list_dir2():\n",
    "        for dosya in os.listdir(klasor):\n",
    "            if os.path.isdir(os.path.join(klasor,dosya)):\n",
    "                continue\n",
    "            if dosya.startswith(\".\"): ##Gizli dosya olabilir. Bunun kontrolü\n",
    "                continue\n",
    "            else:\n",
    "                dosyalar.append(dosya)\n",
    "    list_dir2()\n",
    "    for dosya in dosyalar:\n",
    "        tarih_components = os.stat(os.path.join(klasor,dosya)).st_ctime\n",
    "        tarih = datetime.fromtimestamp(tarih_components).strftime(\"%d-%m-%Y\")\n",
    "        if tarih in tarihler:\n",
    "            continue\n",
    "        else:\n",
    "            tarihler.append(tarih)\n",
    "    for tarih in tarihler:\n",
    "        if os.path.isdir(os.path.join(klasor,tarih)):\n",
    "            continue\n",
    "        else:\n",
    "            os.mkdir(os.path.join(klasor,tarih))\n",
    "    for dosya in dosyalar:\n",
    "        tarih_components = os.stat(os.path.join(klasor,dosya)).st_ctime\n",
    "        tarih = datetime.fromtimestamp(tarih_components).strftime(\"%d-%m-%Y\")\n",
    "        \n",
    "        os.rename(os.path.join(klasor,dosya),os.path.join(klasor,tarih,dosya))\n",
    "        \n",
    "if __name__ == \"__main__\":\n",
    "    duzenle2()\n",
    "'''Windows'ta st_ctime() fonksiyonu dosyanın oluşturulma zamanı değilde değişiklik zamanını aldığı için her hepsini aynı dosyada\n",
    "topladı. Eğer mac kullanıyor olsaydık st_birthtime ile bu işi halledebilirdik.'''"
   ]
  }
 ],
 "metadata": {
  "kernelspec": {
   "display_name": "Python 3 (ipykernel)",
   "language": "python",
   "name": "python3"
  },
  "language_info": {
   "codemirror_mode": {
    "name": "ipython",
    "version": 3
   },
   "file_extension": ".py",
   "mimetype": "text/x-python",
   "name": "python",
   "nbconvert_exporter": "python",
   "pygments_lexer": "ipython3",
   "version": "3.11.3"
  }
 },
 "nbformat": 4,
 "nbformat_minor": 5
}
