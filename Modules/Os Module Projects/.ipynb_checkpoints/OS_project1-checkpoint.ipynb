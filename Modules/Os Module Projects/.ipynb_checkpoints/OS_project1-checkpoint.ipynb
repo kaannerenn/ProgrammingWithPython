{
 "cells": [
  {
   "cell_type": "markdown",
   "id": "6810247f",
   "metadata": {},
   "source": [
    "# Dosyaları uzantılarına göre sınıflandırma"
   ]
  },
  {
   "cell_type": "code",
   "execution_count": 1,
   "id": "f554b394",
   "metadata": {},
   "outputs": [
    {
     "name": "stdout",
     "output_type": "stream",
     "text": [
      "Düzenlecek klasör: C:\\Users\\kaann\\ProgrammingWithPython\\Modules\\Os Module Projects\\Projectfiles1\n"
     ]
    }
   ],
   "source": [
    "import os\n",
    "\n",
    "def duzenle():\n",
    "    klasor = input(\"Düzenlecek klasör: \")\n",
    "    dosyalar = []\n",
    "    uzantılar = []\n",
    "    def list_dir():\n",
    "        for dosya in os.listdir(klasor):\n",
    "            if os.path.isdir(os.path.join(klasor,dosya)):\n",
    "                continue\n",
    "            if dosya.startswith(\".\"): ##Gizli dosya olabilir. Bunun kontrolü\n",
    "                continue\n",
    "            else:\n",
    "                dosyalar.append(dosya)\n",
    "    list_dir()\n",
    "    #Uzantı alma kısımı\n",
    "    for dosya in dosyalar:\n",
    "        uzantı = dosya.split(\".\")[-1]\n",
    "        if uzantı in uzantılar:\n",
    "            continue\n",
    "        else:\n",
    "            uzantılar.append(uzantı)\n",
    "    for uzantı in uzantılar:\n",
    "        if os.path.isdir(os.path.join(klasor,uzantı)):\n",
    "            continue\n",
    "        else:\n",
    "            os.mkdir(os.path.join(klasor, uzantı))\n",
    "    for dosya in dosyalar:\n",
    "        uzantı = dosya.split(\".\")[-1]\n",
    "        os.rename(os.path.join(klasor,dosya),os.path.join(klasor,uzantı,dosya))\n",
    "if __name__ == \"__main__\":\n",
    "    duzenle()\n",
    "##Projectfiles1 dosyaları düzenlenmiştir."
   ]
  }
 ],
 "metadata": {
  "kernelspec": {
   "display_name": "Python 3 (ipykernel)",
   "language": "python",
   "name": "python3"
  },
  "language_info": {
   "codemirror_mode": {
    "name": "ipython",
    "version": 3
   },
   "file_extension": ".py",
   "mimetype": "text/x-python",
   "name": "python",
   "nbconvert_exporter": "python",
   "pygments_lexer": "ipython3",
   "version": "3.11.3"
  }
 },
 "nbformat": 4,
 "nbformat_minor": 5
}
