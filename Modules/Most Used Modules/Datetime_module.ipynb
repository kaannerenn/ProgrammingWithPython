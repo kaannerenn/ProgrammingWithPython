{
 "cells": [
  {
   "cell_type": "code",
   "execution_count": 8,
   "id": "2e350001",
   "metadata": {},
   "outputs": [
    {
     "name": "stdout",
     "output_type": "stream",
     "text": [
      "2025-03-07\n",
      "<class 'datetime.date'>\n",
      "7\n",
      "3\n",
      "2025\n",
      "4\n",
      "5\n"
     ]
    }
   ],
   "source": [
    "from datetime import date\n",
    "bugun = date.today()\n",
    "print(bugun)\n",
    "print(type(bugun)) \n",
    "print(bugun.day)\n",
    "print(bugun.month)\n",
    "print(bugun.year)\n",
    "print(bugun.weekday()) ## pazartesiyi 0 alıyor\n",
    "print(bugun.isoweekday()) ## pazartesiyi 1. Index alıyor."
   ]
  },
  {
   "cell_type": "code",
   "execution_count": 11,
   "id": "73555fcb",
   "metadata": {},
   "outputs": [
    {
     "name": "stdout",
     "output_type": "stream",
     "text": [
      "2015-08-13\n",
      "4\n"
     ]
    }
   ],
   "source": [
    "gecmis_tarih = date(2015,8,13)\n",
    "print(gecmis_tarih)\n",
    "print(gecmis_tarih.isoweekday())"
   ]
  },
  {
   "cell_type": "code",
   "execution_count": 13,
   "id": "9135a9f7",
   "metadata": {},
   "outputs": [
    {
     "name": "stdout",
     "output_type": "stream",
     "text": [
      "3494 days, 0:00:00\n",
      "<class 'datetime.timedelta'>\n"
     ]
    }
   ],
   "source": [
    "gecen_zaman = bugun - gecmis_tarih\n",
    "print(gecen_zaman)\n",
    "print(type(gecen_zaman))"
   ]
  },
  {
   "cell_type": "code",
   "execution_count": 25,
   "id": "63d63462",
   "metadata": {},
   "outputs": [
    {
     "name": "stdout",
     "output_type": "stream",
     "text": [
      "2025-03-07 14:22:20.092092\n",
      "<class 'datetime.datetime'>\n",
      "2025\n",
      "3\n",
      "7\n",
      "14\n",
      "22\n",
      "20\n",
      "Fri Mar  7 14:22:20 2025\n",
      "2025-03-07\n",
      "14:22:20.092092\n",
      "3\n"
     ]
    }
   ],
   "source": [
    "from datetime import datetime\n",
    "\n",
    "suan = datetime.now()\n",
    "print(suan)\n",
    "print(type(suan))\n",
    "print(suan.year)\n",
    "print(suan.month)\n",
    "print(suan.day)\n",
    "print(suan.hour)\n",
    "print(suan.minute)\n",
    "print(suan.second)\n",
    "print(suan.ctime())\n",
    "print(suan.date())\n",
    "print(suan.time())\n",
    "print(suan.date().month)"
   ]
  },
  {
   "cell_type": "code",
   "execution_count": 27,
   "id": "c94154ba",
   "metadata": {},
   "outputs": [
    {
     "name": "stdout",
     "output_type": "stream",
     "text": [
      "2014-05-26 06:45:32.000123\n",
      "3938 days, 7:36:48.091969\n"
     ]
    }
   ],
   "source": [
    "gecmis_an = datetime(2014,5,26,6,45,32,123)\n",
    "print(gecmis_an)\n",
    "print(suan - gecmis_an)"
   ]
  },
  {
   "cell_type": "code",
   "execution_count": 32,
   "id": "351739d6",
   "metadata": {},
   "outputs": [
    {
     "name": "stdout",
     "output_type": "stream",
     "text": [
      "07:03:2025,,Friday\n",
      "07:03:2025,,Friday\n",
      "07:03:2025\n"
     ]
    }
   ],
   "source": [
    "from datetime import datetime\n",
    "\n",
    "bugun = date.today()\n",
    "suan = datetime.now()\n",
    "\n",
    "print(bugun.strftime(\"%d:%m:%Y,,%A\"))\n",
    "print(suan.strftime(\"%d:%m:%Y,,%A\"))\n",
    "\n",
    "print(datetime.strftime(bugun,\"%d:%m:%Y\"))"
   ]
  },
  {
   "cell_type": "code",
   "execution_count": 35,
   "id": "f37eb6cd",
   "metadata": {},
   "outputs": [
    {
     "name": "stdout",
     "output_type": "stream",
     "text": [
      "2025-03-14 19:31:08.766865\n",
      "2025-02-28 09:28:50.766865\n"
     ]
    }
   ],
   "source": [
    "from datetime import timedelta\n",
    "\n",
    "suan = datetime.now()\n",
    "tdelta = timedelta(days = 7, hours = 5, seconds = 69)\n",
    "print(suan + tdelta)\n",
    "print(suan - tdelta)"
   ]
  },
  {
   "cell_type": "code",
   "execution_count": 21,
   "id": "208aea64",
   "metadata": {},
   "outputs": [
    {
     "name": "stdout",
     "output_type": "stream",
     "text": [
      "171\n"
     ]
    }
   ],
   "source": [
    "## 1 Ocak 1901'den - 31 Aralık 2000'e kadar kaç kere ayın 1'i pazar olur.\n",
    "from datetime import datetime, timedelta\n",
    "\n",
    "first_date = datetime(1901, 1, 1).date()\n",
    "last_date = datetime(2000, 12, 31).date()\n",
    "current_date = first_date\n",
    "count = 0\n",
    "\n",
    "while current_date <= last_date:\n",
    "    if current_date.day == 1 and current_date.weekday() == 6:  # 6, pazar günüdür\n",
    "        count += 1\n",
    "    current_date += timedelta(days=1)\n",
    "\n",
    "print(count)\n",
    "\n"
   ]
  }
 ],
 "metadata": {
  "kernelspec": {
   "display_name": "Python 3 (ipykernel)",
   "language": "python",
   "name": "python3"
  },
  "language_info": {
   "codemirror_mode": {
    "name": "ipython",
    "version": 3
   },
   "file_extension": ".py",
   "mimetype": "text/x-python",
   "name": "python",
   "nbconvert_exporter": "python",
   "pygments_lexer": "ipython3",
   "version": "3.11.3"
  }
 },
 "nbformat": 4,
 "nbformat_minor": 5
}
