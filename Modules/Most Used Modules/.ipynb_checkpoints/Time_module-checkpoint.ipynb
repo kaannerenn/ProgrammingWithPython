{
 "cells": [
  {
   "cell_type": "code",
   "execution_count": 5,
   "id": "437924a4",
   "metadata": {},
   "outputs": [
    {
     "name": "stdout",
     "output_type": "stream",
     "text": [
      "1741335128.896504\n"
     ]
    }
   ],
   "source": [
    "import time\n",
    "\n",
    "zaman = time.time()\n",
    "print(zaman) ## 1 Ocak 1970'den beri geçen saniye."
   ]
  },
  {
   "cell_type": "code",
   "execution_count": 10,
   "id": "0ccfdea7",
   "metadata": {},
   "outputs": [
    {
     "name": "stdout",
     "output_type": "stream",
     "text": [
      "0.9281816482543945\n"
     ]
    }
   ],
   "source": [
    "baslangic = time.time()\n",
    "liste = []\n",
    "for i in range(10000000):\n",
    "    liste.append(i)\n",
    "bitis = time.time()\n",
    "print(bitis - baslangic) ## bir işi ne kadar sürede yaptığımızı hesaplayabiliriz (saniye cinsinden)."
   ]
  },
  {
   "cell_type": "code",
   "execution_count": 14,
   "id": "609dfc54",
   "metadata": {},
   "outputs": [
    {
     "name": "stdout",
     "output_type": "stream",
     "text": [
      "Fri Mar  7 11:33:12 2025\n",
      "Thu Jan  1 05:46:40 1970\n"
     ]
    }
   ],
   "source": [
    "zaman = time.ctime() ## içine bir değer girmediğimizde güncel tarihi verir.\n",
    "print(zaman) \n",
    "zaman2 = time.ctime(10000) ## başlangıç zamandan itibaren 10000 saniye geçerse tarih ne olur.\n",
    "print(zaman2)"
   ]
  },
  {
   "cell_type": "code",
   "execution_count": 16,
   "id": "1b4d9496",
   "metadata": {},
   "outputs": [
    {
     "name": "stdout",
     "output_type": "stream",
     "text": [
      "time.struct_time(tm_year=2025, tm_mon=3, tm_mday=7, tm_hour=11, tm_min=34, tm_sec=22, tm_wday=4, tm_yday=66, tm_isdst=0)\n",
      "time.struct_time(tm_year=1970, tm_mon=1, tm_mday=1, tm_hour=5, tm_min=46, tm_sec=40, tm_wday=3, tm_yday=1, tm_isdst=0)\n"
     ]
    }
   ],
   "source": [
    "zaman = time.localtime() \n",
    "print(zaman)\n",
    "zaman2 = time.localtime(10000)\n",
    "print(zaman2)"
   ]
  },
  {
   "cell_type": "code",
   "execution_count": 19,
   "id": "5e742d5b",
   "metadata": {},
   "outputs": [
    {
     "name": "stdout",
     "output_type": "stream",
     "text": [
      "Fri Mar  7 11:35:23 2025\n"
     ]
    }
   ],
   "source": [
    "zaman = time.localtime()\n",
    "zaman2 = time.asctime(zaman) ##localtime'daki değişkenleri daha düzenli biçimde gösterir.\n",
    "print(zaman2)"
   ]
  },
  {
   "cell_type": "code",
   "execution_count": 24,
   "id": "12d19277",
   "metadata": {},
   "outputs": [
    {
     "name": "stdout",
     "output_type": "stream",
     "text": [
      "07:03:2025 11:42:33\n"
     ]
    }
   ],
   "source": [
    "'''time.strftime?? yaparsak metodun içine gidip kaynak kodlarını görebiliriz.'''\n",
    "zaman = time.strftime(\"%d:%m:%Y %H:%M:%S\") ''' %d = day, %m = month, %Y = year, %H = hour, \n",
    "%M = minute, %S = second. Kaynak kodlarında görebiliriz.'''\n",
    "print(zaman)"
   ]
  },
  {
   "cell_type": "code",
   "execution_count": 27,
   "id": "b1f343db",
   "metadata": {},
   "outputs": [
    {
     "name": "stdout",
     "output_type": "stream",
     "text": [
      "Program sonlandırılıyor...\n",
      "Program sonlandırıldı\n"
     ]
    }
   ],
   "source": [
    "print(\"Program sonlandırılıyor...\")\n",
    "time.sleep(3) ## 3 saniye sonra aşağıdaki komutları uygulamaya başlar\n",
    "print(\"Program sonlandırıldı\")"
   ]
  }
 ],
 "metadata": {
  "kernelspec": {
   "display_name": "Python 3 (ipykernel)",
   "language": "python",
   "name": "python3"
  },
  "language_info": {
   "codemirror_mode": {
    "name": "ipython",
    "version": 3
   },
   "file_extension": ".py",
   "mimetype": "text/x-python",
   "name": "python",
   "nbconvert_exporter": "python",
   "pygments_lexer": "ipython3",
   "version": "3.11.3"
  }
 },
 "nbformat": 4,
 "nbformat_minor": 5
}
