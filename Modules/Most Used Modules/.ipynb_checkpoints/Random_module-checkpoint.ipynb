{
 "cells": [
  {
   "cell_type": "code",
   "execution_count": 6,
   "id": "9049ebf7",
   "metadata": {},
   "outputs": [
    {
     "name": "stdout",
     "output_type": "stream",
     "text": [
      "0.45879475660658364\n",
      "0.5442827491172381\n",
      "0.5754940852961017\n",
      "0.07529579394193331\n",
      "0.9683097829900837\n"
     ]
    }
   ],
   "source": [
    "'''random modülü, rastgele sayılar ve seçimler üretmek için kullanılan bir modüldür. Bu modül, çeşitli rastgelelikelere dayalı\n",
    "işlemler yapmanıza olanak tanır. Genellikle oyunlar, simülasyonlar, testler veya şans oyunları gibi uygulamalarda kullanılır'''\n",
    "import random\n",
    "\n",
    "for i in range(5):\n",
    "    print(random.random()) ##0-1 aralığında rastgele 10 sayı üreten fonksiyondur."
   ]
  },
  {
   "cell_type": "code",
   "execution_count": 7,
   "id": "60a5a638",
   "metadata": {},
   "outputs": [
    {
     "name": "stdout",
     "output_type": "stream",
     "text": [
      "10.161687140700671\n",
      "14.447392459297713\n",
      "10.279927677809956\n",
      "18.664100622304247\n",
      "12.512464846412247\n"
     ]
    }
   ],
   "source": [
    "for i in range(5):\n",
    "    print(random.uniform(10,20)) ## yukarıdaki random fonksiyonuyla aynı işi yapar. Fakat aralık belirtebiliriz."
   ]
  },
  {
   "cell_type": "code",
   "execution_count": 8,
   "id": "32060fd5",
   "metadata": {},
   "outputs": [
    {
     "name": "stdout",
     "output_type": "stream",
     "text": [
      "1\n",
      "3\n",
      "5\n",
      "2\n",
      "2\n"
     ]
    }
   ],
   "source": [
    "for i in range(5):\n",
    "    print(random.randint(1,5)) ## Bu fonksiyon ise rastgele integer üretir. Fakat 1 ve 5 dahildir!!!"
   ]
  },
  {
   "cell_type": "code",
   "execution_count": 11,
   "id": "7d7a9096",
   "metadata": {},
   "outputs": [
    {
     "name": "stdout",
     "output_type": "stream",
     "text": [
      "7\n",
      "7\n",
      "1\n",
      "7\n",
      "4\n"
     ]
    }
   ],
   "source": [
    "for i in range(5):\n",
    "    print(random.randrange(1,10,3)) ## Bu fonksiyon ise 1 ila 10 arasında 3'er artarak random sayı üretir. Fakat 10 dahil değil!!!"
   ]
  },
  {
   "cell_type": "code",
   "execution_count": 19,
   "id": "b6494e9a",
   "metadata": {},
   "outputs": [
    {
     "name": "stdout",
     "output_type": "stream",
     "text": [
      "Pembe\n",
      "['Pembe', 'Beyaz', 'Yeşil', 'Siyah', 'Gri', 'Mavi']\n",
      "['Pembe', 'Yeşil', 'Mavi']\n"
     ]
    }
   ],
   "source": [
    "liste = [\"Siyah\",\"Beyaz\",\"Mavi\",\"Yeşil\",\"Gri\",\"Pembe\"]\n",
    "\n",
    "print(random.choice(liste)) ##Verilen listeden rastgele bir eleman seçer\n",
    "random.shuffle(liste) ## Listedeki elemanların yerini değiştirir. Print edilebilir bir şey değil.\n",
    "print(liste)\n",
    "print(random.sample(liste,3)) ##Listeden rastgele 3 tane eleman seç demektir."
   ]
  },
  {
   "cell_type": "code",
   "execution_count": 41,
   "id": "d80f9ac8",
   "metadata": {},
   "outputs": [
    {
     "name": "stdout",
     "output_type": "stream",
     "text": [
      "100 atış sonrasında 1 gelme olasılığı: 0.167036\n",
      "100 atış sonrasında 2 gelme olasılığı: 0.166688\n",
      "100 atış sonrasında 3 gelme olasılığı: 0.166411\n",
      "100 atış sonrasında 4 gelme olasılığı: 0.166947\n",
      "100 atış sonrasında 5 gelme olasılığı: 0.166359\n",
      "100 atış sonrasında 6 gelme olasılığı: 0.166559\n"
     ]
    }
   ],
   "source": [
    "### Bir zarın 100 kere atıldığında her yüzüne gelen sayıyı tutup olasılık hesaplayalım (random module'ünü kullanarak).\n",
    "zar = {\"1\" : 0 , \"2\" : 0 , \"3\" : 0 , \"4\" : 0 , \"5\" : 0 , \"6\" : 0} \n",
    "for i in range(1000000):\n",
    "    x = random.randint(1,6)\n",
    "    if str(x) == \"1\":\n",
    "        zar[\"1\"] +=1\n",
    "    elif str(x) == \"2\":\n",
    "        zar[\"2\"] +=1\n",
    "    elif str(x) == \"3\":\n",
    "        zar[\"3\"] +=1\n",
    "    elif str(x) == \"4\":\n",
    "        zar[\"4\"] +=1\n",
    "    elif str(x) == \"5\":\n",
    "        zar[\"5\"] +=1\n",
    "    elif str(x) == \"6\":\n",
    "        zar[\"6\"] +=1\n",
    "        \n",
    "for i in range(1, 7):  \n",
    "    print(f\"100 atış sonrasında {i} gelme olasılığı: {zar[str(i)]/1000000}\") \n",
    "    '''Zarı 100 kere attığımızda gelen olasılıklar\n",
    "    cok daha farklıydı. Deneme sayısını arttırınca yüzdelerde birbirine yaklaştı.'''"
   ]
  },
  {
   "cell_type": "code",
   "execution_count": 43,
   "id": "7d5cbb5b",
   "metadata": {},
   "outputs": [
    {
     "name": "stdout",
     "output_type": "stream",
     "text": [
      "Deneme sayimiz = 375 , 6-6 gelme sayımız = 10\n"
     ]
    }
   ],
   "source": [
    "## Tavlada 10 kere 6-6 atmak için kaç kere zar atmanız gerekir ?\n",
    "alti_alti = 0\n",
    "count = 0\n",
    "while True:\n",
    "    zar1 = random.randint(1,6)\n",
    "    zar2 = random.randint(1,6)\n",
    "    count+=1\n",
    "    if zar1 == 6 and zar2 == 6:\n",
    "        alti_alti +=1\n",
    "    if alti_alti == 10:\n",
    "        break\n",
    "print(f\"Deneme sayimiz = {count} , 6-6 gelme sayımız = {10}\")"
   ]
  }
 ],
 "metadata": {
  "kernelspec": {
   "display_name": "Python 3 (ipykernel)",
   "language": "python",
   "name": "python3"
  },
  "language_info": {
   "codemirror_mode": {
    "name": "ipython",
    "version": 3
   },
   "file_extension": ".py",
   "mimetype": "text/x-python",
   "name": "python",
   "nbconvert_exporter": "python",
   "pygments_lexer": "ipython3",
   "version": "3.11.3"
  }
 },
 "nbformat": 4,
 "nbformat_minor": 5
}
