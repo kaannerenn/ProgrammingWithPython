{
 "cells": [
  {
   "cell_type": "code",
   "execution_count": 7,
   "id": "1f2dcec5",
   "metadata": {},
   "outputs": [
    {
     "name": "stdout",
     "output_type": "stream",
     "text": [
      "C:\\Users\\kaann\\ProgrammingWithPython\\Modules\\Most Used Modules\n"
     ]
    }
   ],
   "source": [
    "import os\n",
    "\n",
    "print(os.getcwd()) ## Bilgisayarımızda hangi klasörde olduğumuzu gösterir bu fonksiyon. ## Parametre almaz!!!!!"
   ]
  },
  {
   "cell_type": "code",
   "execution_count": 14,
   "id": "e6b7a3c5",
   "metadata": {},
   "outputs": [
    {
     "name": "stdout",
     "output_type": "stream",
     "text": [
      "C:\\Users\\kaann\\ProgrammingWithPython\n",
      "['.git', '.ipynb_checkpoints', 'Chapter_01.ipynb', 'Chapter_02.ipynb', 'Dictionaries.ipynb', 'Functions.ipynb', 'ifelse_and_loops.ipynb', 'LICENSE', 'Modules', 'Practice', 'Project Euler Solutions', 'README.md', 'Tuples_and_Sets.ipynb']\n",
      "['.ipynb_checkpoints', 'Datetime_module.ipynb', 'Os_module.ipynb', 'Random_module.ipynb', 'Time_module.ipynb']\n",
      ".git\n",
      ".ipynb_checkpoints\n",
      "Chapter_01.ipynb\n",
      "Chapter_02.ipynb\n",
      "Dictionaries.ipynb\n",
      "Functions.ipynb\n",
      "ifelse_and_loops.ipynb\n",
      "LICENSE\n",
      "Modules\n",
      "Practice\n",
      "Project Euler Solutions\n",
      "README.md\n",
      "Tuples_and_Sets.ipynb\n"
     ]
    }
   ],
   "source": [
    "os.chdir(r\"C:\\Users\\kaann\\ProgrammingWithPython\") \n",
    "\"\"\"Bu fonksiyon gitmek istediğimizdosyaya gitmemizi sağlar. Dosya yolunu doğrudan kopyalayıp çift tırnak içine yazarsak \n",
    "bize hata verir. Bunun için ya tırnaktan önce r koymalıyız ya da \\\\ şeklinde 2 ters slaş kullanmalıyız.\"\"\"\n",
    "print(os.getcwd())\n",
    "print(os.listdir()) ## Dosyanın içindekileri görüntülüyebiliriz.\n",
    "print(os.listdir(r\"C:\\Users\\kaann\\ProgrammingWithPython\\Modules\\Most Used Modules\")) ## İstediğimiz dosyanın içeriğini görüntüleyebiliriz.\n",
    "for dosya in os.listdir():  ##bu şekilde daha okunaklı bir liste yaratabiliriz.\n",
    "    print(dosya)"
   ]
  },
  {
   "cell_type": "code",
   "execution_count": 15,
   "id": "4ceaf7f5",
   "metadata": {},
   "outputs": [],
   "source": [
    "os.mkdir(\"TrialFolder\") ## mkdir fonksiyonuyla dosya oluşturabiliriz. ## Aynı isimli bir dosya daha oluşturmaya çalışırsak hata verir."
   ]
  },
  {
   "cell_type": "code",
   "execution_count": 16,
   "id": "891c46aa",
   "metadata": {},
   "outputs": [],
   "source": [
    "os.makedirs(\"Trial1/Trial2/Trial3\") ## İç içe dosyalar oluşturur."
   ]
  },
  {
   "cell_type": "code",
   "execution_count": 17,
   "id": "534bfb19",
   "metadata": {},
   "outputs": [],
   "source": [
    "os.rmdir(\"TrialFolder\") ##Silmek istediğimiz dosyayı silen fonksiyon. Tek 1 dosya siler."
   ]
  },
  {
   "cell_type": "code",
   "execution_count": 18,
   "id": "7f82e880",
   "metadata": {},
   "outputs": [],
   "source": [
    "os.removedirs(\"Trial1/Trial2/Trial3\") ##3lü dosyayı siler. ##Eğer dosyaların içi boş değilse silmez."
   ]
  },
  {
   "cell_type": "code",
   "execution_count": 20,
   "id": "a05f33f4",
   "metadata": {},
   "outputs": [
    {
     "name": "stdout",
     "output_type": "stream",
     "text": [
      ".git\n"
     ]
    }
   ],
   "source": [
    "silinecek = os.listdir()[0]\n",
    "print(silinecek) \n",
    "##os.remove(silinecek) bu fonksiyonla istediğimiz dosyayı silebiliriz. \n",
    "##os.remove(r\"C:\\Users\\kaann\\ProgrammingWithPython/Chapter_01\") şeklinde de dosya yolu girerek silebiliriz."
   ]
  },
  {
   "cell_type": "code",
   "execution_count": 22,
   "id": "edf2cf3a",
   "metadata": {},
   "outputs": [
    {
     "name": "stdout",
     "output_type": "stream",
     "text": [
      "C:\\Users\\kaann\\ProgrammingWithPython\n"
     ]
    }
   ],
   "source": [
    "print(os.getcwd())\n",
    "os.mkdir(\"trialfolder\")"
   ]
  },
  {
   "cell_type": "code",
   "execution_count": 23,
   "id": "7965dd77",
   "metadata": {},
   "outputs": [],
   "source": [
    "os.rename(\"trialfolder\",\"TrialFolder\") ##Dosyanın ismini rename fonksiyonuyla değiştirebiliriz, virgülden sonrası yeni ismidir."
   ]
  },
  {
   "cell_type": "code",
   "execution_count": 24,
   "id": "f8d694d7",
   "metadata": {},
   "outputs": [],
   "source": [
    "os.rename(\"Trialfolder\",r\"C:\\Users\\kaann\\ProgrammingWithPython\\Modules\\trialfolder\")\n",
    "##Dosyayı yeniden isimlendirirken dizinini de değiştirebiliriz."
   ]
  },
  {
   "cell_type": "code",
   "execution_count": 36,
   "id": "318fec52",
   "metadata": {},
   "outputs": [
    {
     "ename": "FileNotFoundError",
     "evalue": "[WinError 2] Sistem belirtilen dosyayı bulamıyor: 'C:\\\\Users\\\\kaann\\\\ProgrammingWithPython\\\\Modules\\\\trialfolder'",
     "output_type": "error",
     "traceback": [
      "\u001b[1;31m---------------------------------------------------------------------------\u001b[0m",
      "\u001b[1;31mFileNotFoundError\u001b[0m                         Traceback (most recent call last)",
      "Cell \u001b[1;32mIn[36], line 1\u001b[0m\n\u001b[1;32m----> 1\u001b[0m os\u001b[38;5;241m.\u001b[39mrmdir(\u001b[38;5;124mr\u001b[39m\u001b[38;5;124m\"\u001b[39m\u001b[38;5;124mC:\u001b[39m\u001b[38;5;124m\\\u001b[39m\u001b[38;5;124mUsers\u001b[39m\u001b[38;5;124m\\\u001b[39m\u001b[38;5;124mkaann\u001b[39m\u001b[38;5;124m\\\u001b[39m\u001b[38;5;124mProgrammingWithPython\u001b[39m\u001b[38;5;124m\\\u001b[39m\u001b[38;5;124mModules\u001b[39m\u001b[38;5;124m\\\u001b[39m\u001b[38;5;124mtrialfolder\u001b[39m\u001b[38;5;124m\"\u001b[39m)\n",
      "\u001b[1;31mFileNotFoundError\u001b[0m: [WinError 2] Sistem belirtilen dosyayı bulamıyor: 'C:\\\\Users\\\\kaann\\\\ProgrammingWithPython\\\\Modules\\\\trialfolder'"
     ]
    }
   ],
   "source": [
    "os.rmdir(r\"C:\\Users\\kaann\\ProgrammingWithPython\\Modules\\trialfolder\") ## Dosyayı sildiğimiz için hata aldık. 2.ye çalıştırınca."
   ]
  },
  {
   "cell_type": "code",
   "execution_count": 48,
   "id": "4575e93e",
   "metadata": {},
   "outputs": [
    {
     "name": "stdout",
     "output_type": "stream",
     "text": [
      "C:\\Users\\kaann\\ProgrammingWithPython\n",
      "1741372754.846961\n",
      "2025-03-07 21:39:14.846961\n",
      "4096\n",
      "1741202352.2260282\n",
      "2025-03-05 22:19:12.226028\n"
     ]
    }
   ],
   "source": [
    "from datetime import datetime\n",
    "print(os.getcwd())\n",
    "print(os.stat(\"Practice\").st_atime)\n",
    "zaman = datetime.fromtimestamp(os.stat(\"Practice\").st_atime) ##dosyanın son erişim tarihine ulaşabiliriz.\n",
    "print(zaman)\n",
    "print(os.stat(\"Practice\").st_size) ## Dosyanın boyutunu söyler.\n",
    "print(os.stat(\"Practice\").st_mtime) # Son değiştirilme zamanı\n",
    "zaman2 = datetime.fromtimestamp(os.stat(\"Practice\").st_mtime)\n",
    "print(zaman2)"
   ]
  },
  {
   "cell_type": "code",
   "execution_count": 51,
   "id": "72e4bfe8",
   "metadata": {},
   "outputs": [
    {
     "name": "stdout",
     "output_type": "stream",
     "text": [
      "C:\\Users\\kaann\\ProgrammingWithPython\n",
      "Geçerli klasor C:\\Users\\kaann\\ProgrammingWithPython\\Modules\n",
      "İçindeki klasorler ['.ipynb_checkpoints', 'Most Used Modules']\n",
      "İçindeki dosyalar ['Modules.ipynb']\n",
      "\n",
      "Geçerli klasor C:\\Users\\kaann\\ProgrammingWithPython\\Modules\\.ipynb_checkpoints\n",
      "İçindeki klasorler []\n",
      "İçindeki dosyalar ['Modules-checkpoint.ipynb']\n",
      "\n",
      "Geçerli klasor C:\\Users\\kaann\\ProgrammingWithPython\\Modules\\Most Used Modules\n",
      "İçindeki klasorler ['.ipynb_checkpoints']\n",
      "İçindeki dosyalar ['Datetime_module.ipynb', 'Os_module.ipynb', 'Random_module.ipynb', 'Time_module.ipynb']\n",
      "\n",
      "Geçerli klasor C:\\Users\\kaann\\ProgrammingWithPython\\Modules\\Most Used Modules\\.ipynb_checkpoints\n",
      "İçindeki klasorler []\n",
      "İçindeki dosyalar ['Datetime_module-checkpoint.ipynb', 'Os_module-checkpoint.ipynb', 'Random_module-checkpoint.ipynb', 'Time_module-checkpoint.ipynb']\n",
      "\n"
     ]
    }
   ],
   "source": [
    "print(os.getcwd())\n",
    "for gecerli_klasor, icindeki_klasorler, icindeki_dosyalar in os.walk(r\"C:\\Users\\kaann\\ProgrammingWithPython\\Modules\"):\n",
    "    '''os.walk fonksiyonuna parametre girmek zorundayız'''\n",
    "    print(\"Geçerli klasor\", gecerli_klasor)\n",
    "    print(\"İçindeki klasorler\", icindeki_klasorler)\n",
    "    print(\"İçindeki dosyalar\", icindeki_dosyalar)\n",
    "    print() ##New line için"
   ]
  },
  {
   "cell_type": "code",
   "execution_count": 54,
   "id": "6a06fffc",
   "metadata": {},
   "outputs": [
    {
     "name": "stdout",
     "output_type": "stream",
     "text": [
      "Deneme1\\Deneme2\\Deneme3\n",
      "/Deneme2\\Deneme3\n"
     ]
    }
   ],
   "source": [
    "print(os.path.join(\"Deneme1\",\"Deneme2\",\"Deneme3\")) \n",
    "##ifadesi, işletim sistemine uygun şekilde belirtilen dizin yollarını birleştirir.\n",
    "print(os.path.join(\"Deneme1\",\"/Deneme2\",\"Deneme3\")) ##Eğer başına / koyarsak orayı başlangıç konumu yaparız."
   ]
  },
  {
   "cell_type": "code",
   "execution_count": 66,
   "id": "ab8d35db",
   "metadata": {},
   "outputs": [
    {
     "name": "stdout",
     "output_type": "stream",
     "text": [
      "False\n",
      "True\n",
      "False\n",
      "True\n",
      "False\n"
     ]
    }
   ],
   "source": [
    "print(os.path.isfile(r\"C:\\Users\\kaann\\ProgrammingWithPython\\Modules\")) ## Bu bir folder olduğu için False döndürüyor\n",
    "print(os.path.isfile(r\"C:\\Users\\kaann\\ProgrammingWithPython\\Modules\\Modules.ipynb\"))\n",
    "print(os.path.isfile(\"asdkasdasd\")) ##Eğer olmayan bir dosya girersekte False cevabını alırız.\n",
    "print(os.path.isdir(r\"C:\\Users\\kaann\\ProgrammingWithPython\\Modules\"))\n",
    "print(os.path.isdir(r\"C:\\Users\\kaann\\ProgrammingWithPython\\Modules\\Modules.ipynb\"))"
   ]
  },
  {
   "cell_type": "code",
   "execution_count": 68,
   "id": "96fd69e1",
   "metadata": {},
   "outputs": [
    {
     "name": "stdout",
     "output_type": "stream",
     "text": [
      "('C:\\\\Users\\\\kaann\\\\ProgrammingWithPython\\\\Modules\\\\Modules', '.ipynb')\n"
     ]
    }
   ],
   "source": [
    "print(os.path.splitext(r\"C:\\Users\\kaann\\ProgrammingWithPython\\Modules\\Modules.ipynb\")) ##Dosyanın uzantısını ve dizinini ayırır"
   ]
  }
 ],
 "metadata": {
  "kernelspec": {
   "display_name": "Python 3 (ipykernel)",
   "language": "python",
   "name": "python3"
  },
  "language_info": {
   "codemirror_mode": {
    "name": "ipython",
    "version": 3
   },
   "file_extension": ".py",
   "mimetype": "text/x-python",
   "name": "python",
   "nbconvert_exporter": "python",
   "pygments_lexer": "ipython3",
   "version": "3.11.3"
  }
 },
 "nbformat": 4,
 "nbformat_minor": 5
}
